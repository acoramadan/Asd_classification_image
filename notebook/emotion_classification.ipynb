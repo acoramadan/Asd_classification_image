{
 "cells": [
  {
   "cell_type": "code",
   "execution_count": 1,
   "id": "3edc504a",
   "metadata": {},
   "outputs": [],
   "source": [
    "import warnings\n",
    "warnings.filterwarnings(\"ignore\")\n",
    "import gc\n",
    "import numpy as np\n",
    "import pandas as pd\n",
    "import itertools\n",
    "from collections import Counter\n",
    "import matplotlib.pyplot as plt\n",
    "from sklearn.metrics import(\n",
    "    accuracy_score, confusion_matrix, classification_report, roc_auc_score,f1_score\n",
    ")\n",
    "from imblearn.over_sampling import RandomOverSampler\n",
    "import accelerate\n",
    "import evaluate\n",
    "from datasets import Dataset, ClassLabel\n",
    "from transformers import (\n",
    "    TrainingArguments,\n",
    "    Trainer,\n",
    "    ViTImageProcessor,\n",
    "    ViTForImageClassification,\n",
    "    DefaultDataCollator\n",
    ")\n",
    "from datasets import Image as img\n",
    "import torch\n",
    "from torch.utils.data import DataLoader\n",
    "from torchvision.transforms import (\n",
    "    CenterCrop,\n",
    "    Compose,\n",
    "    Normalize,\n",
    "    RandomHorizontalFlip,\n",
    "    RandomRotation,\n",
    "    RandomHorizontalFlip,\n",
    "    RandomAdjustSharpness,\n",
    "    Resize,\n",
    "    ToTensor\n",
    ")\n",
    "import torch \n",
    "from PIL import Image"
   ]
  },
  {
   "cell_type": "code",
   "execution_count": 2,
   "id": "49a03ae7",
   "metadata": {},
   "outputs": [
    {
     "name": "stdout",
     "output_type": "stream",
     "text": [
      "Using device: cuda\n"
     ]
    }
   ],
   "source": [
    "device = torch.device(\"cuda\" if torch.cuda.is_available() else \"cpu\")\n",
    "print(f\"Using device: {device}\")"
   ]
  },
  {
   "cell_type": "code",
   "execution_count": 3,
   "id": "5c0f1530",
   "metadata": {},
   "outputs": [],
   "source": [
    "from PIL import ImageFile\n",
    "ImageFile.LOAD_TRUNCATED_IMAGES = True"
   ]
  },
  {
   "cell_type": "code",
   "execution_count": 4,
   "id": "a5e134e9",
   "metadata": {},
   "outputs": [
    {
     "name": "stdout",
     "output_type": "stream",
     "text": [
      "70816 70816\n",
      "(70816, 2)\n"
     ]
    }
   ],
   "source": [
    "image_dict = {}\n",
    "from pathlib import Path\n",
    "from tqdm import tqdm\n",
    "import os\n",
    "\n",
    "file_names = []\n",
    "labels = []\n",
    "for file in Path(\"../data/images/images\").rglob(\"*.jpg\"):\n",
    "    label = file.parent.name \n",
    "    labels.append(label)\n",
    "    file_names.append(str(file))\n",
    "\n",
    "print(len(file_names), len(labels))\n",
    "df = pd.DataFrame({\"image\": file_names, \"label\": labels})\n",
    "print(df.shape)"
   ]
  },
  {
   "cell_type": "code",
   "execution_count": 5,
   "id": "0b8ec273",
   "metadata": {},
   "outputs": [
    {
     "data": {
      "text/html": [
       "<div>\n",
       "<style scoped>\n",
       "    .dataframe tbody tr th:only-of-type {\n",
       "        vertical-align: middle;\n",
       "    }\n",
       "\n",
       "    .dataframe tbody tr th {\n",
       "        vertical-align: top;\n",
       "    }\n",
       "\n",
       "    .dataframe thead th {\n",
       "        text-align: right;\n",
       "    }\n",
       "</style>\n",
       "<table border=\"1\" class=\"dataframe\">\n",
       "  <thead>\n",
       "    <tr style=\"text-align: right;\">\n",
       "      <th></th>\n",
       "      <th>image</th>\n",
       "      <th>label</th>\n",
       "    </tr>\n",
       "  </thead>\n",
       "  <tbody>\n",
       "    <tr>\n",
       "      <th>0</th>\n",
       "      <td>..\\data\\images\\images\\train\\angry\\0.jpg</td>\n",
       "      <td>angry</td>\n",
       "    </tr>\n",
       "    <tr>\n",
       "      <th>1</th>\n",
       "      <td>..\\data\\images\\images\\train\\angry\\1.jpg</td>\n",
       "      <td>angry</td>\n",
       "    </tr>\n",
       "    <tr>\n",
       "      <th>2</th>\n",
       "      <td>..\\data\\images\\images\\train\\angry\\10.jpg</td>\n",
       "      <td>angry</td>\n",
       "    </tr>\n",
       "    <tr>\n",
       "      <th>3</th>\n",
       "      <td>..\\data\\images\\images\\train\\angry\\10002.jpg</td>\n",
       "      <td>angry</td>\n",
       "    </tr>\n",
       "    <tr>\n",
       "      <th>4</th>\n",
       "      <td>..\\data\\images\\images\\train\\angry\\10016.jpg</td>\n",
       "      <td>angry</td>\n",
       "    </tr>\n",
       "  </tbody>\n",
       "</table>\n",
       "</div>"
      ],
      "text/plain": [
       "                                         image  label\n",
       "0      ..\\data\\images\\images\\train\\angry\\0.jpg  angry\n",
       "1      ..\\data\\images\\images\\train\\angry\\1.jpg  angry\n",
       "2     ..\\data\\images\\images\\train\\angry\\10.jpg  angry\n",
       "3  ..\\data\\images\\images\\train\\angry\\10002.jpg  angry\n",
       "4  ..\\data\\images\\images\\train\\angry\\10016.jpg  angry"
      ]
     },
     "execution_count": 5,
     "metadata": {},
     "output_type": "execute_result"
    }
   ],
   "source": [
    "df.head()"
   ]
  },
  {
   "cell_type": "code",
   "execution_count": 6,
   "id": "11e5395a",
   "metadata": {},
   "outputs": [
    {
     "name": "stdout",
     "output_type": "stream",
     "text": [
      "(125846, 2)\n"
     ]
    }
   ],
   "source": [
    "y = df[['label']]\n",
    "df = df.drop(columns=['label'],axis=1)\n",
    "ros = RandomOverSampler(random_state=83)\n",
    "\n",
    "df, y_resampled = ros.fit_resample(df, y)\n",
    "\n",
    "del y\n",
    "df['label'] = y_resampled\n",
    "\n",
    "del y_resampled\n",
    "gc.collect()\n",
    "print(df.shape)"
   ]
  },
  {
   "cell_type": "code",
   "execution_count": 7,
   "id": "c1dfe8b2",
   "metadata": {},
   "outputs": [],
   "source": [
    "dataset = Dataset.from_pandas(df).cast_column(\"image\", img())"
   ]
  },
  {
   "cell_type": "code",
   "execution_count": 8,
   "id": "0e5159a7",
   "metadata": {},
   "outputs": [
    {
     "name": "stdout",
     "output_type": "stream",
     "text": [
      "Labels subset: ['angry', 'angry', 'angry', 'angry', 'angry']\n"
     ]
    }
   ],
   "source": [
    "labels_subset = labels[:5]\n",
    "print(\"Labels subset:\", labels_subset)"
   ]
  },
  {
   "cell_type": "code",
   "execution_count": 9,
   "id": "bd4acf48",
   "metadata": {},
   "outputs": [
    {
     "name": "stdout",
     "output_type": "stream",
     "text": [
      "Label to ID mapping: {'sad': 0, 'disgust': 1, 'angry': 2, 'neutral': 3, 'fear': 4, 'surprise': 5, 'happy': 6}\n",
      "ID to Label mapping: {0: 'sad', 1: 'disgust', 2: 'angry', 3: 'neutral', 4: 'fear', 5: 'surprise', 6: 'happy'}\n"
     ]
    }
   ],
   "source": [
    "labels_list = ['sad', 'disgust', 'angry', 'neutral', 'fear', 'surprise', 'happy']\n",
    "\n",
    "label2id, id2label = dict(), dict()\n",
    "\n",
    "for i, label in enumerate(labels_list):\n",
    "    label2id[label] = i\n",
    "    id2label[i] = label\n",
    "\n",
    "print(\"Label to ID mapping:\", label2id)\n",
    "print(\"ID to Label mapping:\", id2label)"
   ]
  },
  {
   "cell_type": "code",
   "execution_count": 10,
   "id": "4acd3ef1",
   "metadata": {},
   "outputs": [
    {
     "data": {
      "application/vnd.jupyter.widget-view+json": {
       "model_id": "16cbc85fe76740d892efbd1e07b5edee",
       "version_major": 2,
       "version_minor": 0
      },
      "text/plain": [
       "Map:   0%|          | 0/125846 [00:00<?, ? examples/s]"
      ]
     },
     "metadata": {},
     "output_type": "display_data"
    },
    {
     "data": {
      "application/vnd.jupyter.widget-view+json": {
       "model_id": "b6b4c4e3abd3430ab55334adc14d763b",
       "version_major": 2,
       "version_minor": 0
      },
      "text/plain": [
       "Casting the dataset:   0%|          | 0/125846 [00:00<?, ? examples/s]"
      ]
     },
     "metadata": {},
     "output_type": "display_data"
    }
   ],
   "source": [
    "from datasets import ClassLabel\n",
    "ClassLabel = ClassLabel(num_classes=len(labels_list), names=labels_list)\n",
    "\n",
    "def map_labels(example):\n",
    "    example['label'] = ClassLabel.str2int(example['label'])\n",
    "    return example \n",
    "dataset = dataset.map(map_labels, batched=True)\n",
    "\n",
    "dataset = dataset.cast_column(\"label\", ClassLabel)\n",
    "dataset = dataset.train_test_split(test_size = 0.4, shuffle=True, stratify_by_column=\"label\")\n",
    "\n",
    "train_data = dataset['train']\n",
    "test_data = dataset['test']"
   ]
  },
  {
   "cell_type": "code",
   "execution_count": 22,
   "id": "5fd57d43",
   "metadata": {},
   "outputs": [
    {
     "name": "stdout",
     "output_type": "stream",
     "text": [
      "size: 224\n"
     ]
    }
   ],
   "source": [
    "model = 'google/vit-base-patch16-224-in21k'\n",
    "processor = ViTImageProcessor.from_pretrained(model)\n",
    "image_mean, image_std = processor.image_mean, processor.image_std\n",
    "\n",
    "size = processor.size['height']\n",
    "print(\"size:\", size)\n",
    "\n",
    "normalize = Normalize(mean=image_mean, std=image_std)\n",
    "\n",
    "_train_transforms = Compose(\n",
    "    [\n",
    "        Resize((size,size)),\n",
    "        RandomRotation(90),\n",
    "        RandomAdjustSharpness(2),\n",
    "        RandomHorizontalFlip(0.5),\n",
    "        ToTensor(),\n",
    "        normalize,\n",
    "    ]\n",
    ")\n",
    "_val_transforms = Compose(\n",
    "    [\n",
    "        Resize((size,size)),\n",
    "        ToTensor(),\n",
    "        normalize,\n",
    "    ]\n",
    ")\n",
    "\n",
    "def train_transform(examples):\n",
    "    examples['pixel_values'] = [_train_transforms(image.convert(\"RGB\")) for image in examples['image']]\n",
    "    return examples\n",
    "\n",
    "def val_transforms(examples):\n",
    "    examples['pixel_values'] = [_val_transforms(image.convert(\"RGB\")) for image in examples['image']]\n",
    "    return examples"
   ]
  },
  {
   "cell_type": "code",
   "execution_count": 12,
   "id": "6f34336d",
   "metadata": {},
   "outputs": [],
   "source": [
    "train_data.set_transform(train_transform)\n",
    "test_data.set_transform(val_transforms)"
   ]
  },
  {
   "cell_type": "code",
   "execution_count": 13,
   "id": "0d38c8f7",
   "metadata": {},
   "outputs": [],
   "source": [
    "def collate_fn(examples):\n",
    "    pixel_values = torch.stack([example[\"pixel_values\"] for example in examples])\n",
    "\n",
    "    labels = torch.tensor([example['label'] for example in examples])\n",
    "\n",
    "    return {\"pixel_values\": pixel_values, \"labels\": labels}"
   ]
  },
  {
   "cell_type": "code",
   "execution_count": 23,
   "id": "394956f5",
   "metadata": {},
   "outputs": [
    {
     "name": "stderr",
     "output_type": "stream",
     "text": [
      "Some weights of ViTForImageClassification were not initialized from the model checkpoint at google/vit-base-patch16-224-in21k and are newly initialized: ['classifier.bias', 'classifier.weight']\n",
      "You should probably TRAIN this model on a down-stream task to be able to use it for predictions and inference.\n"
     ]
    },
    {
     "name": "stdout",
     "output_type": "stream",
     "text": [
      "28.356871\n",
      "Model is on device: cuda:0\n"
     ]
    }
   ],
   "source": [
    "model = ViTForImageClassification.from_pretrained(model, num_labels=len(labels_list))\n",
    "model.config.id2label = id2label\n",
    "model.config.label2id = label2id\n",
    "\n",
    "for param in model.vit.parameters():\n",
    "    param.requires_grad = False\n",
    "\n",
    "for param in model.classifier.parameters():\n",
    "    param.requires_grad = True\n",
    "\n",
    "for param in model.vit.encoder.layer[-4:].parameters():\n",
    "    param.requires_grad = True\n",
    "    \n",
    "model.to(device)\n",
    "\n",
    "print(model.num_parameters(only_trainable=True) / 1e6)\n",
    "print(f\"Model is on device: {next(model.parameters()).device}\")"
   ]
  },
  {
   "cell_type": "code",
   "execution_count": 15,
   "id": "1aa09cde",
   "metadata": {},
   "outputs": [],
   "source": [
    "accuracy = evaluate.load(\"accuracy\")\n",
    "\n",
    "def compute_metrics(eval_pred):\n",
    "    predictions = eval_pred.predictions\n",
    "    label_ids = eval_pred.label_ids\n",
    "    predicted_labels = predictions.argmax(axis=1)\n",
    "    acc_score = accuracy.compute(predictions=predicted_labels, references=label_ids)['accuracy']\n",
    "    return {\"accuracy\": acc_score}  "
   ]
  },
  {
   "cell_type": "code",
   "execution_count": 24,
   "id": "60ffc43c",
   "metadata": {},
   "outputs": [
    {
     "name": "stdout",
     "output_type": "stream",
     "text": [
      "GPU Memory: 6.4 GB\n"
     ]
    }
   ],
   "source": [
    "metric_name = 'accuracy'\n",
    "model_name = 'facial_emotions_image_detection'\n",
    "num_train_epochs = 30\n",
    "\n",
    "if torch.cuda.is_available():\n",
    "    gpu_memory = torch.cuda.get_device_properties(0).total_memory / 1e9\n",
    "    print(f\"GPU Memory: {gpu_memory:.1f} GB\")\n",
    "\n",
    "args = TrainingArguments(\n",
    "    output_dir=model_name,\n",
    "    logging_dir = './logs',\n",
    "    eval_strategy=\"epoch\",\n",
    "    learning_rate= 5e-5,\n",
    "    lr_scheduler_type='cosine',\n",
    "    warmup_ratio=0.1,\n",
    "    per_device_eval_batch_size= 32 if gpu_memory > 8 else 8,\n",
    "    per_device_train_batch_size= 64 if gpu_memory > 8 else 32,\n",
    "    num_train_epochs = num_train_epochs,\n",
    "    weight_decay= 0.02,\n",
    "    warmup_steps = 100,\n",
    "    remove_unused_columns=False,\n",
    "    save_strategy='epoch',\n",
    "    load_best_model_at_end=True,\n",
    "    save_total_limit=1,\n",
    "    report_to=\"none\",\n",
    "    eval_steps=500,\n",
    "    logging_steps=100,\n",
    "    dataloader_pin_memory=False,\n",
    "    dataloader_num_workers=0,\n",
    "    fp16=True,\n",
    ")"
   ]
  },
  {
   "cell_type": "code",
   "execution_count": 25,
   "id": "44cf692d",
   "metadata": {},
   "outputs": [],
   "source": [
    "from transformers import EarlyStoppingCallback\n",
    "\n",
    "callback = EarlyStoppingCallback(\n",
    "    early_stopping_patience=8,\n",
    "    early_stopping_threshold=0.06\n",
    ")\n",
    "trainer = Trainer(\n",
    "    model,\n",
    "    args,\n",
    "    train_dataset = train_data,\n",
    "    eval_dataset = test_data,\n",
    "    data_collator = collate_fn,\n",
    "    compute_metrics=compute_metrics,\n",
    "    tokenizer=processor,\n",
    "    callbacks=[callback],\n",
    ")"
   ]
  },
  {
   "cell_type": "code",
   "execution_count": 26,
   "id": "00ed8d5e",
   "metadata": {},
   "outputs": [
    {
     "data": {
      "text/html": [
       "\n",
       "    <div>\n",
       "      \n",
       "      <progress value='12586' max='6293' style='width:300px; height:20px; vertical-align: middle;'></progress>\n",
       "      [6293/6293 25:18]\n",
       "    </div>\n",
       "    "
      ],
      "text/plain": [
       "<IPython.core.display.HTML object>"
      ]
     },
     "metadata": {},
     "output_type": "display_data"
    },
    {
     "data": {
      "text/plain": [
       "{'eval_loss': 1.9411166906356812,\n",
       " 'eval_model_preparation_time': 0.0036,\n",
       " 'eval_accuracy': 0.18152923180833946,\n",
       " 'eval_runtime': 234.1423,\n",
       " 'eval_samples_per_second': 214.993,\n",
       " 'eval_steps_per_second': 26.877}"
      ]
     },
     "execution_count": 26,
     "metadata": {},
     "output_type": "execute_result"
    }
   ],
   "source": [
    "trainer.evaluate()"
   ]
  },
  {
   "cell_type": "code",
   "execution_count": 27,
   "id": "77cc4b93",
   "metadata": {},
   "outputs": [
    {
     "data": {
      "text/html": [
       "\n",
       "    <div>\n",
       "      \n",
       "      <progress value='23600' max='70800' style='width:300px; height:20px; vertical-align: middle;'></progress>\n",
       "      [23600/70800 2:41:25 < 5:22:52, 2.44 it/s, Epoch 10/30]\n",
       "    </div>\n",
       "    <table border=\"1\" class=\"dataframe\">\n",
       "  <thead>\n",
       " <tr style=\"text-align: left;\">\n",
       "      <th>Epoch</th>\n",
       "      <th>Training Loss</th>\n",
       "      <th>Validation Loss</th>\n",
       "      <th>Model Preparation Time</th>\n",
       "      <th>Accuracy</th>\n",
       "    </tr>\n",
       "  </thead>\n",
       "  <tbody>\n",
       "    <tr>\n",
       "      <td>1</td>\n",
       "      <td>1.014400</td>\n",
       "      <td>1.034392</td>\n",
       "      <td>0.003600</td>\n",
       "      <td>0.617056</td>\n",
       "    </tr>\n",
       "    <tr>\n",
       "      <td>2</td>\n",
       "      <td>0.873500</td>\n",
       "      <td>0.922285</td>\n",
       "      <td>0.003600</td>\n",
       "      <td>0.662051</td>\n",
       "    </tr>\n",
       "    <tr>\n",
       "      <td>3</td>\n",
       "      <td>0.768200</td>\n",
       "      <td>0.865786</td>\n",
       "      <td>0.003600</td>\n",
       "      <td>0.679811</td>\n",
       "    </tr>\n",
       "    <tr>\n",
       "      <td>4</td>\n",
       "      <td>0.651000</td>\n",
       "      <td>0.824593</td>\n",
       "      <td>0.003600</td>\n",
       "      <td>0.701106</td>\n",
       "    </tr>\n",
       "    <tr>\n",
       "      <td>5</td>\n",
       "      <td>0.629500</td>\n",
       "      <td>0.806944</td>\n",
       "      <td>0.003600</td>\n",
       "      <td>0.698305</td>\n",
       "    </tr>\n",
       "    <tr>\n",
       "      <td>6</td>\n",
       "      <td>0.542400</td>\n",
       "      <td>0.773014</td>\n",
       "      <td>0.003600</td>\n",
       "      <td>0.713383</td>\n",
       "    </tr>\n",
       "    <tr>\n",
       "      <td>7</td>\n",
       "      <td>0.471100</td>\n",
       "      <td>0.760681</td>\n",
       "      <td>0.003600</td>\n",
       "      <td>0.725938</td>\n",
       "    </tr>\n",
       "    <tr>\n",
       "      <td>8</td>\n",
       "      <td>0.416900</td>\n",
       "      <td>0.713383</td>\n",
       "      <td>0.003600</td>\n",
       "      <td>0.740917</td>\n",
       "    </tr>\n",
       "    <tr>\n",
       "      <td>9</td>\n",
       "      <td>0.360600</td>\n",
       "      <td>0.723185</td>\n",
       "      <td>0.003600</td>\n",
       "      <td>0.742685</td>\n",
       "    </tr>\n",
       "    <tr>\n",
       "      <td>10</td>\n",
       "      <td>0.358700</td>\n",
       "      <td>0.693883</td>\n",
       "      <td>0.003600</td>\n",
       "      <td>0.754504</td>\n",
       "    </tr>\n",
       "  </tbody>\n",
       "</table><p>"
      ],
      "text/plain": [
       "<IPython.core.display.HTML object>"
      ]
     },
     "metadata": {},
     "output_type": "display_data"
    },
    {
     "data": {
      "text/plain": [
       "TrainOutput(global_step=23600, training_loss=0.6465182027978412, metrics={'train_runtime': 9686.6472, 'train_samples_per_second': 233.849, 'train_steps_per_second': 7.309, 'total_flos': 5.851449871550244e+19, 'train_loss': 0.6465182027978412, 'epoch': 10.0})"
      ]
     },
     "execution_count": 27,
     "metadata": {},
     "output_type": "execute_result"
    }
   ],
   "source": [
    "trainer.train()"
   ]
  },
  {
   "cell_type": "code",
   "execution_count": null,
   "id": "18e8769b",
   "metadata": {},
   "outputs": [],
   "source": [
    "trainer.model.save_pretrained(\"emotion_classification_trained_3\",safe_serialization=False)\n",
    "\n",
    "if hasattr(trainer, 'feature_extractor'):\n",
    "    trainer.feature_extractor.save_pretrained(\"emotion_classification_trained_3\")\n",
    "\n",
    "else :\n",
    "    processor = ViTImageProcessor.from_pretrained(\"google/vit-base-patch16-224\")\n",
    "    processor.save_pretrained(\"emotion_classification_trained_3\")"
   ]
  },
  {
   "cell_type": "code",
   "execution_count": 33,
   "id": "a911f27a",
   "metadata": {},
   "outputs": [
    {
     "data": {
      "text/html": [],
      "text/plain": [
       "<IPython.core.display.HTML object>"
      ]
     },
     "metadata": {},
     "output_type": "display_data"
    },
    {
     "ename": "AttributeError",
     "evalue": "'float' object has no attribute 'compute'",
     "output_type": "error",
     "traceback": [
      "\u001b[31m---------------------------------------------------------------------------\u001b[39m",
      "\u001b[31mAttributeError\u001b[39m                            Traceback (most recent call last)",
      "\u001b[36mCell\u001b[39m\u001b[36m \u001b[39m\u001b[32mIn[33]\u001b[39m\u001b[32m, line 1\u001b[39m\n\u001b[32m----> \u001b[39m\u001b[32m1\u001b[39m trainer.evaluate()\n",
      "\u001b[36mFile \u001b[39m\u001b[32mc:\\Users\\MufliDevs\\anaconda3\\envs\\emotion_torch\\Lib\\site-packages\\transformers\\trainer.py:4254\u001b[39m, in \u001b[36mTrainer.evaluate\u001b[39m\u001b[34m(self, eval_dataset, ignore_keys, metric_key_prefix)\u001b[39m\n\u001b[32m   4251\u001b[39m start_time = time.time()\n\u001b[32m   4253\u001b[39m eval_loop = \u001b[38;5;28mself\u001b[39m.prediction_loop \u001b[38;5;28;01mif\u001b[39;00m \u001b[38;5;28mself\u001b[39m.args.use_legacy_prediction_loop \u001b[38;5;28;01melse\u001b[39;00m \u001b[38;5;28mself\u001b[39m.evaluation_loop\n\u001b[32m-> \u001b[39m\u001b[32m4254\u001b[39m output = eval_loop(\n\u001b[32m   4255\u001b[39m     eval_dataloader,\n\u001b[32m   4256\u001b[39m     description=\u001b[33m\"\u001b[39m\u001b[33mEvaluation\u001b[39m\u001b[33m\"\u001b[39m,\n\u001b[32m   4257\u001b[39m     \u001b[38;5;66;03m# No point gathering the predictions if there are no metrics, otherwise we defer to\u001b[39;00m\n\u001b[32m   4258\u001b[39m     \u001b[38;5;66;03m# self.args.prediction_loss_only\u001b[39;00m\n\u001b[32m   4259\u001b[39m     prediction_loss_only=\u001b[38;5;28;01mTrue\u001b[39;00m \u001b[38;5;28;01mif\u001b[39;00m \u001b[38;5;28mself\u001b[39m.compute_metrics \u001b[38;5;129;01mis\u001b[39;00m \u001b[38;5;28;01mNone\u001b[39;00m \u001b[38;5;28;01melse\u001b[39;00m \u001b[38;5;28;01mNone\u001b[39;00m,\n\u001b[32m   4260\u001b[39m     ignore_keys=ignore_keys,\n\u001b[32m   4261\u001b[39m     metric_key_prefix=metric_key_prefix,\n\u001b[32m   4262\u001b[39m )\n\u001b[32m   4264\u001b[39m total_batch_size = \u001b[38;5;28mself\u001b[39m.args.eval_batch_size * \u001b[38;5;28mself\u001b[39m.args.world_size\n\u001b[32m   4265\u001b[39m \u001b[38;5;28;01mif\u001b[39;00m \u001b[33mf\u001b[39m\u001b[33m\"\u001b[39m\u001b[38;5;132;01m{\u001b[39;00mmetric_key_prefix\u001b[38;5;132;01m}\u001b[39;00m\u001b[33m_jit_compilation_time\u001b[39m\u001b[33m\"\u001b[39m \u001b[38;5;129;01min\u001b[39;00m output.metrics:\n",
      "\u001b[36mFile \u001b[39m\u001b[32mc:\\Users\\MufliDevs\\anaconda3\\envs\\emotion_torch\\Lib\\site-packages\\transformers\\trainer.py:4544\u001b[39m, in \u001b[36mTrainer.evaluation_loop\u001b[39m\u001b[34m(self, dataloader, description, prediction_loss_only, ignore_keys, metric_key_prefix)\u001b[39m\n\u001b[32m   4542\u001b[39m     eval_set_kwargs[\u001b[33m\"\u001b[39m\u001b[33mlosses\u001b[39m\u001b[33m\"\u001b[39m] = all_losses \u001b[38;5;28;01mif\u001b[39;00m \u001b[33m\"\u001b[39m\u001b[33mloss\u001b[39m\u001b[33m\"\u001b[39m \u001b[38;5;129;01min\u001b[39;00m args.include_for_metrics \u001b[38;5;28;01melse\u001b[39;00m \u001b[38;5;28;01mNone\u001b[39;00m\n\u001b[32m   4543\u001b[39m     eval_set_kwargs[\u001b[33m\"\u001b[39m\u001b[33minputs\u001b[39m\u001b[33m\"\u001b[39m] = all_inputs \u001b[38;5;28;01mif\u001b[39;00m \u001b[33m\"\u001b[39m\u001b[33minputs\u001b[39m\u001b[33m\"\u001b[39m \u001b[38;5;129;01min\u001b[39;00m args.include_for_metrics \u001b[38;5;28;01melse\u001b[39;00m \u001b[38;5;28;01mNone\u001b[39;00m\n\u001b[32m-> \u001b[39m\u001b[32m4544\u001b[39m     metrics = \u001b[38;5;28mself\u001b[39m.compute_metrics(\n\u001b[32m   4545\u001b[39m         EvalPrediction(predictions=all_preds, label_ids=all_labels, **eval_set_kwargs)\n\u001b[32m   4546\u001b[39m     )\n\u001b[32m   4547\u001b[39m \u001b[38;5;28;01melif\u001b[39;00m metrics \u001b[38;5;129;01mis\u001b[39;00m \u001b[38;5;28;01mNone\u001b[39;00m:\n\u001b[32m   4548\u001b[39m     metrics = {}\n",
      "\u001b[36mCell\u001b[39m\u001b[36m \u001b[39m\u001b[32mIn[15]\u001b[39m\u001b[32m, line 7\u001b[39m, in \u001b[36mcompute_metrics\u001b[39m\u001b[34m(eval_pred)\u001b[39m\n\u001b[32m      5\u001b[39m label_ids = eval_pred.label_ids\n\u001b[32m      6\u001b[39m predicted_labels = predictions.argmax(axis=\u001b[32m1\u001b[39m)\n\u001b[32m----> \u001b[39m\u001b[32m7\u001b[39m acc_score = accuracy.compute(predictions=predicted_labels, references=label_ids)[\u001b[33m'\u001b[39m\u001b[33maccuracy\u001b[39m\u001b[33m'\u001b[39m]\n\u001b[32m      8\u001b[39m \u001b[38;5;28;01mreturn\u001b[39;00m {\u001b[33m\"\u001b[39m\u001b[33maccuracy\u001b[39m\u001b[33m\"\u001b[39m: acc_score}\n",
      "\u001b[31mAttributeError\u001b[39m: 'float' object has no attribute 'compute'"
     ]
    }
   ],
   "source": [
    "trainer.evaluate()"
   ]
  },
  {
   "cell_type": "code",
   "execution_count": 39,
   "id": "d3b05b6f",
   "metadata": {},
   "outputs": [
    {
     "name": "stdout",
     "output_type": "stream",
     "text": [
      "{'test_loss': 0.9549954533576965, 'test_model_preparation_time': 0.002, 'test_accuracy': 0.657998768350583, 'test_runtime': 347.2539, 'test_samples_per_second': 144.963, 'test_steps_per_second': 18.122}\n"
     ]
    }
   ],
   "source": [
    "outputs = trainer.predict(test_data)\n",
    "print(outputs.metrics)"
   ]
  },
  {
   "cell_type": "code",
   "execution_count": 43,
   "id": "154518ea",
   "metadata": {},
   "outputs": [
    {
     "name": "stdout",
     "output_type": "stream",
     "text": [
      "Accuracy: 0.6580\n",
      "F1 Score: 0.6569\n"
     ]
    },
    {
     "data": {
      "image/png": "[encoded data removed]",
      "text/plain": [
       "<Figure size 800x600 with 2 Axes>"
      ]
     },
     "metadata": {},
     "output_type": "display_data"
    },
    {
     "name": "stdout",
     "output_type": "stream",
     "text": [
      "\n",
      "Classification report:\n",
      "\n",
      "              precision    recall  f1-score   support\n",
      "\n",
      "         sad     0.4897    0.5429    0.5149      7191\n",
      "     disgust     0.8933    0.9128    0.9030      7191\n",
      "       angry     0.5226    0.5943    0.5561      7192\n",
      "     neutral     0.5868    0.6131    0.5997      7191\n",
      "        fear     0.4902    0.3717    0.4228      7191\n",
      "    surprise     0.7485    0.8157    0.7807      7191\n",
      "       happy     0.9001    0.7554    0.8214      7192\n",
      "\n",
      "    accuracy                         0.6580     50339\n",
      "   macro avg     0.6616    0.6580    0.6569     50339\n",
      "weighted avg     0.6616    0.6580    0.6569     50339\n",
      "\n"
     ]
    }
   ],
   "source": [
    "y_true = outputs.label_ids\n",
    "\n",
    "y_pred = outputs.predictions.argmax(1)\n",
    "\n",
    "def plot_confusion_matrix(cm, classes, title='Confusion Matrix', cmap=plt.cm.Blues, figsize=(10, 8)):\n",
    "   \n",
    "    plt.figure(figsize=figsize)\n",
    "    \n",
    "    plt.imshow(cm, interpolation='nearest', cmap=cmap)\n",
    "    plt.title(title)\n",
    "    plt.colorbar()\n",
    "\n",
    "    tick_marks = np.arange(len(classes))\n",
    "    plt.xticks(tick_marks, classes, rotation=90)\n",
    "    plt.yticks(tick_marks, classes)\n",
    "\n",
    "    fmt = '.0f'\n",
    "    thresh = cm.max() / 2.0\n",
    "    for i, j in itertools.product(range(cm.shape[0]), range(cm.shape[1])):\n",
    "        plt.text(j, i, format(cm[i, j], fmt), horizontalalignment=\"center\", color=\"white\" if cm[i, j] > thresh else \"black\")\n",
    "\n",
    "    plt.ylabel('True label')\n",
    "    plt.xlabel('Predicted label')\n",
    "\n",
    "    plt.tight_layout()\n",
    "    plt.show()\n",
    "\n",
    "accuracy = accuracy_score(y_true, y_pred)\n",
    "f1 = f1_score(y_true, y_pred, average='macro')\n",
    "\n",
    "print(f\"Accuracy: {accuracy:.4f}\")\n",
    "print(f\"F1 Score: {f1:.4f}\")\n",
    "\n",
    "if len(labels_list) <= 150:\n",
    "    cm = confusion_matrix(y_true, y_pred)\n",
    "    plot_confusion_matrix(cm, labels_list, figsize=(8, 6))\n",
    "    \n",
    "print()\n",
    "print(\"Classification report:\")\n",
    "print()\n",
    "print(classification_report(y_true, y_pred, target_names=labels_list, digits=4))"
   ]
  },
  {
   "cell_type": "markdown",
   "id": "c6fbf6bd",
   "metadata": {},
   "source": [
    "VALIDATION"
   ]
  },
  {
   "cell_type": "code",
   "execution_count": 24,
   "id": "6b6148aa",
   "metadata": {},
   "outputs": [
    {
     "data": {
      "text/plain": [
       "ViTForImageClassification(\n",
       "  (vit): ViTModel(\n",
       "    (embeddings): ViTEmbeddings(\n",
       "      (patch_embeddings): ViTPatchEmbeddings(\n",
       "        (projection): Conv2d(3, 768, kernel_size=(16, 16), stride=(16, 16))\n",
       "      )\n",
       "      (dropout): Dropout(p=0.0, inplace=False)\n",
       "    )\n",
       "    (encoder): ViTEncoder(\n",
       "      (layer): ModuleList(\n",
       "        (0-11): 12 x ViTLayer(\n",
       "          (attention): ViTAttention(\n",
       "            (attention): ViTSelfAttention(\n",
       "              (query): Linear(in_features=768, out_features=768, bias=True)\n",
       "              (key): Linear(in_features=768, out_features=768, bias=True)\n",
       "              (value): Linear(in_features=768, out_features=768, bias=True)\n",
       "            )\n",
       "            (output): ViTSelfOutput(\n",
       "              (dense): Linear(in_features=768, out_features=768, bias=True)\n",
       "              (dropout): Dropout(p=0.0, inplace=False)\n",
       "            )\n",
       "          )\n",
       "          (intermediate): ViTIntermediate(\n",
       "            (dense): Linear(in_features=768, out_features=3072, bias=True)\n",
       "            (intermediate_act_fn): GELUActivation()\n",
       "          )\n",
       "          (output): ViTOutput(\n",
       "            (dense): Linear(in_features=3072, out_features=768, bias=True)\n",
       "            (dropout): Dropout(p=0.0, inplace=False)\n",
       "          )\n",
       "          (layernorm_before): LayerNorm((768,), eps=1e-12, elementwise_affine=True)\n",
       "          (layernorm_after): LayerNorm((768,), eps=1e-12, elementwise_affine=True)\n",
       "        )\n",
       "      )\n",
       "    )\n",
       "    (layernorm): LayerNorm((768,), eps=1e-12, elementwise_affine=True)\n",
       "  )\n",
       "  (classifier): Linear(in_features=768, out_features=7, bias=True)\n",
       ")"
      ]
     },
     "execution_count": 24,
     "metadata": {},
     "output_type": "execute_result"
    }
   ],
   "source": [
    "model = ViTForImageClassification.from_pretrained(\"emotion_classification_trained\")\n",
    "processor = ViTImageProcessor.from_pretrained(\"emotion_classification_trained\")\n",
    "model.eval()"
   ]
  },
  {
   "cell_type": "code",
   "execution_count": 25,
   "id": "783d5122",
   "metadata": {},
   "outputs": [
    {
     "name": "stdout",
     "output_type": "stream",
     "text": [
      "Model loaded successfully!\n",
      "Number of emotion classes: 7\n",
      "Emotion labels: ['sad', 'disgust', 'angry', 'neutral', 'fear', 'surprise', 'happy']\n"
     ]
    }
   ],
   "source": [
    "if hasattr(model.config, 'id2label') and model.config.id2label:\n",
    "    id2label = model.config.id2label\n",
    "else:\n",
    "    id2label = {\n",
    "        0: \"angry\", 1: \"disgust\", 2: \"fear\", 3: \"happy\",\n",
    "        4: \"neutral\", 5: \"sad\", 6: \"surprise\"\n",
    "    }\n",
    "\n",
    "print(f\"Model loaded successfully!\")\n",
    "print(f\"Number of emotion classes: {len(id2label)}\")\n",
    "print(f\"Emotion labels: {list(id2label.values())}\")"
   ]
  },
  {
   "cell_type": "code",
   "execution_count": 26,
   "id": "527033a9",
   "metadata": {},
   "outputs": [],
   "source": [
    "resized_folder = \"../data/images/resized_samples\"\n",
    "def load_images_from_folder(folder_path):\n",
    "    image_extensions = {'.jpg', '.jpeg', '.png', '.bmp', '.gif', '.tiff'}\n",
    "    image_paths = []\n",
    "    \n",
    "    for filename in os.listdir(folder_path):\n",
    "        if any(filename.lower().endswith(ext) for ext in image_extensions):\n",
    "            image_paths.append(os.path.join(folder_path, filename))\n",
    "    \n",
    "    return image_paths\n",
    "\n",
    "def predict_single_image(image_path, save_resized_sample=False):\n",
    "    try:\n",
    "        if not os.path.exists(image_path):\n",
    "            print(f\"File not found: {image_path}\")\n",
    "            return None, None, None\n",
    "            \n",
    "        try:\n",
    "            image = Image.open(image_path)\n",
    "        except Exception as img_error:\n",
    "            print(f\"Error opening image {image_path}: {img_error}\")\n",
    "            try:\n",
    "                import PIL.Image\n",
    "                image = PIL.Image.open(image_path)\n",
    "            except Exception as alt_error:\n",
    "                print(f\"Alternative PIL also failed: {alt_error}\")\n",
    "                return None, None, None\n",
    "        \n",
    "        image = image.convert('RGB')\n",
    "        \n",
    "        original_size = image.size\n",
    "        \n",
    "        image_48x48 = image.resize((48, 48), Image.Resampling.LANCZOS)\n",
    "        \n",
    "        if save_resized_sample:\n",
    "            filename = os.path.basename(image_path)\n",
    "            name, ext = os.path.splitext(filename)\n",
    "            resized_filename = f\"{name}_48x48{ext}\"\n",
    "            resized_path = os.path.join(resized_folder, resized_filename)\n",
    "            image_48x48.save(resized_path)\n",
    "            print(f\"Saved resized sample: {resized_path}\")\n",
    "        \n",
    "        inputs = processor(images=image_48x48, return_tensors=\"pt\")\n",
    "        \n",
    "        with torch.no_grad():\n",
    "            outputs = model(**inputs)\n",
    "            logits = outputs.logits\n",
    "        \n",
    "        probabilities = torch.nn.functional.softmax(logits, dim=-1)[0]\n",
    "        predicted_class_id = logits.argmax().item()\n",
    "        predicted_label = id2label[predicted_class_id]\n",
    "        confidence = probabilities[predicted_class_id].item()\n",
    "        \n",
    "        return predicted_label, confidence, probabilities, original_size\n",
    "        \n",
    "    except Exception as e:\n",
    "        print(f\"Error processing {image_path}: {str(e)}\")\n",
    "        print(f\"Error type: {type(e)}\")\n",
    "        return None, None, None, None\n",
    "\n",
    "\n",
    "def print_emotion_distribution(emotion_distribution, folder_name=\"\"):\n",
    "    if folder_name:\n",
    "        print(f\"\\n=== Emotion Distribution for {folder_name} ===\")\n",
    "    else:\n",
    "        print(\"\\n=== Emotion Distribution ===\")    \n",
    "    sorted_emotions = sorted(emotion_distribution.items(), \n",
    "                           key=lambda x: x[1], reverse=True)\n",
    "    \n",
    "    for emotion, probability in sorted_emotions:\n",
    "        print(f'\"{emotion}\": {probability:.2f}')"
   ]
  },
  {
   "cell_type": "code",
   "execution_count": 27,
   "id": "d3813735",
   "metadata": {},
   "outputs": [
    {
     "name": "stdout",
     "output_type": "stream",
     "text": [
      "Folder found: ../data/images/asd/person_8\n"
     ]
    }
   ],
   "source": [
    "folder_path = \"../data/images/asd/person_8\"  \n",
    "if not os.path.exists(folder_path):\n",
    "    print(f\"Folder {folder_path} not be found!\")\n",
    "else:\n",
    "    print(f\"Folder found: {folder_path}\")"
   ]
  },
  {
   "cell_type": "code",
   "execution_count": 28,
   "id": "d466a2be",
   "metadata": {},
   "outputs": [
    {
     "name": "stdout",
     "output_type": "stream",
     "text": [
      "Found 2061 images in the folder\n",
      "\n",
      "Sample image files:\n",
      "1. PERSON_400051_face0.jpg\n",
      "2. PERSON_400131_face0.jpg\n",
      "3. PERSON_400421_face0.jpg\n",
      "4. PERSON_400431_face0.jpg\n",
      "5. PERSON_400441_face0.jpg\n",
      "... and 2056 more images\n"
     ]
    }
   ],
   "source": [
    "image_paths = load_images_from_folder(folder_path)\n",
    "print(f\"Found {len(image_paths)} images in the folder\")\n",
    "\n",
    "if image_paths:\n",
    "    print(\"\\nSample image files:\")\n",
    "    for i, path in enumerate(image_paths[:5]): \n",
    "        print(f\"{i+1}. {os.path.basename(path)}\")\n",
    "    if len(image_paths) > 5:\n",
    "        print(f\"... and {len(image_paths) - 5} more images\")"
   ]
  },
  {
   "cell_type": "code",
   "execution_count": 29,
   "id": "47fa83c7",
   "metadata": {},
   "outputs": [
    {
     "name": "stdout",
     "output_type": "stream",
     "text": [
      "Processing images...\n",
      "Processing image 1/2061\n",
      "Processing image 11/2061\n",
      "Processing image 21/2061\n",
      "Processing image 31/2061\n",
      "Processing image 41/2061\n",
      "Processing image 51/2061\n",
      "Processing image 61/2061\n",
      "Processing image 71/2061\n",
      "Processing image 81/2061\n",
      "Processing image 91/2061\n",
      "Processing image 101/2061\n",
      "Processing image 111/2061\n",
      "Processing image 121/2061\n",
      "Processing image 131/2061\n",
      "Processing image 141/2061\n",
      "Processing image 151/2061\n",
      "Processing image 161/2061\n",
      "Processing image 171/2061\n",
      "Processing image 181/2061\n",
      "Processing image 191/2061\n",
      "Processing image 201/2061\n",
      "Processing image 211/2061\n",
      "Processing image 221/2061\n",
      "Processing image 231/2061\n",
      "Processing image 241/2061\n",
      "Processing image 251/2061\n",
      "Processing image 261/2061\n",
      "Processing image 271/2061\n",
      "Processing image 281/2061\n",
      "Processing image 291/2061\n",
      "Processing image 301/2061\n",
      "Processing image 311/2061\n",
      "Processing image 321/2061\n",
      "Processing image 331/2061\n",
      "Processing image 341/2061\n",
      "Processing image 351/2061\n",
      "Processing image 361/2061\n",
      "Processing image 371/2061\n",
      "Processing image 381/2061\n",
      "Processing image 391/2061\n",
      "Processing image 401/2061\n",
      "Processing image 411/2061\n",
      "Processing image 421/2061\n",
      "Processing image 431/2061\n",
      "Processing image 441/2061\n",
      "Processing image 451/2061\n",
      "Processing image 461/2061\n",
      "Processing image 471/2061\n",
      "Processing image 481/2061\n",
      "Processing image 491/2061\n",
      "Processing image 501/2061\n",
      "Processing image 511/2061\n",
      "Processing image 521/2061\n",
      "Processing image 531/2061\n",
      "Processing image 541/2061\n",
      "Processing image 551/2061\n",
      "Processing image 561/2061\n",
      "Processing image 571/2061\n",
      "Processing image 581/2061\n",
      "Processing image 591/2061\n",
      "Processing image 601/2061\n",
      "Processing image 611/2061\n",
      "Processing image 621/2061\n",
      "Processing image 631/2061\n",
      "Processing image 641/2061\n",
      "Processing image 651/2061\n",
      "Processing image 661/2061\n",
      "Processing image 671/2061\n",
      "Processing image 681/2061\n",
      "Processing image 691/2061\n",
      "Processing image 701/2061\n",
      "Processing image 711/2061\n",
      "Processing image 721/2061\n",
      "Processing image 731/2061\n",
      "Processing image 741/2061\n",
      "Processing image 751/2061\n",
      "Processing image 761/2061\n",
      "Processing image 771/2061\n",
      "Processing image 781/2061\n",
      "Processing image 791/2061\n",
      "Processing image 801/2061\n",
      "Processing image 811/2061\n",
      "Processing image 821/2061\n",
      "Processing image 831/2061\n",
      "Processing image 841/2061\n",
      "Processing image 851/2061\n",
      "Processing image 861/2061\n",
      "Processing image 871/2061\n",
      "Processing image 881/2061\n",
      "Processing image 891/2061\n",
      "Processing image 901/2061\n",
      "Processing image 911/2061\n",
      "Processing image 921/2061\n",
      "Processing image 931/2061\n",
      "Processing image 941/2061\n",
      "Processing image 951/2061\n",
      "Processing image 961/2061\n",
      "Processing image 971/2061\n",
      "Processing image 981/2061\n",
      "Processing image 991/2061\n",
      "Processing image 1001/2061\n",
      "Processing image 1011/2061\n",
      "Processing image 1021/2061\n",
      "Processing image 1031/2061\n",
      "Processing image 1041/2061\n",
      "Processing image 1051/2061\n",
      "Processing image 1061/2061\n",
      "Processing image 1071/2061\n",
      "Processing image 1081/2061\n",
      "Processing image 1091/2061\n",
      "Processing image 1101/2061\n",
      "Processing image 1111/2061\n",
      "Processing image 1121/2061\n",
      "Processing image 1131/2061\n",
      "Processing image 1141/2061\n",
      "Processing image 1151/2061\n",
      "Processing image 1161/2061\n",
      "Processing image 1171/2061\n",
      "Processing image 1181/2061\n",
      "Processing image 1191/2061\n",
      "Processing image 1201/2061\n",
      "Processing image 1211/2061\n",
      "Processing image 1221/2061\n",
      "Processing image 1231/2061\n",
      "Processing image 1241/2061\n",
      "Processing image 1251/2061\n",
      "Processing image 1261/2061\n",
      "Processing image 1271/2061\n",
      "Processing image 1281/2061\n",
      "Processing image 1291/2061\n",
      "Processing image 1301/2061\n",
      "Processing image 1311/2061\n",
      "Processing image 1321/2061\n",
      "Processing image 1331/2061\n",
      "Processing image 1341/2061\n",
      "Processing image 1351/2061\n",
      "Processing image 1361/2061\n",
      "Processing image 1371/2061\n",
      "Processing image 1381/2061\n",
      "Processing image 1391/2061\n",
      "Processing image 1401/2061\n",
      "Processing image 1411/2061\n",
      "Processing image 1421/2061\n",
      "Processing image 1431/2061\n",
      "Processing image 1441/2061\n",
      "Processing image 1451/2061\n",
      "Processing image 1461/2061\n",
      "Processing image 1471/2061\n",
      "Processing image 1481/2061\n",
      "Processing image 1491/2061\n",
      "Processing image 1501/2061\n",
      "Processing image 1511/2061\n",
      "Processing image 1521/2061\n",
      "Processing image 1531/2061\n",
      "Processing image 1541/2061\n",
      "Processing image 1551/2061\n",
      "Processing image 1561/2061\n",
      "Processing image 1571/2061\n",
      "Processing image 1581/2061\n",
      "Processing image 1591/2061\n",
      "Processing image 1601/2061\n",
      "Processing image 1611/2061\n",
      "Processing image 1621/2061\n",
      "Processing image 1631/2061\n",
      "Processing image 1641/2061\n",
      "Processing image 1651/2061\n",
      "Processing image 1661/2061\n",
      "Processing image 1671/2061\n",
      "Processing image 1681/2061\n",
      "Processing image 1691/2061\n",
      "Processing image 1701/2061\n",
      "Processing image 1711/2061\n",
      "Processing image 1721/2061\n",
      "Processing image 1731/2061\n",
      "Processing image 1741/2061\n",
      "Processing image 1751/2061\n",
      "Processing image 1761/2061\n",
      "Processing image 1771/2061\n",
      "Processing image 1781/2061\n",
      "Processing image 1791/2061\n",
      "Processing image 1801/2061\n",
      "Processing image 1811/2061\n",
      "Processing image 1821/2061\n",
      "Processing image 1831/2061\n",
      "Processing image 1841/2061\n",
      "Processing image 1851/2061\n",
      "Processing image 1861/2061\n",
      "Processing image 1871/2061\n",
      "Processing image 1881/2061\n",
      "Processing image 1891/2061\n",
      "Processing image 1901/2061\n",
      "Processing image 1911/2061\n",
      "Processing image 1921/2061\n",
      "Processing image 1931/2061\n",
      "Processing image 1941/2061\n",
      "Processing image 1951/2061\n",
      "Processing image 1961/2061\n",
      "Processing image 1971/2061\n",
      "Processing image 1981/2061\n",
      "Processing image 1991/2061\n",
      "Processing image 2001/2061\n",
      "Processing image 2011/2061\n",
      "Processing image 2021/2061\n",
      "Processing image 2031/2061\n",
      "Processing image 2041/2061\n",
      "Processing image 2051/2061\n",
      "Processing image 2061/2061\n",
      "\n",
      "Processing completed:\n",
      "- Successful: 2061\n",
      "- Failed: 0\n",
      "- Resized samples saved: 0\n",
      "\n",
      "=== Emotion Distribution for Average Probabilities Method (48x48 Resize) ===\n",
      "\"sad\": 0.45\n",
      "\"neutral\": 0.25\n",
      "\"fear\": 0.08\n",
      "\"angry\": 0.08\n",
      "\"happy\": 0.06\n",
      "\"disgust\": 0.06\n",
      "\"surprise\": 0.02\n"
     ]
    }
   ],
   "source": [
    "print(\"Processing images...\")\n",
    "\n",
    "all_probabilities = []\n",
    "successful_predictions = 0\n",
    "failed_predictions = 0\n",
    "save_sample_counter = 0\n",
    "max_samples_to_save = 0\n",
    "\n",
    "for i, image_path in enumerate(image_paths):\n",
    "    if i % 10 == 0:  \n",
    "        print(f\"Processing image {i+1}/{len(image_paths)}\")\n",
    "    \n",
    "    save_resized = save_sample_counter < max_samples_to_save\n",
    "    \n",
    "    result = predict_single_image(image_path, save_resized_sample=save_resized)\n",
    "    \n",
    "    if len(result) == 4 and result[0] is not None:\n",
    "        _, _, probabilities, original_size = result\n",
    "        all_probabilities.append(probabilities.numpy())\n",
    "        successful_predictions += 1\n",
    "        \n",
    "        if save_resized:\n",
    "            save_sample_counter += 1\n",
    "            print(f\"  Sample {save_sample_counter}: {os.path.basename(image_path)} - Original: {original_size}, Resized: 48x48\")\n",
    "    else:\n",
    "        failed_predictions += 1\n",
    "\n",
    "print(f\"\\nProcessing completed:\")\n",
    "print(f\"- Successful: {successful_predictions}\")\n",
    "print(f\"- Failed: {failed_predictions}\")\n",
    "print(f\"- Resized samples saved: {min(save_sample_counter, max_samples_to_save)}\")\n",
    "\n",
    "if all_probabilities:\n",
    "    avg_probabilities = np.mean(all_probabilities, axis=0)    \n",
    "    emotion_distribution_avg = {}\n",
    "    for class_id, avg_prob in enumerate(avg_probabilities):\n",
    "        emotion_label = id2label[class_id]\n",
    "        emotion_distribution_avg[emotion_label] = float(avg_prob)\n",
    "    \n",
    "    print_emotion_distribution(emotion_distribution_avg, f\"Average Probabilities Method (48x48 Resize)\")\n",
    "else:\n",
    "    print(\"No successful predictions made!\")"
   ]
  },
  {
   "cell_type": "code",
   "execution_count": 30,
   "id": "e3aa24c1",
   "metadata": {},
   "outputs": [
    {
     "name": "stdout",
     "output_type": "stream",
     "text": [
      "\n",
      "=== Emotion Distribution for Vote Count Method (48x48 Resize) ===\n",
      "\"sad\": 0.93\n",
      "\"neutral\": 0.05\n",
      "\"happy\": 0.01\n",
      "\"angry\": 0.01\n",
      "\"fear\": 0.00\n",
      "\"disgust\": 0.00\n",
      "\"surprise\": 0.00\n",
      "\n",
      "Raw vote counts (out of 2061 successful predictions):\n",
      "sad: 1910 votes\n",
      "neutral: 105 votes\n",
      "happy: 18 votes\n",
      "angry: 12 votes\n",
      "fear: 9 votes\n",
      "disgust: 7 votes\n"
     ]
    }
   ],
   "source": [
    "emotion_counts = Counter()\n",
    "successful_predictions = 0\n",
    "\n",
    "for i, image_path in enumerate(image_paths):\n",
    "    result = predict_single_image(image_path, save_resized_sample=False)\n",
    "    if len(result) == 4 and result[0] is not None:\n",
    "        predicted_label, _, _, _ = result\n",
    "        emotion_counts[predicted_label] += 1\n",
    "        successful_predictions += 1\n",
    "\n",
    "if emotion_counts:\n",
    "    emotion_distribution_vote = {}\n",
    "    total_predictions = sum(emotion_counts.values())\n",
    "    \n",
    "    for emotion in id2label.values():\n",
    "        emotion_distribution_vote[emotion] = 0.0\n",
    "    \n",
    "    for emotion, count in emotion_counts.items():\n",
    "        emotion_distribution_vote[emotion] = count / total_predictions\n",
    "    \n",
    "    print_emotion_distribution(emotion_distribution_vote, \"Vote Count Method (48x48 Resize)\")\n",
    "    \n",
    "    print(f\"\\nRaw vote counts (out of {total_predictions} successful predictions):\")\n",
    "    for emotion, count in sorted(emotion_counts.items(), key=lambda x: x[1], reverse=True):\n",
    "        print(f\"{emotion}: {count} votes\")\n"
   ]
  },
  {
   "cell_type": "code",
   "execution_count": 31,
   "id": "b4567b39",
   "metadata": {},
   "outputs": [
    {
     "data": {
      "image/png": "[encoded data removed]",
      "text/plain": [
       "<Figure size 1200x500 with 2 Axes>"
      ]
     },
     "metadata": {},
     "output_type": "display_data"
    }
   ],
   "source": [
    "if 'emotion_distribution_avg' in locals():\n",
    "    plt.figure(figsize=(12, 5))\n",
    "    \n",
    "    plt.subplot(1, 2, 1)\n",
    "    emotions = list(emotion_distribution_avg.keys())\n",
    "    probabilities = list(emotion_distribution_avg.values())\n",
    "    \n",
    "    bars1 = plt.bar(emotions, probabilities, color='skyblue', alpha=0.7)\n",
    "    plt.title('Average Probabilities Method')\n",
    "    plt.xlabel('Emotions')\n",
    "    plt.ylabel('Probability')\n",
    "    plt.xticks(rotation=45)\n",
    "    \n",
    "    for bar in bars1:\n",
    "        height = bar.get_height()\n",
    "        plt.text(bar.get_x() + bar.get_width()/2., height + 0.01,\n",
    "                f'{height:.2f}', ha='center', va='bottom')\n",
    "    \n",
    "    if 'emotion_distribution_vote' in locals():\n",
    "        plt.subplot(1, 2, 2)\n",
    "        emotions2 = list(emotion_distribution_vote.keys())\n",
    "        probabilities2 = list(emotion_distribution_vote.values())\n",
    "        \n",
    "        bars2 = plt.bar(emotions2, probabilities2, color='lightcoral', alpha=0.7)\n",
    "        plt.title('Vote Count Method')\n",
    "        plt.xlabel('Emotions')\n",
    "        plt.ylabel('Proportion')\n",
    "        plt.xticks(rotation=45)\n",
    "        \n",
    "        for bar in bars2:\n",
    "            height = bar.get_height()\n",
    "            plt.text(bar.get_x() + bar.get_width()/2., height + 0.01,\n",
    "                    f'{height:.2f}', ha='center', va='bottom')\n",
    "    \n",
    "    plt.tight_layout()\n",
    "    plt.show()"
   ]
  },
  {
   "cell_type": "code",
   "execution_count": 32,
   "id": "92398cc3",
   "metadata": {},
   "outputs": [
    {
     "name": "stdout",
     "output_type": "stream",
     "text": [
      "Showing detailed predictions for first 10 images:\n"
     ]
    },
    {
     "ename": "ValueError",
     "evalue": "too many values to unpack (expected 3)",
     "output_type": "error",
     "traceback": [
      "\u001b[31m---------------------------------------------------------------------------\u001b[39m",
      "\u001b[31mValueError\u001b[39m                                Traceback (most recent call last)",
      "\u001b[36mCell\u001b[39m\u001b[36m \u001b[39m\u001b[32mIn[32]\u001b[39m\u001b[32m, line 7\u001b[39m\n\u001b[32m      5\u001b[39m \u001b[38;5;28;01mfor\u001b[39;00m i \u001b[38;5;129;01min\u001b[39;00m \u001b[38;5;28mrange\u001b[39m(sample_size):\n\u001b[32m      6\u001b[39m     image_path = image_paths[i]\n\u001b[32m----> \u001b[39m\u001b[32m7\u001b[39m     emotion, confidence, all_probs = predict_single_image(image_path)\n\u001b[32m      9\u001b[39m     \u001b[38;5;28;01mif\u001b[39;00m emotion:\n\u001b[32m     10\u001b[39m         filename = os.path.basename(image_path)\n",
      "\u001b[31mValueError\u001b[39m: too many values to unpack (expected 3)"
     ]
    }
   ],
   "source": [
    "sample_size = min(10, len(image_paths))\n",
    "print(f\"Showing detailed predictions for first {sample_size} images:\")\n",
    "\n",
    "detailed_results = []\n",
    "for i in range(sample_size):\n",
    "    image_path = image_paths[i]\n",
    "    emotion, confidence, all_probs = predict_single_image(image_path)\n",
    "    \n",
    "    if emotion:\n",
    "        filename = os.path.basename(image_path)\n",
    "        print(f\"\\n{i+1}. {filename}\")\n",
    "        print(f\"   Predicted: {emotion} (confidence: {confidence:.3f})\")\n",
    "        \n",
    "        probs_dict = {id2label[j]: prob.item() for j, prob in enumerate(all_probs)}\n",
    "        top_3 = sorted(probs_dict.items(), key=lambda x: x[1], reverse=True)[:3]\n",
    "        print(f\"   Top 3: {top_3[0][0]}({top_3[0][1]:.3f}), {top_3[1][0]}({top_3[1][1]:.3f}), {top_3[2][0]}({top_3[2][1]:.3f})\")\n",
    "        \n",
    "        detailed_results.append({\n",
    "            'image': filename,\n",
    "            'predicted_emotion': emotion,\n",
    "            'confidence': confidence\n",
    "        })"
   ]
  },
  {
   "cell_type": "code",
   "execution_count": null,
   "id": "4be16a65",
   "metadata": {},
   "outputs": [
    {
     "name": "stdout",
     "output_type": "stream",
     "text": [
      "\n",
      "Results saved to: Person_8_result.json\n",
      "Text results saved to: Person_8_result.txt\n"
     ]
    }
   ],
   "source": [
    "import json\n",
    "save_folder_path = \"../result\"\n",
    "person = \"Person_8\"\n",
    "if not os.path.exists(save_folder_path): \n",
    "    print(\"path not exist\")\n",
    "    \n",
    "if 'emotion_distribution_avg' in locals():\n",
    "    results_to_save = {\n",
    "        'folder_name': os.path.basename(save_folder_path),\n",
    "        'total_images': len(image_paths),\n",
    "        'successful_predictions': successful_predictions,\n",
    "        'failed_predictions': failed_predictions,\n",
    "        'emotion_distribution_avg_probabilities': emotion_distribution_avg\n",
    "    }\n",
    "    \n",
    "    if 'emotion_distribution_vote' in locals():\n",
    "        results_to_save['emotion_distribution_vote_count'] = emotion_distribution_vote\n",
    "\n",
    "    output_filename = f\"{person}_{os.path.basename(save_folder_path)}.json\"\n",
    "    with open(output_filename, 'w') as f:\n",
    "        json.dump(results_to_save, f, indent=2)\n",
    "    \n",
    "    print(f\"\\nResults saved to: {output_filename}\")\n",
    "\n",
    "    text_filename = f\"{person}_{os.path.basename(save_folder_path)}.txt\"\n",
    "    with open(text_filename, 'w') as f:\n",
    "        f.write(f\"Emotion Validation Results for {os.path.basename(folder_path)}\\n\")\n",
    "        f.write(\"=\" * 50 + \"\\n\\n\")\n",
    "        f.write(f\"Total images processed: {len(image_paths)}\\n\")\n",
    "        f.write(f\"Successful predictions: {successful_predictions}\\n\")\n",
    "        f.write(f\"Failed predictions: {failed_predictions}\\n\\n\")\n",
    "        \n",
    "        f.write(\"Average Probabilities Method:\\n\")\n",
    "        for emotion, prob in sorted(emotion_distribution_avg.items(), key=lambda x: x[1], reverse=True):\n",
    "            f.write(f'\"{emotion}\": {prob:.2f}\\n')\n",
    "    \n",
    "    print(f\"Text results saved to: {text_filename}\")"
   ]
  }
 ],
 "metadata": {
  "kernelspec": {
   "display_name": "emotion_torch",
   "language": "python",
   "name": "python3"
  },
  "language_info": {
   "codemirror_mode": {
    "name": "ipython",
    "version": 3
   },
   "file_extension": ".py",
   "mimetype": "text/x-python",
   "name": "python",
   "nbconvert_exporter": "python",
   "pygments_lexer": "ipython3",
   "version": "3.11.13"
  }
 },
 "nbformat": 4,
 "nbformat_minor": 5
}
