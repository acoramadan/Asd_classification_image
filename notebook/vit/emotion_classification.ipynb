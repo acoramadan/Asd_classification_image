{
 "cells": [
  {
   "cell_type": "code",
   "execution_count": 1,
   "id": "3edc504a",
   "metadata": {},
   "outputs": [],
   "source": [
    "import warnings\n",
    "warnings.filterwarnings(\"ignore\")\n",
    "import gc\n",
    "import numpy as np\n",
    "import pandas as pd\n",
    "import itertools\n",
    "from collections import Counter\n",
    "import matplotlib.pyplot as plt\n",
    "from sklearn.metrics import(\n",
    "    accuracy_score, confusion_matrix, classification_report, roc_auc_score,f1_score\n",
    ")\n",
    "from imblearn.over_sampling import RandomOverSampler\n",
    "import accelerate\n",
    "import evaluate\n",
    "from datasets import Dataset, ClassLabel\n",
    "from transformers import (\n",
    "    TrainingArguments,\n",
    "    Trainer,\n",
    "    ViTImageProcessor,\n",
    "    ViTForImageClassification,\n",
    "    DefaultDataCollator\n",
    ")\n",
    "from datasets import Image as img\n",
    "import torch\n",
    "from torch.utils.data import DataLoader\n",
    "from torchvision.transforms import (\n",
    "    CenterCrop,\n",
    "    Compose,\n",
    "    Normalize,\n",
    "    RandomHorizontalFlip,\n",
    "    RandomRotation,\n",
    "    RandomHorizontalFlip,\n",
    "    RandomAdjustSharpness,\n",
    "    Resize,\n",
    "    ToTensor\n",
    ")\n",
    "import torch \n",
    "from PIL import Image"
   ]
  },
  {
   "cell_type": "code",
   "execution_count": 2,
   "id": "49a03ae7",
   "metadata": {},
   "outputs": [
    {
     "name": "stdout",
     "output_type": "stream",
     "text": [
      "Using device: cuda\n"
     ]
    }
   ],
   "source": [
    "device = torch.device(\"cuda\" if torch.cuda.is_available() else \"cpu\")\n",
    "print(f\"Using device: {device}\")"
   ]
  },
  {
   "cell_type": "code",
   "execution_count": 3,
   "id": "5c0f1530",
   "metadata": {},
   "outputs": [],
   "source": [
    "from PIL import ImageFile\n",
    "ImageFile.LOAD_TRUNCATED_IMAGES = True"
   ]
  },
  {
   "cell_type": "code",
   "execution_count": 4,
   "id": "a5e134e9",
   "metadata": {},
   "outputs": [
    {
     "name": "stdout",
     "output_type": "stream",
     "text": [
      "70816 70816\n",
      "(70816, 2)\n"
     ]
    }
   ],
   "source": [
    "image_dict = {}\n",
    "from pathlib import Path\n",
    "from tqdm import tqdm\n",
    "import os\n",
    "\n",
    "file_names = []\n",
    "labels = []\n",
    "for file in Path(\"../data/images/images\").rglob(\"*.jpg\"):\n",
    "    label = file.parent.name \n",
    "    labels.append(label)\n",
    "    file_names.append(str(file))\n",
    "\n",
    "print(len(file_names), len(labels))\n",
    "df = pd.DataFrame({\"image\": file_names, \"label\": labels})\n",
    "print(df.shape)"
   ]
  },
  {
   "cell_type": "code",
   "execution_count": 5,
   "id": "0b8ec273",
   "metadata": {},
   "outputs": [
    {
     "data": {
      "text/html": [
       "<div>\n",
       "<style scoped>\n",
       "    .dataframe tbody tr th:only-of-type {\n",
       "        vertical-align: middle;\n",
       "    }\n",
       "\n",
       "    .dataframe tbody tr th {\n",
       "        vertical-align: top;\n",
       "    }\n",
       "\n",
       "    .dataframe thead th {\n",
       "        text-align: right;\n",
       "    }\n",
       "</style>\n",
       "<table border=\"1\" class=\"dataframe\">\n",
       "  <thead>\n",
       "    <tr style=\"text-align: right;\">\n",
       "      <th></th>\n",
       "      <th>image</th>\n",
       "      <th>label</th>\n",
       "    </tr>\n",
       "  </thead>\n",
       "  <tbody>\n",
       "    <tr>\n",
       "      <th>0</th>\n",
       "      <td>..\\data\\images\\images\\train\\angry\\0.jpg</td>\n",
       "      <td>angry</td>\n",
       "    </tr>\n",
       "    <tr>\n",
       "      <th>1</th>\n",
       "      <td>..\\data\\images\\images\\train\\angry\\1.jpg</td>\n",
       "      <td>angry</td>\n",
       "    </tr>\n",
       "    <tr>\n",
       "      <th>2</th>\n",
       "      <td>..\\data\\images\\images\\train\\angry\\10.jpg</td>\n",
       "      <td>angry</td>\n",
       "    </tr>\n",
       "    <tr>\n",
       "      <th>3</th>\n",
       "      <td>..\\data\\images\\images\\train\\angry\\10002.jpg</td>\n",
       "      <td>angry</td>\n",
       "    </tr>\n",
       "    <tr>\n",
       "      <th>4</th>\n",
       "      <td>..\\data\\images\\images\\train\\angry\\10016.jpg</td>\n",
       "      <td>angry</td>\n",
       "    </tr>\n",
       "  </tbody>\n",
       "</table>\n",
       "</div>"
      ],
      "text/plain": [
       "                                         image  label\n",
       "0      ..\\data\\images\\images\\train\\angry\\0.jpg  angry\n",
       "1      ..\\data\\images\\images\\train\\angry\\1.jpg  angry\n",
       "2     ..\\data\\images\\images\\train\\angry\\10.jpg  angry\n",
       "3  ..\\data\\images\\images\\train\\angry\\10002.jpg  angry\n",
       "4  ..\\data\\images\\images\\train\\angry\\10016.jpg  angry"
      ]
     },
     "execution_count": 5,
     "metadata": {},
     "output_type": "execute_result"
    }
   ],
   "source": [
    "df.head()"
   ]
  },
  {
   "cell_type": "code",
   "execution_count": 5,
   "id": "11e5395a",
   "metadata": {},
   "outputs": [
    {
     "name": "stdout",
     "output_type": "stream",
     "text": [
      "(125846, 2)\n"
     ]
    }
   ],
   "source": [
    "y = df[['label']]\n",
    "df = df.drop(columns=['label'],axis=1)\n",
    "ros = RandomOverSampler(random_state=83)\n",
    "\n",
    "df, y_resampled = ros.fit_resample(df, y)\n",
    "\n",
    "del y\n",
    "df['label'] = y_resampled\n",
    "\n",
    "del y_resampled\n",
    "gc.collect()\n",
    "print(df.shape)"
   ]
  },
  {
   "cell_type": "code",
   "execution_count": 7,
   "id": "c1dfe8b2",
   "metadata": {},
   "outputs": [],
   "source": [
    "dataset = Dataset.from_pandas(df).cast_column(\"image\", img())"
   ]
  },
  {
   "cell_type": "code",
   "execution_count": 8,
   "id": "0e5159a7",
   "metadata": {},
   "outputs": [
    {
     "name": "stdout",
     "output_type": "stream",
     "text": [
      "Labels subset: ['angry', 'angry', 'angry', 'angry', 'angry']\n"
     ]
    }
   ],
   "source": [
    "labels_subset = labels[:5]\n",
    "print(\"Labels subset:\", labels_subset)"
   ]
  },
  {
   "cell_type": "code",
   "execution_count": 9,
   "id": "bd4acf48",
   "metadata": {},
   "outputs": [
    {
     "name": "stdout",
     "output_type": "stream",
     "text": [
      "Label to ID mapping: {'sad': 0, 'disgust': 1, 'angry': 2, 'neutral': 3, 'fear': 4, 'surprise': 5, 'happy': 6}\n",
      "ID to Label mapping: {0: 'sad', 1: 'disgust', 2: 'angry', 3: 'neutral', 4: 'fear', 5: 'surprise', 6: 'happy'}\n"
     ]
    }
   ],
   "source": [
    "labels_list = ['sad', 'disgust', 'angry', 'neutral', 'fear', 'surprise', 'happy']\n",
    "\n",
    "label2id, id2label = dict(), dict()\n",
    "\n",
    "for i, label in enumerate(labels_list):\n",
    "    label2id[label] = i\n",
    "    id2label[i] = label\n",
    "\n",
    "print(\"Label to ID mapping:\", label2id)\n",
    "print(\"ID to Label mapping:\", id2label)"
   ]
  },
  {
   "cell_type": "code",
   "execution_count": 10,
   "id": "4acd3ef1",
   "metadata": {},
   "outputs": [
    {
     "data": {
      "application/vnd.jupyter.widget-view+json": {
       "model_id": "16cbc85fe76740d892efbd1e07b5edee",
       "version_major": 2,
       "version_minor": 0
      },
      "text/plain": [
       "Map:   0%|          | 0/125846 [00:00<?, ? examples/s]"
      ]
     },
     "metadata": {},
     "output_type": "display_data"
    },
    {
     "data": {
      "application/vnd.jupyter.widget-view+json": {
       "model_id": "b6b4c4e3abd3430ab55334adc14d763b",
       "version_major": 2,
       "version_minor": 0
      },
      "text/plain": [
       "Casting the dataset:   0%|          | 0/125846 [00:00<?, ? examples/s]"
      ]
     },
     "metadata": {},
     "output_type": "display_data"
    }
   ],
   "source": [
    "from datasets import ClassLabel\n",
    "ClassLabel = ClassLabel(num_classes=len(labels_list), names=labels_list)\n",
    "\n",
    "def map_labels(example):\n",
    "    example['label'] = ClassLabel.str2int(example['label'])\n",
    "    return example \n",
    "dataset = dataset.map(map_labels, batched=True)\n",
    "\n",
    "dataset = dataset.cast_column(\"label\", ClassLabel)\n",
    "dataset = dataset.train_test_split(test_size = 0.4, shuffle=True, stratify_by_column=\"label\")\n",
    "\n",
    "train_data = dataset['train']\n",
    "test_data = dataset['test']"
   ]
  },
  {
   "cell_type": "code",
   "execution_count": 13,
   "id": "5fd57d43",
   "metadata": {},
   "outputs": [
    {
     "name": "stdout",
     "output_type": "stream",
     "text": [
      "size: 224\n"
     ]
    }
   ],
   "source": [
    "model = 'google/vit-base-patch16-224-in21k'\n",
    "processor = ViTImageProcessor.from_pretrained(model)\n",
    "image_mean, image_std = processor.image_mean, processor.image_std\n",
    "\n",
    "size = processor.size['height']\n",
    "print(\"size:\", size)\n",
    "\n",
    "normalize = Normalize(mean=image_mean, std=image_std)\n",
    "\n",
    "_train_transforms = Compose(\n",
    "    [\n",
    "        Resize((size,size)),\n",
    "        RandomRotation(90),\n",
    "        RandomAdjustSharpness(2),\n",
    "        RandomHorizontalFlip(0.5),\n",
    "        ToTensor(),\n",
    "        normalize,\n",
    "    ]\n",
    ")\n",
    "_val_transforms = Compose(\n",
    "    [\n",
    "        Resize((size,size)),\n",
    "        ToTensor(),\n",
    "        normalize,\n",
    "    ]\n",
    ")\n",
    "\n",
    "def train_transform(examples):\n",
    "    examples['pixel_values'] = [_train_transforms(image.convert(\"RGB\")) for image in examples['image']]\n",
    "    return examples\n",
    "\n",
    "def val_transforms(examples):\n",
    "    examples['pixel_values'] = [_val_transforms(image.convert(\"RGB\")) for image in examples['image']]\n",
    "    return examples"
   ]
  },
  {
   "cell_type": "code",
   "execution_count": 12,
   "id": "6f34336d",
   "metadata": {},
   "outputs": [],
   "source": [
    "train_data.set_transform(train_transform)\n",
    "test_data.set_transform(val_transforms)"
   ]
  },
  {
   "cell_type": "code",
   "execution_count": 13,
   "id": "0d38c8f7",
   "metadata": {},
   "outputs": [],
   "source": [
    "def collate_fn(examples):\n",
    "    pixel_values = torch.stack([example[\"pixel_values\"] for example in examples])\n",
    "\n",
    "    labels = torch.tensor([example['label'] for example in examples])\n",
    "\n",
    "    return {\"pixel_values\": pixel_values, \"labels\": labels}"
   ]
  },
  {
   "cell_type": "code",
   "execution_count": 23,
   "id": "394956f5",
   "metadata": {},
   "outputs": [
    {
     "name": "stderr",
     "output_type": "stream",
     "text": [
      "Some weights of ViTForImageClassification were not initialized from the model checkpoint at google/vit-base-patch16-224-in21k and are newly initialized: ['classifier.bias', 'classifier.weight']\n",
      "You should probably TRAIN this model on a down-stream task to be able to use it for predictions and inference.\n"
     ]
    },
    {
     "name": "stdout",
     "output_type": "stream",
     "text": [
      "28.356871\n",
      "Model is on device: cuda:0\n"
     ]
    }
   ],
   "source": [
    "model = ViTForImageClassification.from_pretrained(model, num_labels=len(labels_list))\n",
    "model.config.id2label = id2label\n",
    "model.config.label2id = label2id\n",
    "\n",
    "for param in model.vit.parameters():\n",
    "    param.requires_grad = False\n",
    "\n",
    "for param in model.classifier.parameters():\n",
    "    param.requires_grad = True\n",
    "\n",
    "for param in model.vit.encoder.layer[-4:].parameters():\n",
    "    param.requires_grad = True\n",
    "    \n",
    "model.to(device)\n",
    "\n",
    "print(model.num_parameters(only_trainable=True) / 1e6)\n",
    "print(f\"Model is on device: {next(model.parameters()).device}\")"
   ]
  },
  {
   "cell_type": "code",
   "execution_count": 15,
   "id": "1aa09cde",
   "metadata": {},
   "outputs": [],
   "source": [
    "accuracy = evaluate.load(\"accuracy\")\n",
    "\n",
    "def compute_metrics(eval_pred):\n",
    "    predictions = eval_pred.predictions\n",
    "    label_ids = eval_pred.label_ids\n",
    "    predicted_labels = predictions.argmax(axis=1)\n",
    "    acc_score = accuracy.compute(predictions=predicted_labels, references=label_ids)['accuracy']\n",
    "    return {\"accuracy\": acc_score}  "
   ]
  },
  {
   "cell_type": "code",
   "execution_count": 24,
   "id": "60ffc43c",
   "metadata": {},
   "outputs": [
    {
     "name": "stdout",
     "output_type": "stream",
     "text": [
      "GPU Memory: 6.4 GB\n"
     ]
    }
   ],
   "source": [
    "metric_name = 'accuracy'\n",
    "model_name = 'facial_emotions_image_detection'\n",
    "num_train_epochs = 30\n",
    "\n",
    "if torch.cuda.is_available():\n",
    "    gpu_memory = torch.cuda.get_device_properties(0).total_memory / 1e9\n",
    "    print(f\"GPU Memory: {gpu_memory:.1f} GB\")\n",
    "\n",
    "args = TrainingArguments(\n",
    "    output_dir=model_name,\n",
    "    logging_dir = './logs',\n",
    "    eval_strategy=\"epoch\",\n",
    "    learning_rate= 5e-5,\n",
    "    lr_scheduler_type='cosine',\n",
    "    warmup_ratio=0.1,\n",
    "    per_device_eval_batch_size= 32 if gpu_memory > 8 else 8,\n",
    "    per_device_train_batch_size= 64 if gpu_memory > 8 else 32,\n",
    "    num_train_epochs = num_train_epochs,\n",
    "    weight_decay= 0.02,\n",
    "    warmup_steps = 100,\n",
    "    remove_unused_columns=False,\n",
    "    save_strategy='epoch',\n",
    "    load_best_model_at_end=True,\n",
    "    save_total_limit=1,\n",
    "    report_to=\"none\",\n",
    "    eval_steps=500,\n",
    "    logging_steps=100,\n",
    "    dataloader_pin_memory=False,\n",
    "    dataloader_num_workers=0,\n",
    "    fp16=True,\n",
    ")"
   ]
  },
  {
   "cell_type": "code",
   "execution_count": 25,
   "id": "44cf692d",
   "metadata": {},
   "outputs": [],
   "source": [
    "from transformers import EarlyStoppingCallback\n",
    "\n",
    "callback = EarlyStoppingCallback(\n",
    "    early_stopping_patience=8,\n",
    "    early_stopping_threshold=0.06\n",
    ")\n",
    "trainer = Trainer(\n",
    "    model,\n",
    "    args,\n",
    "    train_dataset = train_data,\n",
    "    eval_dataset = test_data,\n",
    "    data_collator = collate_fn,\n",
    "    compute_metrics=compute_metrics,\n",
    "    tokenizer=processor,\n",
    "    callbacks=[callback],\n",
    ")"
   ]
  },
  {
   "cell_type": "code",
   "execution_count": 26,
   "id": "00ed8d5e",
   "metadata": {},
   "outputs": [
    {
     "data": {
      "text/html": [
       "\n",
       "    <div>\n",
       "      \n",
       "      <progress value='12586' max='6293' style='width:300px; height:20px; vertical-align: middle;'></progress>\n",
       "      [6293/6293 25:18]\n",
       "    </div>\n",
       "    "
      ],
      "text/plain": [
       "<IPython.core.display.HTML object>"
      ]
     },
     "metadata": {},
     "output_type": "display_data"
    },
    {
     "data": {
      "text/plain": [
       "{'eval_loss': 1.9411166906356812,\n",
       " 'eval_model_preparation_time': 0.0036,\n",
       " 'eval_accuracy': 0.18152923180833946,\n",
       " 'eval_runtime': 234.1423,\n",
       " 'eval_samples_per_second': 214.993,\n",
       " 'eval_steps_per_second': 26.877}"
      ]
     },
     "execution_count": 26,
     "metadata": {},
     "output_type": "execute_result"
    }
   ],
   "source": [
    "trainer.evaluate()"
   ]
  },
  {
   "cell_type": "code",
   "execution_count": 27,
   "id": "77cc4b93",
   "metadata": {},
   "outputs": [
    {
     "data": {
      "text/html": [
       "\n",
       "    <div>\n",
       "      \n",
       "      <progress value='23600' max='70800' style='width:300px; height:20px; vertical-align: middle;'></progress>\n",
       "      [23600/70800 2:41:25 < 5:22:52, 2.44 it/s, Epoch 10/30]\n",
       "    </div>\n",
       "    <table border=\"1\" class=\"dataframe\">\n",
       "  <thead>\n",
       " <tr style=\"text-align: left;\">\n",
       "      <th>Epoch</th>\n",
       "      <th>Training Loss</th>\n",
       "      <th>Validation Loss</th>\n",
       "      <th>Model Preparation Time</th>\n",
       "      <th>Accuracy</th>\n",
       "    </tr>\n",
       "  </thead>\n",
       "  <tbody>\n",
       "    <tr>\n",
       "      <td>1</td>\n",
       "      <td>1.014400</td>\n",
       "      <td>1.034392</td>\n",
       "      <td>0.003600</td>\n",
       "      <td>0.617056</td>\n",
       "    </tr>\n",
       "    <tr>\n",
       "      <td>2</td>\n",
       "      <td>0.873500</td>\n",
       "      <td>0.922285</td>\n",
       "      <td>0.003600</td>\n",
       "      <td>0.662051</td>\n",
       "    </tr>\n",
       "    <tr>\n",
       "      <td>3</td>\n",
       "      <td>0.768200</td>\n",
       "      <td>0.865786</td>\n",
       "      <td>0.003600</td>\n",
       "      <td>0.679811</td>\n",
       "    </tr>\n",
       "    <tr>\n",
       "      <td>4</td>\n",
       "      <td>0.651000</td>\n",
       "      <td>0.824593</td>\n",
       "      <td>0.003600</td>\n",
       "      <td>0.701106</td>\n",
       "    </tr>\n",
       "    <tr>\n",
       "      <td>5</td>\n",
       "      <td>0.629500</td>\n",
       "      <td>0.806944</td>\n",
       "      <td>0.003600</td>\n",
       "      <td>0.698305</td>\n",
       "    </tr>\n",
       "    <tr>\n",
       "      <td>6</td>\n",
       "      <td>0.542400</td>\n",
       "      <td>0.773014</td>\n",
       "      <td>0.003600</td>\n",
       "      <td>0.713383</td>\n",
       "    </tr>\n",
       "    <tr>\n",
       "      <td>7</td>\n",
       "      <td>0.471100</td>\n",
       "      <td>0.760681</td>\n",
       "      <td>0.003600</td>\n",
       "      <td>0.725938</td>\n",
       "    </tr>\n",
       "    <tr>\n",
       "      <td>8</td>\n",
       "      <td>0.416900</td>\n",
       "      <td>0.713383</td>\n",
       "      <td>0.003600</td>\n",
       "      <td>0.740917</td>\n",
       "    </tr>\n",
       "    <tr>\n",
       "      <td>9</td>\n",
       "      <td>0.360600</td>\n",
       "      <td>0.723185</td>\n",
       "      <td>0.003600</td>\n",
       "      <td>0.742685</td>\n",
       "    </tr>\n",
       "    <tr>\n",
       "      <td>10</td>\n",
       "      <td>0.358700</td>\n",
       "      <td>0.693883</td>\n",
       "      <td>0.003600</td>\n",
       "      <td>0.754504</td>\n",
       "    </tr>\n",
       "  </tbody>\n",
       "</table><p>"
      ],
      "text/plain": [
       "<IPython.core.display.HTML object>"
      ]
     },
     "metadata": {},
     "output_type": "display_data"
    },
    {
     "data": {
      "text/plain": [
       "TrainOutput(global_step=23600, training_loss=0.6465182027978412, metrics={'train_runtime': 9686.6472, 'train_samples_per_second': 233.849, 'train_steps_per_second': 7.309, 'total_flos': 5.851449871550244e+19, 'train_loss': 0.6465182027978412, 'epoch': 10.0})"
      ]
     },
     "execution_count": 27,
     "metadata": {},
     "output_type": "execute_result"
    }
   ],
   "source": [
    "trainer.train()"
   ]
  },
  {
   "cell_type": "code",
   "execution_count": 30,
   "id": "18e8769b",
   "metadata": {},
   "outputs": [],
   "source": [
    "trainer.model.save_pretrained(\"emotion_classification_trained_3\",safe_serialization=False)\n",
    "\n",
    "if hasattr(trainer, 'feature_extractor'):\n",
    "    trainer.feature_extractor.save_pretrained(\"emotion_classification_trained_3\")\n",
    "\n",
    "else :\n",
    "    processor = ViTImageProcessor.from_pretrained(\"google/vit-base-patch16-224\")\n",
    "    processor.save_pretrained(\"emotion_classification_trained_3\")"
   ]
  },
  {
   "cell_type": "code",
   "execution_count": 31,
   "id": "a911f27a",
   "metadata": {},
   "outputs": [
    {
     "data": {
      "text/html": [],
      "text/plain": [
       "<IPython.core.display.HTML object>"
      ]
     },
     "metadata": {},
     "output_type": "display_data"
    },
    {
     "data": {
      "text/plain": [
       "{'eval_loss': 0.6938828229904175,\n",
       " 'eval_model_preparation_time': 0.0036,\n",
       " 'eval_accuracy': 0.7545044597628081,\n",
       " 'eval_runtime': 240.7688,\n",
       " 'eval_samples_per_second': 209.076,\n",
       " 'eval_steps_per_second': 26.137,\n",
       " 'epoch': 10.0}"
      ]
     },
     "execution_count": 31,
     "metadata": {},
     "output_type": "execute_result"
    }
   ],
   "source": [
    "trainer.evaluate()"
   ]
  },
  {
   "cell_type": "code",
   "execution_count": 32,
   "id": "d3b05b6f",
   "metadata": {},
   "outputs": [
    {
     "name": "stdout",
     "output_type": "stream",
     "text": [
      "{'test_loss': 0.6938828229904175, 'test_model_preparation_time': 0.0036, 'test_accuracy': 0.7545044597628081, 'test_runtime': 255.3627, 'test_samples_per_second': 197.127, 'test_steps_per_second': 24.643}\n"
     ]
    }
   ],
   "source": [
    "outputs = trainer.predict(test_data)\n",
    "print(outputs.metrics)"
   ]
  },
  {
   "cell_type": "code",
   "execution_count": 33,
   "id": "154518ea",
   "metadata": {},
   "outputs": [
    {
     "name": "stdout",
     "output_type": "stream",
     "text": [
      "Accuracy: 0.7545\n",
      "F1 Score: 0.7532\n"
     ]
    },
    {
     "data": {
      "image/png": "[encoded data removed]",
      "text/plain": [
       "<Figure size 800x600 with 2 Axes>"
      ]
     },
     "metadata": {},
     "output_type": "display_data"
    },
    {
     "name": "stdout",
     "output_type": "stream",
     "text": [
      "\n",
      "Classification report:\n",
      "\n",
      "              precision    recall  f1-score   support\n",
      "\n",
      "         sad     0.6069    0.6267    0.6166      7192\n",
      "     disgust     0.9476    0.9633    0.9554      7191\n",
      "       angry     0.6320    0.7715    0.6948      7191\n",
      "     neutral     0.6898    0.7014    0.6956      7191\n",
      "        fear     0.7073    0.5330    0.6079      7192\n",
      "    surprise     0.8326    0.8849    0.8580      7191\n",
      "       happy     0.8926    0.8009    0.8442      7191\n",
      "\n",
      "    accuracy                         0.7545     50339\n",
      "   macro avg     0.7584    0.7545    0.7532     50339\n",
      "weighted avg     0.7584    0.7545    0.7532     50339\n",
      "\n"
     ]
    }
   ],
   "source": [
    "y_true = outputs.label_ids\n",
    "\n",
    "y_pred = outputs.predictions.argmax(1)\n",
    "\n",
    "def plot_confusion_matrix(cm, classes, title='Confusion Matrix', cmap=plt.cm.Blues, figsize=(10, 8)):\n",
    "   \n",
    "    plt.figure(figsize=figsize)\n",
    "    \n",
    "    plt.imshow(cm, interpolation='nearest', cmap=cmap)\n",
    "    plt.title(title)\n",
    "    plt.colorbar()\n",
    "\n",
    "    tick_marks = np.arange(len(classes))\n",
    "    plt.xticks(tick_marks, classes, rotation=90)\n",
    "    plt.yticks(tick_marks, classes)\n",
    "\n",
    "    fmt = '.0f'\n",
    "    thresh = cm.max() / 2.0\n",
    "    for i, j in itertools.product(range(cm.shape[0]), range(cm.shape[1])):\n",
    "        plt.text(j, i, format(cm[i, j], fmt), horizontalalignment=\"center\", color=\"white\" if cm[i, j] > thresh else \"black\")\n",
    "\n",
    "    plt.ylabel('True label')\n",
    "    plt.xlabel('Predicted label')\n",
    "\n",
    "    plt.tight_layout()\n",
    "    plt.show()\n",
    "\n",
    "accuracy = accuracy_score(y_true, y_pred)\n",
    "f1 = f1_score(y_true, y_pred, average='macro')\n",
    "\n",
    "print(f\"Accuracy: {accuracy:.4f}\")\n",
    "print(f\"F1 Score: {f1:.4f}\")\n",
    "\n",
    "if len(labels_list) <= 150:\n",
    "    cm = confusion_matrix(y_true, y_pred)\n",
    "    plot_confusion_matrix(cm, labels_list, figsize=(8, 6))\n",
    "    \n",
    "print()\n",
    "print(\"Classification report:\")\n",
    "print()\n",
    "print(classification_report(y_true, y_pred, target_names=labels_list, digits=4))"
   ]
  },
  {
   "cell_type": "markdown",
   "id": "c6fbf6bd",
   "metadata": {},
   "source": [
    "VALIDATION"
   ]
  },
  {
   "cell_type": "code",
   "execution_count": 4,
   "id": "6b6148aa",
   "metadata": {},
   "outputs": [
    {
     "data": {
      "text/plain": [
       "ViTForImageClassification(\n",
       "  (vit): ViTModel(\n",
       "    (embeddings): ViTEmbeddings(\n",
       "      (patch_embeddings): ViTPatchEmbeddings(\n",
       "        (projection): Conv2d(3, 768, kernel_size=(16, 16), stride=(16, 16))\n",
       "      )\n",
       "      (dropout): Dropout(p=0.0, inplace=False)\n",
       "    )\n",
       "    (encoder): ViTEncoder(\n",
       "      (layer): ModuleList(\n",
       "        (0-11): 12 x ViTLayer(\n",
       "          (attention): ViTAttention(\n",
       "            (attention): ViTSelfAttention(\n",
       "              (query): Linear(in_features=768, out_features=768, bias=True)\n",
       "              (key): Linear(in_features=768, out_features=768, bias=True)\n",
       "              (value): Linear(in_features=768, out_features=768, bias=True)\n",
       "            )\n",
       "            (output): ViTSelfOutput(\n",
       "              (dense): Linear(in_features=768, out_features=768, bias=True)\n",
       "              (dropout): Dropout(p=0.0, inplace=False)\n",
       "            )\n",
       "          )\n",
       "          (intermediate): ViTIntermediate(\n",
       "            (dense): Linear(in_features=768, out_features=3072, bias=True)\n",
       "            (intermediate_act_fn): GELUActivation()\n",
       "          )\n",
       "          (output): ViTOutput(\n",
       "            (dense): Linear(in_features=3072, out_features=768, bias=True)\n",
       "            (dropout): Dropout(p=0.0, inplace=False)\n",
       "          )\n",
       "          (layernorm_before): LayerNorm((768,), eps=1e-12, elementwise_affine=True)\n",
       "          (layernorm_after): LayerNorm((768,), eps=1e-12, elementwise_affine=True)\n",
       "        )\n",
       "      )\n",
       "    )\n",
       "    (layernorm): LayerNorm((768,), eps=1e-12, elementwise_affine=True)\n",
       "  )\n",
       "  (classifier): Linear(in_features=768, out_features=7, bias=True)\n",
       ")"
      ]
     },
     "execution_count": 4,
     "metadata": {},
     "output_type": "execute_result"
    }
   ],
   "source": [
    "model = ViTForImageClassification.from_pretrained(\"emotion_classification_trained_3\")\n",
    "processor = ViTImageProcessor.from_pretrained(\"emotion_classification_trained_3\")\n",
    "model.eval()"
   ]
  },
  {
   "cell_type": "code",
   "execution_count": 5,
   "id": "783d5122",
   "metadata": {},
   "outputs": [
    {
     "name": "stdout",
     "output_type": "stream",
     "text": [
      "Model loaded successfully!\n",
      "Number of emotion classes: 7\n",
      "Emotion labels: ['sad', 'disgust', 'angry', 'neutral', 'fear', 'surprise', 'happy']\n"
     ]
    }
   ],
   "source": [
    "if hasattr(model.config, 'id2label') and model.config.id2label:\n",
    "    id2label = model.config.id2label\n",
    "else:\n",
    "    id2label = {\n",
    "        0: \"angry\", 1: \"disgust\", 2: \"fear\", 3: \"happy\",\n",
    "        4: \"neutral\", 5: \"sad\", 6: \"surprise\"\n",
    "    }\n",
    "\n",
    "print(f\"Model loaded successfully!\")\n",
    "print(f\"Number of emotion classes: {len(id2label)}\")\n",
    "print(f\"Emotion labels: {list(id2label.values())}\")"
   ]
  },
  {
   "cell_type": "code",
   "execution_count": 6,
   "id": "527033a9",
   "metadata": {},
   "outputs": [],
   "source": [
    "resized_folder = \"../data/images/resized_samples\"\n",
    "def load_images_from_folder(folder_path):\n",
    "    image_extensions = {'.jpg', '.jpeg', '.png', '.bmp', '.gif', '.tiff'}\n",
    "    image_paths = []\n",
    "    \n",
    "    for filename in os.listdir(folder_path):\n",
    "        if any(filename.lower().endswith(ext) for ext in image_extensions):\n",
    "            image_paths.append(os.path.join(folder_path, filename))\n",
    "    \n",
    "    return image_paths\n",
    "\n",
    "def predict_single_image(image_path, save_resized_sample=False):\n",
    "    try:\n",
    "        if not os.path.exists(image_path):\n",
    "            print(f\"File not found: {image_path}\")\n",
    "            return None, None, None\n",
    "            \n",
    "        try:\n",
    "            image = Image.open(image_path)\n",
    "        except Exception as img_error:\n",
    "            print(f\"Error opening image {image_path}: {img_error}\")\n",
    "            try:\n",
    "                import PIL.Image\n",
    "                image = PIL.Image.open(image_path)\n",
    "            except Exception as alt_error:\n",
    "                print(f\"Alternative PIL also failed: {alt_error}\")\n",
    "                return None, None, None\n",
    "        \n",
    "        image = image.convert('RGB')\n",
    "        \n",
    "        original_size = image.size\n",
    "        \n",
    "        image_48x48 = image.resize((224, 224), Image.Resampling.LANCZOS)\n",
    "        \n",
    "        if save_resized_sample:\n",
    "            filename = os.path.basename(image_path)\n",
    "            name, ext = os.path.splitext(filename)\n",
    "            resized_filename = f\"{name}_48x48{ext}\"\n",
    "            resized_path = os.path.join(resized_folder, resized_filename)\n",
    "            image_48x48.save(resized_path)\n",
    "            print(f\"Saved resized sample: {resized_path}\")\n",
    "        \n",
    "        inputs = processor(images=image_48x48, return_tensors=\"pt\")\n",
    "        \n",
    "        with torch.no_grad():\n",
    "            outputs = model(**inputs)\n",
    "            logits = outputs.logits\n",
    "        \n",
    "        probabilities = torch.nn.functional.softmax(logits, dim=-1)[0]\n",
    "        predicted_class_id = logits.argmax().item()\n",
    "        predicted_label = id2label[predicted_class_id]\n",
    "        confidence = probabilities[predicted_class_id].item()\n",
    "        \n",
    "        return predicted_label, confidence, probabilities, original_size\n",
    "        \n",
    "    except Exception as e:\n",
    "        print(f\"Error processing {image_path}: {str(e)}\")\n",
    "        print(f\"Error type: {type(e)}\")\n",
    "        return None, None, None, None\n",
    "\n",
    "\n",
    "def print_emotion_distribution(emotion_distribution, folder_name=\"\"):\n",
    "    if folder_name:\n",
    "        print(f\"\\n=== Emotion Distribution for {folder_name} ===\")\n",
    "    else:\n",
    "        print(\"\\n=== Emotion Distribution ===\")    \n",
    "    sorted_emotions = sorted(emotion_distribution.items(), \n",
    "                           key=lambda x: x[1], reverse=True)\n",
    "    \n",
    "    for emotion, probability in sorted_emotions:\n",
    "        print(f'\"{emotion}\": {probability:.2f}')"
   ]
  },
  {
   "cell_type": "code",
   "execution_count": 7,
   "id": "d3813735",
   "metadata": {},
   "outputs": [
    {
     "name": "stdout",
     "output_type": "stream",
     "text": [
      "Folder found: ../data/images/asd/test/\n"
     ]
    }
   ],
   "source": [
    "import os\n",
    "folder_path = \"../data/images/asd/test/\"  \n",
    "if not os.path.exists(folder_path):\n",
    "    print(f\"Folder {folder_path} not be found!\")\n",
    "else:\n",
    "    print(f\"Folder found: {folder_path}\")"
   ]
  },
  {
   "cell_type": "code",
   "execution_count": 8,
   "id": "d466a2be",
   "metadata": {},
   "outputs": [
    {
     "name": "stdout",
     "output_type": "stream",
     "text": [
      "Found 1 images in the folder\n",
      "\n",
      "Sample image files:\n",
      "1. PERSON_1200001_face0.jpg\n"
     ]
    }
   ],
   "source": [
    "image_paths = load_images_from_folder(folder_path)\n",
    "print(f\"Found {len(image_paths)} images in the folder\")\n",
    "\n",
    "if image_paths:\n",
    "    print(\"\\nSample image files:\")\n",
    "    for i, path in enumerate(image_paths[:5]): \n",
    "        print(f\"{i+1}. {os.path.basename(path)}\")\n",
    "    if len(image_paths) > 5:\n",
    "        print(f\"... and {len(image_paths) - 5} more images\")"
   ]
  },
  {
   "cell_type": "code",
   "execution_count": 9,
   "id": "47fa83c7",
   "metadata": {},
   "outputs": [
    {
     "name": "stdout",
     "output_type": "stream",
     "text": [
      "Processing images...\n",
      "Processing image 1/1\n",
      "\n",
      "Processing completed:\n",
      "- Successful: 1\n",
      "- Failed: 0\n",
      "- Resized samples saved: 0\n",
      "\n",
      "=== Emotion Distribution for Average Probabilities Method (48x48 Resize) ===\n",
      "\"sad\": 0.88\n",
      "\"fear\": 0.07\n",
      "\"neutral\": 0.02\n",
      "\"surprise\": 0.01\n",
      "\"disgust\": 0.01\n",
      "\"angry\": 0.01\n",
      "\"happy\": 0.00\n"
     ]
    }
   ],
   "source": [
    "print(\"Processing images...\")\n",
    "\n",
    "all_probabilities = []\n",
    "successful_predictions = 0\n",
    "failed_predictions = 0\n",
    "save_sample_counter = 0\n",
    "max_samples_to_save = 0\n",
    "\n",
    "for i, image_path in enumerate(image_paths):\n",
    "    if i % 10 == 0:  \n",
    "        print(f\"Processing image {i+1}/{len(image_paths)}\")\n",
    "    \n",
    "    save_resized = save_sample_counter < max_samples_to_save\n",
    "    \n",
    "    result = predict_single_image(image_path, save_resized_sample=save_resized)\n",
    "    \n",
    "    if len(result) == 4 and result[0] is not None:\n",
    "        _, _, probabilities, original_size = result\n",
    "        all_probabilities.append(probabilities.numpy())\n",
    "        successful_predictions += 1\n",
    "        \n",
    "        if save_resized:\n",
    "            save_sample_counter += 1\n",
    "            print(f\"  Sample {save_sample_counter}: {os.path.basename(image_path)} - Original: {original_size}, Resized: 48x48\")\n",
    "    else:\n",
    "        failed_predictions += 1\n",
    "\n",
    "print(f\"\\nProcessing completed:\")\n",
    "print(f\"- Successful: {successful_predictions}\")\n",
    "print(f\"- Failed: {failed_predictions}\")\n",
    "print(f\"- Resized samples saved: {min(save_sample_counter, max_samples_to_save)}\")\n",
    "\n",
    "if all_probabilities:\n",
    "    avg_probabilities = np.mean(all_probabilities, axis=0)    \n",
    "    emotion_distribution_avg = {}\n",
    "    for class_id, avg_prob in enumerate(avg_probabilities):\n",
    "        emotion_label = id2label[class_id]\n",
    "        emotion_distribution_avg[emotion_label] = float(avg_prob)\n",
    "    \n",
    "    print_emotion_distribution(emotion_distribution_avg, f\"Average Probabilities Method (48x48 Resize)\")\n",
    "else:\n",
    "    print(\"No successful predictions made!\")"
   ]
  },
  {
   "cell_type": "code",
   "execution_count": 24,
   "id": "e3aa24c1",
   "metadata": {},
   "outputs": [
    {
     "name": "stdout",
     "output_type": "stream",
     "text": [
      "\n",
      "=== Emotion Distribution for Vote Count Method (48x48 Resize) ===\n",
      "\"sad\": 0.69\n",
      "\"fear\": 0.12\n",
      "\"happy\": 0.10\n",
      "\"neutral\": 0.03\n",
      "\"angry\": 0.03\n",
      "\"disgust\": 0.02\n",
      "\"surprise\": 0.01\n",
      "\n",
      "Raw vote counts (out of 817 successful predictions):\n",
      "sad: 565 votes\n",
      "fear: 100 votes\n",
      "happy: 79 votes\n",
      "neutral: 26 votes\n",
      "angry: 24 votes\n",
      "disgust: 17 votes\n",
      "surprise: 6 votes\n"
     ]
    }
   ],
   "source": [
    "emotion_counts = Counter()\n",
    "successful_predictions = 0\n",
    "\n",
    "for i, image_path in enumerate(image_paths):\n",
    "    result = predict_single_image(image_path, save_resized_sample=False)\n",
    "    if len(result) == 4 and result[0] is not None:\n",
    "        predicted_label, _, _, _ = result\n",
    "        emotion_counts[predicted_label] += 1\n",
    "        successful_predictions += 1\n",
    "\n",
    "if emotion_counts:\n",
    "    emotion_distribution_vote = {}\n",
    "    total_predictions = sum(emotion_counts.values())\n",
    "    \n",
    "    for emotion in id2label.values():\n",
    "        emotion_distribution_vote[emotion] = 0.0\n",
    "    \n",
    "    for emotion, count in emotion_counts.items():\n",
    "        emotion_distribution_vote[emotion] = count / total_predictions\n",
    "    \n",
    "    print_emotion_distribution(emotion_distribution_vote, \"Vote Count Method (48x48 Resize)\")\n",
    "    \n",
    "    print(f\"\\nRaw vote counts (out of {total_predictions} successful predictions):\")\n",
    "    for emotion, count in sorted(emotion_counts.items(), key=lambda x: x[1], reverse=True):\n",
    "        print(f\"{emotion}: {count} votes\")\n"
   ]
  },
  {
   "cell_type": "code",
   "execution_count": 25,
   "id": "b4567b39",
   "metadata": {},
   "outputs": [
    {
     "data": {
      "image/png": "[encoded data removed]",
      "text/plain": [
       "<Figure size 1200x500 with 2 Axes>"
      ]
     },
     "metadata": {},
     "output_type": "display_data"
    }
   ],
   "source": [
    "if 'emotion_distribution_avg' in locals():\n",
    "    plt.figure(figsize=(12, 5))\n",
    "    \n",
    "    plt.subplot(1, 2, 1)\n",
    "    emotions = list(emotion_distribution_avg.keys())\n",
    "    probabilities = list(emotion_distribution_avg.values())\n",
    "    \n",
    "    bars1 = plt.bar(emotions, probabilities, color='skyblue', alpha=0.7)\n",
    "    plt.title('Average Probabilities Method')\n",
    "    plt.xlabel('Emotions')\n",
    "    plt.ylabel('Probability')\n",
    "    plt.xticks(rotation=45)\n",
    "    \n",
    "    for bar in bars1:\n",
    "        height = bar.get_height()\n",
    "        plt.text(bar.get_x() + bar.get_width()/2., height + 0.01,\n",
    "                f'{height:.2f}', ha='center', va='bottom')\n",
    "    \n",
    "    if 'emotion_distribution_vote' in locals():\n",
    "        plt.subplot(1, 2, 2)\n",
    "        emotions2 = list(emotion_distribution_vote.keys())\n",
    "        probabilities2 = list(emotion_distribution_vote.values())\n",
    "        \n",
    "        bars2 = plt.bar(emotions2, probabilities2, color='lightcoral', alpha=0.7)\n",
    "        plt.title('Vote Count Method')\n",
    "        plt.xlabel('Emotions')\n",
    "        plt.ylabel('Proportion')\n",
    "        plt.xticks(rotation=45)\n",
    "        \n",
    "        for bar in bars2:\n",
    "            height = bar.get_height()\n",
    "            plt.text(bar.get_x() + bar.get_width()/2., height + 0.01,\n",
    "                    f'{height:.2f}', ha='center', va='bottom')\n",
    "    \n",
    "    plt.tight_layout()\n",
    "    plt.show()"
   ]
  },
  {
   "cell_type": "code",
   "execution_count": 32,
   "id": "92398cc3",
   "metadata": {},
   "outputs": [
    {
     "name": "stdout",
     "output_type": "stream",
     "text": [
      "Showing detailed predictions for first 10 images:\n"
     ]
    },
    {
     "ename": "ValueError",
     "evalue": "too many values to unpack (expected 3)",
     "output_type": "error",
     "traceback": [
      "\u001b[31m---------------------------------------------------------------------------\u001b[39m",
      "\u001b[31mValueError\u001b[39m                                Traceback (most recent call last)",
      "\u001b[36mCell\u001b[39m\u001b[36m \u001b[39m\u001b[32mIn[32]\u001b[39m\u001b[32m, line 7\u001b[39m\n\u001b[32m      5\u001b[39m \u001b[38;5;28;01mfor\u001b[39;00m i \u001b[38;5;129;01min\u001b[39;00m \u001b[38;5;28mrange\u001b[39m(sample_size):\n\u001b[32m      6\u001b[39m     image_path = image_paths[i]\n\u001b[32m----> \u001b[39m\u001b[32m7\u001b[39m     emotion, confidence, all_probs = predict_single_image(image_path)\n\u001b[32m      9\u001b[39m     \u001b[38;5;28;01mif\u001b[39;00m emotion:\n\u001b[32m     10\u001b[39m         filename = os.path.basename(image_path)\n",
      "\u001b[31mValueError\u001b[39m: too many values to unpack (expected 3)"
     ]
    }
   ],
   "source": [
    "sample_size = min(10, len(image_paths))\n",
    "print(f\"Showing detailed predictions for first {sample_size} images:\")\n",
    "\n",
    "detailed_results = []\n",
    "for i in range(sample_size):\n",
    "    image_path = image_paths[i]\n",
    "    emotion, confidence, all_probs = predict_single_image(image_path)\n",
    "    \n",
    "    if emotion:\n",
    "        filename = os.path.basename(image_path)\n",
    "        print(f\"\\n{i+1}. {filename}\")\n",
    "        print(f\"   Predicted: {emotion} (confidence: {confidence:.3f})\")\n",
    "        \n",
    "        probs_dict = {id2label[j]: prob.item() for j, prob in enumerate(all_probs)}\n",
    "        top_3 = sorted(probs_dict.items(), key=lambda x: x[1], reverse=True)[:3]\n",
    "        print(f\"   Top 3: {top_3[0][0]}({top_3[0][1]:.3f}), {top_3[1][0]}({top_3[1][1]:.3f}), {top_3[2][0]}({top_3[2][1]:.3f})\")\n",
    "        \n",
    "        detailed_results.append({\n",
    "            'image': filename,\n",
    "            'predicted_emotion': emotion,\n",
    "            'confidence': confidence\n",
    "        })"
   ]
  },
  {
   "cell_type": "code",
   "execution_count": 20,
   "id": "4be16a65",
   "metadata": {},
   "outputs": [
    {
     "name": "stdout",
     "output_type": "stream",
     "text": [
      "\n",
      "Results saved to: Person_12_fix_result.json\n",
      "Text results saved to: Person_12_fix_result.txt\n"
     ]
    }
   ],
   "source": [
    "import json\n",
    "save_folder_path = \"../result\"\n",
    "person = \"Person_12_fix\"\n",
    "if not os.path.exists(save_folder_path): \n",
    "    print(\"path not exist\")\n",
    "    \n",
    "if 'emotion_distribution_avg' in locals():\n",
    "    results_to_save = {\n",
    "        'folder_name': os.path.basename(save_folder_path),\n",
    "        'total_images': len(image_paths),\n",
    "        'successful_predictions': successful_predictions,\n",
    "        'failed_predictions': failed_predictions,\n",
    "        'emotion_distribution_avg_probabilities': emotion_distribution_avg\n",
    "    }\n",
    "    \n",
    "    if 'emotion_distribution_vote' in locals():\n",
    "        results_to_save['emotion_distribution_vote_count'] = emotion_distribution_vote\n",
    "\n",
    "    output_filename = f\"{person}_{os.path.basename(save_folder_path)}.json\"\n",
    "    with open(output_filename, 'w') as f:\n",
    "        json.dump(results_to_save, f, indent=2)\n",
    "    \n",
    "    print(f\"\\nResults saved to: {output_filename}\")\n",
    "\n",
    "    text_filename = f\"{person}_{os.path.basename(save_folder_path)}.txt\"\n",
    "    with open(text_filename, 'w') as f:\n",
    "        f.write(f\"Emotion Validation Results for {os.path.basename(folder_path)}\\n\")\n",
    "        f.write(\"=\" * 50 + \"\\n\\n\")\n",
    "        f.write(f\"Total images processed: {len(image_paths)}\\n\")\n",
    "        f.write(f\"Successful predictions: {successful_predictions}\\n\")\n",
    "        f.write(f\"Failed predictions: {failed_predictions}\\n\\n\")\n",
    "        \n",
    "        f.write(\"Average Probabilities Method:\\n\")\n",
    "        for emotion, prob in sorted(emotion_distribution_avg.items(), key=lambda x: x[1], reverse=True):\n",
    "            f.write(f'\"{emotion}\": {prob:.2f}\\n')\n",
    "    \n",
    "    print(f\"Text results saved to: {text_filename}\")"
   ]
  }
 ],
 "metadata": {
  "kernelspec": {
   "display_name": "emotion_torch",
   "language": "python",
   "name": "python3"
  },
  "language_info": {
   "codemirror_mode": {
    "name": "ipython",
    "version": 3
   },
   "file_extension": ".py",
   "mimetype": "text/x-python",
   "name": "python",
   "nbconvert_exporter": "python",
   "pygments_lexer": "ipython3",
   "version": "3.11.13"
  }
 },
 "nbformat": 4,
 "nbformat_minor": 5
}
