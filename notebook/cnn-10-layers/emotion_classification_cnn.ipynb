{
 "cells": [
  {
   "cell_type": "code",
   "execution_count": 1,
   "id": "4d34551d",
   "metadata": {},
   "outputs": [],
   "source": [
    "import torch\n",
    "import torch.nn as nn\n",
    "import torch.optim as optim\n",
    "import torch.nn.functional as F\n",
    "from torch.utils.data import DataLoader, Dataset\n",
    "from torchvision import transforms, datasets\n",
    "from torch.optim.lr_scheduler import ReduceLROnPlateau\n",
    "\n",
    "import numpy as np\n",
    "import matplotlib.pyplot as plt\n",
    "from sklearn.metrics import classification_report, confusion_matrix\n",
    "from sklearn.preprocessing import LabelEncoder\n",
    "import os\n",
    "import time\n",
    "from tqdm import tqdm\n",
    "import warnings\n",
    "warnings.filterwarnings('ignore')"
   ]
  },
  {
   "cell_type": "code",
   "execution_count": 2,
   "id": "fb200e89",
   "metadata": {},
   "outputs": [
    {
     "name": "stdout",
     "output_type": "stream",
     "text": [
      "PyTorch Version: 2.7.1+cu118\n",
      "CUDA Available: True\n",
      "Using device: cuda\n"
     ]
    }
   ],
   "source": [
    "torch.manual_seed(42)\n",
    "np.random.seed(42)\n",
    "if torch.cuda.is_available():\n",
    "    torch.cuda.manual_seed(42)\n",
    "\n",
    "print(\"PyTorch Version:\", torch.__version__)\n",
    "print(\"CUDA Available:\", torch.cuda.is_available())\n",
    "\n",
    "IMG_HEIGHT = 96\n",
    "IMG_WIDTH = 96\n",
    "IMG_CHANNELS = 1\n",
    "NUM_CLASSES = 7\n",
    "BATCH_SIZE = 16\n",
    "EPOCHS = 50\n",
    "LEARNING_RATE = 0.0001\n",
    "\n",
    "EMOTION_LABELS = ['angry', 'disgust', 'fear', 'happy', 'sad', 'surprise', 'neutral']\n",
    "\n",
    "device = torch.device('cuda' if torch.cuda.is_available() else 'cpu')\n",
    "print(f\"Using device: {device}\")"
   ]
  },
  {
   "cell_type": "code",
   "execution_count": null,
   "id": "9f334bd7",
   "metadata": {},
   "outputs": [],
   "source": [
    "def get_data_transforms():\n",
    "    train_transform = transforms.Compose([\n",
    "        transforms.Grayscale(num_output_channels=1),\n",
    "        transforms.Resize((IMG_HEIGHT, IMG_WIDTH)),\n",
    "        transforms.RandomRotation(5),  \n",
    "        transforms.RandomAffine(degrees=0, translate=(0.05, 0.05)),  \n",
    "        transforms.RandomHorizontalFlip(p=0.3),  \n",
    "        transforms.ToTensor(),\n",
    "        transforms.Normalize(mean=[0.485], std=[0.229]) \n",
    "    ])\n",
    "    \n",
    "    val_transform = transforms.Compose([\n",
    "        transforms.Grayscale(num_output_channels=1),\n",
    "        transforms.Resize((IMG_HEIGHT, IMG_WIDTH)),\n",
    "        transforms.ToTensor(),\n",
    "        transforms.Normalize(mean=[0.485], std=[0.229])\n",
    "    ])\n",
    "    \n",
    "    return train_transform, val_transform\n",
    "\n",
    "\n",
    "def create_data_loaders(train_dir, val_dir, test_dir=None):\n",
    "    train_transform, val_transform = get_data_transforms()    \n",
    "    train_dataset = datasets.ImageFolder(train_dir, transform=train_transform)  \n",
    "    val_dataset = datasets.ImageFolder(val_dir, transform=val_transform)\n",
    "    \n",
    "    train_loader = DataLoader(\n",
    "        train_dataset,\n",
    "        batch_size=BATCH_SIZE,\n",
    "        shuffle=True,\n",
    "        num_workers=4,\n",
    "        pin_memory=True\n",
    "    )\n",
    "    \n",
    "    val_loader = DataLoader(\n",
    "        val_dataset,\n",
    "        batch_size=BATCH_SIZE,\n",
    "        shuffle=False,\n",
    "        num_workers=4,\n",
    "        pin_memory=True\n",
    "    )\n",
    "    \n",
    "    test_loader = None\n",
    "    if test_dir and os.path.exists(test_dir):\n",
    "        test_dataset = datasets.ImageFolder(test_dir, transform=val_transform)\n",
    "        test_loader = DataLoader(\n",
    "            test_dataset,\n",
    "            batch_size=BATCH_SIZE,\n",
    "            shuffle=False,\n",
    "            num_workers=4,\n",
    "            pin_memory=True\n",
    "        )\n",
    "    \n",
    "    return train_loader, val_loader, test_loader, train_dataset.classes"
   ]
  },
  {
   "cell_type": "code",
   "execution_count": null,
   "id": "53a868d8",
   "metadata": {},
   "outputs": [],
   "source": [
    "class EmotionCNN(nn.Module):    \n",
    "    def __init__(self, num_classes=NUM_CLASSES):\n",
    "        super(EmotionCNN, self).__init__()\n",
    "        \n",
    "        self.conv1 = nn.Conv2d(1, 32, kernel_size=3, padding=1)\n",
    "        self.bn1 = nn.BatchNorm2d(32)\n",
    "        self.conv2 = nn.Conv2d(32, 32, kernel_size=3, padding=1)\n",
    "        self.bn2 = nn.BatchNorm2d(32)\n",
    "        self.pool1 = nn.MaxPool2d(kernel_size=2, stride=2)\n",
    "        self.dropout1 = nn.Dropout2d(0.25)\n",
    "        \n",
    "        self.conv3 = nn.Conv2d(32, 64, kernel_size=3, padding=1)\n",
    "        self.bn3 = nn.BatchNorm2d(64)\n",
    "        self.conv4 = nn.Conv2d(64, 64, kernel_size=3, padding=1)\n",
    "        self.bn4 = nn.BatchNorm2d(64)\n",
    "        self.pool2 = nn.MaxPool2d(kernel_size=2, stride=2)\n",
    "        self.dropout2 = nn.Dropout2d(0.25)\n",
    "        \n",
    "        self.conv5 = nn.Conv2d(64, 128, kernel_size=3, padding=1)\n",
    "        self.bn5 = nn.BatchNorm2d(128)\n",
    "        self.conv6 = nn.Conv2d(128, 128, kernel_size=3, padding=1)\n",
    "        self.bn6 = nn.BatchNorm2d(128)\n",
    "        self.pool3 = nn.MaxPool2d(kernel_size=2, stride=2)\n",
    "        self.dropout3 = nn.Dropout2d(0.3)\n",
    "        \n",
    "        self.conv7 = nn.Conv2d(128, 256, kernel_size=3, padding=1)\n",
    "        self.bn7 = nn.BatchNorm2d(256)\n",
    "        self.conv8 = nn.Conv2d(256, 256, kernel_size=3, padding=1)\n",
    "        self.bn8 = nn.BatchNorm2d(256)\n",
    "        self.pool4 = nn.MaxPool2d(kernel_size=2, stride=2)\n",
    "        self.dropout4 = nn.Dropout2d(0.3)\n",
    "        \n",
    "        self.conv9 = nn.Conv2d(256, 128, kernel_size=3, padding=1)\n",
    "        self.bn9 = nn.BatchNorm2d(128)\n",
    "        self.conv10 = nn.Conv2d(128, 64, kernel_size=3, padding=1)\n",
    "        self.bn10 = nn.BatchNorm2d(64)\n",
    "        self.pool5 = nn.MaxPool2d(kernel_size=2, stride=2)\n",
    "        self.dropout5 = nn.Dropout2d(0.4)\n",
    "        \n",
    "        self.global_avg_pool = nn.AdaptiveAvgPool2d((1, 1))\n",
    "        \n",
    "        self.fc1 = nn.Linear(64, 128)\n",
    "        self.dropout6 = nn.Dropout(0.5)\n",
    "        self.fc2 = nn.Linear(128, 64)\n",
    "        self.dropout7 = nn.Dropout(0.3)\n",
    "        self.fc3 = nn.Linear(64, num_classes)\n",
    "        \n",
    "        self._initialize_weights()\n",
    "        \n",
    "    def _initialize_weights(self):\n",
    "        for m in self.modules():\n",
    "            if isinstance(m, nn.Conv2d):\n",
    "                nn.init.kaiming_normal_(m.weight, mode='fan_out', nonlinearity='relu')\n",
    "                if m.bias is not None:\n",
    "                    nn.init.constant_(m.bias, 0)\n",
    "            elif isinstance(m, nn.BatchNorm2d):\n",
    "                nn.init.constant_(m.weight, 1)\n",
    "                nn.init.constant_(m.bias, 0)\n",
    "            elif isinstance(m, nn.Linear):\n",
    "                nn.init.normal_(m.weight, 0, 0.01)\n",
    "                nn.init.constant_(m.bias, 0)\n",
    "\n",
    "    def forward(self, x):\n",
    "        x = F.relu(self.bn1(self.conv1(x)))\n",
    "        x = F.relu(self.bn2(self.conv2(x)))\n",
    "        x = self.pool1(x)\n",
    "        x = self.dropout1(x)\n",
    "        \n",
    "        x = F.relu(self.bn3(self.conv3(x)))\n",
    "        x = F.relu(self.bn4(self.conv4(x)))\n",
    "        x = self.pool2(x)\n",
    "        x = self.dropout2(x)\n",
    "        \n",
    "        x = F.relu(self.bn5(self.conv5(x)))\n",
    "        x = F.relu(self.bn6(self.conv6(x)))\n",
    "        x = self.pool3(x)\n",
    "        x = self.dropout3(x)\n",
    "        \n",
    "        x = F.relu(self.bn7(self.conv7(x)))\n",
    "        x = F.relu(self.bn8(self.conv8(x)))\n",
    "        x = self.pool4(x)\n",
    "        x = self.dropout4(x)\n",
    "        \n",
    "        x = F.relu(self.bn9(self.conv9(x)))\n",
    "        x = F.relu(self.bn10(self.conv10(x)))\n",
    "        x = self.pool5(x)\n",
    "        x = self.dropout5(x)\n",
    "        \n",
    "        x = self.global_avg_pool(x)\n",
    "        x = x.view(x.size(0), -1)\n",
    "        \n",
    "        x = F.relu(self.fc1(x))\n",
    "        x = self.dropout6(x)\n",
    "        x = F.relu(self.fc2(x))\n",
    "        x = self.dropout7(x)\n",
    "        x = self.fc3(x)\n",
    "        \n",
    "        return x\n",
    "    \n",
    "def create_model(num_classes = NUM_CLASSES):\n",
    "    return EmotionCNN(num_classes=num_classes)\n"
   ]
  },
  {
   "cell_type": "code",
   "execution_count": 9,
   "id": "5e5104b0",
   "metadata": {},
   "outputs": [],
   "source": [
    "class LabelSmoothingCrossEntropy(nn.Module):\n",
    "    def __init__(self, num_classes, smoothing=0.1, temperature=1.0):\n",
    "        super(LabelSmoothingCrossEntropy, self).__init__()\n",
    "        self.num_classes = num_classes\n",
    "        self.smoothing = smoothing\n",
    "        self.temperature = temperature\n",
    "        self.confidence = 1.0 - smoothing\n",
    "        \n",
    "    def forward(self, predictions, targets):\n",
    "        batch_size = predictions.size(0)\n",
    "        \n",
    "        predictions = predictions / self.temperature\n",
    "        \n",
    "        true_dist = torch.zeros_like(predictions)\n",
    "        true_dist.fill_(self.smoothing / (self.num_classes - 1))\n",
    "        true_dist.scatter_(1, targets.unsqueeze(1), self.confidence)\n",
    "        \n",
    "        log_probs = F.log_softmax(predictions, dim=1)\n",
    "        loss = -torch.sum(true_dist * log_probs) / batch_size\n",
    "        \n",
    "        return loss"
   ]
  },
  {
   "cell_type": "code",
   "execution_count": 10,
   "id": "2c51a041",
   "metadata": {},
   "outputs": [],
   "source": [
    "class AdaptiveLabelSmoothingCrossEntropy(nn.Module):\n",
    "    def __init__(self, num_classes, base_smoothing=0.1, temperature=1.0):\n",
    "        super(AdaptiveLabelSmoothingCrossEntropy, self).__init__()\n",
    "        self.num_classes = num_classes\n",
    "        self.base_smoothing = base_smoothing\n",
    "        self.temperature = temperature\n",
    "        \n",
    "        self.emotion_similarity = self._create_emotion_similarity_matrix()\n",
    "        \n",
    "    def _create_emotion_similarity_matrix(self):\n",
    "        if self.num_classes == 7:\n",
    "            similarity = torch.tensor([\n",
    "                [1.0, 0.3, 0.2, 0.0, 0.4, 0.1, 0.2],\n",
    "                [0.3, 1.0, 0.3, 0.0, 0.2, 0.1, 0.2],\n",
    "                [0.2, 0.3, 1.0, 0.0, 0.5, 0.4, 0.3],\n",
    "                [0.0, 0.0, 0.0, 1.0, 0.0, 0.3, 0.2],\n",
    "                [0.4, 0.2, 0.5, 0.0, 1.0, 0.1, 0.4],\n",
    "                [0.1, 0.1, 0.4, 0.3, 0.1, 1.0, 0.2],\n",
    "                [0.2, 0.2, 0.3, 0.2, 0.4, 0.2, 1.0]\n",
    "            ], dtype=torch.float32)\n",
    "        else:\n",
    "            similarity = torch.eye(self.num_classes) + 0.1 * (1 - torch.eye(self.num_classes))\n",
    "        \n",
    "        similarity = similarity / similarity.sum(dim=1, keepdim=True)\n",
    "        return similarity\n",
    "    \n",
    "    def forward(self, predictions, targets):\n",
    "        device = predictions.device\n",
    "        batch_size = predictions.size(0)\n",
    "        \n",
    "        predictions = predictions / self.temperature\n",
    "        \n",
    "        if self.emotion_similarity.device != device:\n",
    "            self.emotion_similarity = self.emotion_similarity.to(device)\n",
    "        \n",
    "        true_dist = torch.zeros_like(predictions)\n",
    "        \n",
    "        for i in range(batch_size):\n",
    "            target_class = targets[i].item()\n",
    "            if target_class < self.num_classes:\n",
    "                similarity_dist = self.emotion_similarity[target_class]\n",
    "                smooth_dist = (1 - self.base_smoothing) * F.one_hot(targets[i], self.num_classes).float() + \\\n",
    "                             self.base_smoothing * similarity_dist\n",
    "                true_dist[i] = smooth_dist\n",
    "        \n",
    "        log_probs = F.log_softmax(predictions, dim=1)\n",
    "        loss = -torch.sum(true_dist * log_probs) / batch_size\n",
    "        \n",
    "        return loss"
   ]
  },
  {
   "cell_type": "code",
   "execution_count": 11,
   "id": "47cf2492",
   "metadata": {},
   "outputs": [],
   "source": [
    "class FocalLoss(nn.Module):\n",
    "    def __init__(self, alpha=1, gamma=2, num_classes=7, size_average=True):\n",
    "        super(FocalLoss, self).__init__()\n",
    "        self.alpha = alpha\n",
    "        self.gamma = gamma\n",
    "        self.num_classes = num_classes\n",
    "        self.size_average = size_average\n",
    "        \n",
    "        if isinstance(alpha, (float, int)):\n",
    "            self.alpha = torch.ones(num_classes) * alpha\n",
    "        elif isinstance(alpha, list):\n",
    "            self.alpha = torch.tensor(alpha, dtype=torch.float32)\n",
    "        else:\n",
    "            self.alpha = alpha\n",
    "            \n",
    "    def forward(self, predictions, targets):\n",
    "        device = predictions.device\n",
    "        if self.alpha.device != device:\n",
    "            self.alpha = self.alpha.to(device)\n",
    "            \n",
    "        ce_loss = F.cross_entropy(predictions, targets, reduction='none')\n",
    "        pt = torch.exp(-ce_loss)\n",
    "        \n",
    "        alpha_t = self.alpha[targets]\n",
    "        \n",
    "        focal_loss = alpha_t * (1 - pt) ** self.gamma * ce_loss\n",
    "        \n",
    "        if self.size_average:\n",
    "            return focal_loss.mean()\n",
    "        else:\n",
    "            return focal_loss.sum()"
   ]
  },
  {
   "cell_type": "code",
   "execution_count": 12,
   "id": "ba6d0572",
   "metadata": {},
   "outputs": [],
   "source": [
    "class CombinedLoss(nn.Module):\n",
    "    def __init__(self, num_classes=7, smoothing=0.1, focal_alpha=1, focal_gamma=2, \n",
    "                 ls_weight=0.7, focal_weight=0.3, use_adaptive=True):\n",
    "        super(CombinedLoss, self).__init__()\n",
    "        \n",
    "        if use_adaptive:\n",
    "            self.label_smoothing = AdaptiveLabelSmoothingCrossEntropy(\n",
    "                num_classes=num_classes, \n",
    "                base_smoothing=smoothing\n",
    "            )\n",
    "        else:\n",
    "            self.label_smoothing = LabelSmoothingCrossEntropy(\n",
    "                num_classes=num_classes,\n",
    "                smoothing=smoothing\n",
    "            )\n",
    "        \n",
    "        self.focal_loss = FocalLoss(\n",
    "            alpha=focal_alpha,\n",
    "            gamma=focal_gamma, \n",
    "            num_classes=num_classes\n",
    "        )\n",
    "        \n",
    "        self.ls_weight = ls_weight\n",
    "        self.focal_weight = focal_weight\n",
    "        \n",
    "    def forward(self, predictions, targets):\n",
    "        ls_loss = self.label_smoothing(predictions, targets)\n",
    "        focal_loss = self.focal_loss(predictions, targets)\n",
    "        \n",
    "        combined_loss = self.ls_weight * ls_loss + self.focal_weight * focal_loss\n",
    "        return combined_loss, ls_loss, focal_loss"
   ]
  },
  {
   "cell_type": "code",
   "execution_count": 13,
   "id": "27b71630",
   "metadata": {},
   "outputs": [],
   "source": [
    "def create_loss_function(loss_type='adaptive_smooth', num_classes=7, **kwargs):\n",
    "    if loss_type == 'cross_entropy':\n",
    "        return nn.CrossEntropyLoss()\n",
    "    \n",
    "    elif loss_type == 'label_smooth':\n",
    "        smoothing = kwargs.get('smoothing', 0.1)\n",
    "        return LabelSmoothingCrossEntropy(num_classes, smoothing)\n",
    "    \n",
    "    elif loss_type == 'adaptive_smooth':\n",
    "        smoothing = kwargs.get('smoothing', 0.1)\n",
    "        return AdaptiveLabelSmoothingCrossEntropy(num_classes, smoothing)\n",
    "    \n",
    "    elif loss_type == 'focal':\n",
    "        alpha = kwargs.get('alpha', 1)\n",
    "        gamma = kwargs.get('gamma', 2)\n",
    "        return FocalLoss(alpha, gamma, num_classes)\n",
    "    \n",
    "    elif loss_type == 'combined':\n",
    "        smoothing = kwargs.get('smoothing', 0.1)\n",
    "        focal_alpha = kwargs.get('focal_alpha', 1)\n",
    "        focal_gamma = kwargs.get('focal_gamma', 2)\n",
    "        ls_weight = kwargs.get('ls_weight', 0.7)\n",
    "        focal_weight = kwargs.get('focal_weight', 0.3)\n",
    "        use_adaptive = kwargs.get('use_adaptive', True)\n",
    "        \n",
    "        return CombinedLoss(\n",
    "            num_classes=num_classes,\n",
    "            smoothing=smoothing,\n",
    "            focal_alpha=focal_alpha,\n",
    "            focal_gamma=focal_gamma,\n",
    "            ls_weight=ls_weight,\n",
    "            focal_weight=focal_weight,\n",
    "            use_adaptive=use_adaptive\n",
    "        )\n",
    "    \n",
    "    else:\n",
    "        raise ValueError(f\"Unknown loss type: {loss_type}\")\n",
    "\n",
    "def train_epoch_with_label_smoothing(model, train_loader, criterion, optimizer, device):\n",
    "    model.train()\n",
    "    running_loss = 0.0\n",
    "    running_ls_loss = 0.0\n",
    "    running_focal_loss = 0.0\n",
    "    correct_predictions = 0\n",
    "    total_samples = 0\n",
    "    \n",
    "    train_bar = tqdm(train_loader, desc=\"Training with Label Smoothing\")\n",
    "    \n",
    "    for data, target in train_bar:\n",
    "        data, target = data.to(device), target.to(device)\n",
    "        \n",
    "        optimizer.zero_grad()\n",
    "        output = model(data)\n",
    "        \n",
    "        if isinstance(criterion, CombinedLoss):\n",
    "            loss, ls_loss, focal_loss = criterion(output, target)\n",
    "            running_ls_loss += ls_loss.item()\n",
    "            running_focal_loss += focal_loss.item()\n",
    "        else:\n",
    "            loss = criterion(output, target)\n",
    "        \n",
    "        loss.backward()\n",
    "        optimizer.step()\n",
    "        \n",
    "        running_loss += loss.item()\n",
    "        _, predicted = torch.max(output.data, 1)\n",
    "        total_samples += target.size(0)\n",
    "        correct_predictions += (predicted == target).sum().item()\n",
    "        \n",
    "        if isinstance(criterion, CombinedLoss):\n",
    "            train_bar.set_postfix({\n",
    "                'Loss': f'{loss.item():.4f}',\n",
    "                'LS': f'{ls_loss.item():.4f}',\n",
    "                'Focal': f'{focal_loss.item():.4f}',\n",
    "                'Acc': f'{100.*correct_predictions/total_samples:.2f}%'\n",
    "            })\n",
    "        else:\n",
    "            train_bar.set_postfix({\n",
    "                'Loss': f'{loss.item():.4f}',\n",
    "                'Acc': f'{100.*correct_predictions/total_samples:.2f}%'\n",
    "            })\n",
    "    \n",
    "    epoch_loss = running_loss / len(train_loader)\n",
    "    epoch_acc = correct_predictions / total_samples\n",
    "    \n",
    "    if isinstance(criterion, CombinedLoss):\n",
    "        epoch_ls_loss = running_ls_loss / len(train_loader)\n",
    "        epoch_focal_loss = running_focal_loss / len(train_loader)\n",
    "        return epoch_loss, epoch_acc, epoch_ls_loss, epoch_focal_loss\n",
    "    else:\n",
    "        return epoch_loss, epoch_acc"
   ]
  },
  {
   "cell_type": "code",
   "execution_count": 5,
   "id": "0b0b49a9",
   "metadata": {},
   "outputs": [],
   "source": [
    "def train_epoch(model, train_loader, criterion, optimizer, device): \n",
    "    model.train()   \n",
    "    running_loss = 0.0\n",
    "    correct_predictions = 0\n",
    "    total_samples = 0\n",
    "\n",
    "    train_bar = tqdm(train_loader, desc=\"Training\")\n",
    "    \n",
    "    for data, target in train_bar:\n",
    "        data, target = data.to(device), target.to(device)\n",
    "        \n",
    "        optimizer.zero_grad()\n",
    "        output = model(data)\n",
    "        loss = criterion(output, target)\n",
    "        loss.backward()\n",
    "        optimizer.step()\n",
    "        \n",
    "        running_loss += loss.item()\n",
    "        _, predicted = torch.max(output.data, 1)\n",
    "        total_samples += target.size(0)\n",
    "        correct_predictions += (predicted == target).sum().item()\n",
    "        \n",
    "        train_bar.set_postfix({\n",
    "            'Loss': f'{loss.item():.4f}',\n",
    "            'Acc': f'{100.*correct_predictions/total_samples:.2f}%'\n",
    "        })\n",
    "    \n",
    "    epoch_loss = running_loss / len(train_loader)\n",
    "    epoch_acc = correct_predictions / total_samples\n",
    "    \n",
    "    return epoch_loss, epoch_acc\n",
    "\n",
    "def validate_epoch(model, val_loader, criterion, device):\n",
    "    model.eval()\n",
    "    running_loss = 0.0\n",
    "    correct_predictions = 0\n",
    "    total_samples = 0   \n",
    "    \n",
    "    with torch.no_grad():\n",
    "        val_bar = tqdm(val_loader, desc=\"Validation\")\n",
    "        \n",
    "        for data, target in val_bar:\n",
    "            data, target = data.to(device), target.to(device)\n",
    "            \n",
    "            output = model(data)\n",
    "            loss = criterion(output, target)\n",
    "            \n",
    "            running_loss += loss.item()\n",
    "            _, predicted = torch.max(output.data, 1)\n",
    "            total_samples += target.size(0)\n",
    "            correct_predictions += (predicted == target).sum().item()\n",
    "            \n",
    "            val_bar.set_postfix({\n",
    "                'Loss': f'{loss.item():.4f}',\n",
    "                'Acc': f'{100.*correct_predictions/total_samples:.2f}%'\n",
    "            })\n",
    "    \n",
    "    epoch_loss = running_loss / len(val_loader)\n",
    "    epoch_acc = correct_predictions / total_samples\n",
    "    \n",
    "    return epoch_loss, epoch_acc\n",
    "\n",
    "def train_model(model, train_loader, val_loader, epochs=EPOCHS):\n",
    "    criterion = nn.CrossEntropyLoss()\n",
    "    optimizer = optim.Adam(model.parameters(), lr=LEARNING_RATE, weight_decay=1e-4)  \n",
    "    scheduler = ReduceLROnPlateau(optimizer, mode='min', factor=0.5, \n",
    "                                patience=3, min_lr=1e-6)\n",
    "    \n",
    "    history = {\n",
    "        'train_loss': [],\n",
    "        'train_acc': [],\n",
    "        'val_loss': [],\n",
    "        'val_acc': []\n",
    "    }\n",
    "    \n",
    "    best_val_acc = 0.0\n",
    "    patience_counter = 0\n",
    "    patience = 10\n",
    "    \n",
    "    print(f\"Starting training for {epochs} epochs...\")\n",
    "    print(f\"Training batches: {len(train_loader)}\")\n",
    "    print(f\"Validation batches: {len(val_loader)}\")\n",
    "    \n",
    "    for epoch in range(epochs):\n",
    "        print(f\"\\nEpoch {epoch+1}/{epochs}\")\n",
    "        print(\"-\" * 50)\n",
    "        \n",
    "        train_loss, train_acc = train_epoch(model, train_loader, criterion, optimizer, device)\n",
    "        \n",
    "        val_loss, val_acc = validate_epoch(model, val_loader, criterion, device)\n",
    "        \n",
    "        scheduler.step(val_loss)\n",
    "        \n",
    "        history['train_loss'].append(train_loss)\n",
    "        history['train_acc'].append(train_acc)\n",
    "        history['val_loss'].append(val_loss)\n",
    "        history['val_acc'].append(val_acc)\n",
    "        \n",
    "        print(f\"Train Loss: {train_loss:.4f}, Train Acc: {train_acc:.4f}\")\n",
    "        print(f\"Val Loss: {val_loss:.4f}, Val Acc: {val_acc:.4f}\")\n",
    "        \n",
    "        if val_acc > best_val_acc:\n",
    "            best_val_acc = val_acc\n",
    "            patience_counter = 0\n",
    "            torch.save(model.state_dict(), 'best_emotion_model.pth')\n",
    "            print(f\"New best validation accuracy: {best_val_acc:.4f} - Model saved!\")\n",
    "        else:\n",
    "            patience_counter += 1\n",
    "            \n",
    "        if patience_counter >= patience:\n",
    "            print(f\"Early stopping triggered after {epoch+1} epochs\")\n",
    "            break\n",
    "    \n",
    "    model.load_state_dict(torch.load('best_emotion_model.pth'))\n",
    "    print(f\"Best model loaded with validation accuracy: {best_val_acc:.4f}\")\n",
    "    \n",
    "    return history\n",
    "\n",
    "def evaluate_model(model, test_loader, class_labels=EMOTION_LABELS):\n",
    "    if test_loader is None:\n",
    "        print(\"No test data available for evaluation.\")\n",
    "        return\n",
    "    \n",
    "    print(\"\\n\" + \"=\"*50)\n",
    "    print(\"MODEL EVALUATION\")\n",
    "    print(\"=\"*50)\n",
    "    \n",
    "    model.eval()\n",
    "    all_predictions = []\n",
    "    all_targets = []\n",
    "    correct = 0\n",
    "    total = 0\n",
    "    \n",
    "    with torch.no_grad():\n",
    "        test_bar = tqdm(test_loader, desc=\"Testing\")\n",
    "        \n",
    "        for data, target in test_bar:\n",
    "            data, target = data.to(device), target.to(device)\n",
    "            output = model(data)\n",
    "            \n",
    "            _, predicted = torch.max(output.data, 1)\n",
    "            \n",
    "            all_predictions.extend(predicted.cpu().numpy())\n",
    "            all_targets.extend(target.cpu().numpy())\n",
    "            \n",
    "            total += target.size(0)\n",
    "            correct += (predicted == target).sum().item()\n",
    "    \n",
    "    test_accuracy = correct / total\n",
    "    print(f\"\\nTest Accuracy: {test_accuracy:.4f} ({test_accuracy*100:.2f}%)\")    \n",
    "    print(\"\\nDetailed Classification Report:\")\n",
    "    print(\"-\" * 50)\n",
    "    report = classification_report(\n",
    "        all_targets, \n",
    "        all_predictions, \n",
    "        target_names=class_labels,\n",
    "        digits=4\n",
    "    )\n",
    "    print(report)\n",
    "    \n",
    "    print(\"\\nConfusion Matrix:\")\n",
    "    print(\"-\" * 30)\n",
    "    cm = confusion_matrix(all_targets, all_predictions)\n",
    "    print(cm)\n",
    "    \n",
    "    return test_accuracy, report\n",
    "\n",
    "def plot_training_history(history):  \n",
    "    fig, axes = plt.subplots(1, 2, figsize=(12, 4))\n",
    "    \n",
    "    epochs = range(1, len(history['train_acc']) + 1)\n",
    "    \n",
    "    axes[0].plot(epochs, history['train_acc'], 'b-', label='Training Accuracy')\n",
    "    axes[0].plot(epochs, history['val_acc'], 'r-', label='Validation Accuracy')\n",
    "    axes[0].set_title('Model Accuracy')\n",
    "    axes[0].set_xlabel('Epoch')\n",
    "    axes[0].set_ylabel('Accuracy')\n",
    "    axes[0].legend()\n",
    "    axes[0].grid(True)\n",
    "    \n",
    "    axes[1].plot(epochs, history['train_loss'], 'b-', label='Training Loss')\n",
    "    axes[1].plot(epochs, history['val_loss'], 'r-', label='Validation Loss')\n",
    "    axes[1].set_title('Model Loss')\n",
    "    axes[1].set_xlabel('Epoch')\n",
    "    axes[1].set_ylabel('Loss')\n",
    "    axes[1].legend()\n",
    "    axes[1].grid(True)\n",
    "    \n",
    "    plt.tight_layout()\n",
    "    plt.show()\n",
    "\n",
    "def count_parameters(model):\n",
    "    return sum(p.numel() for p in model.parameters() if p.requires_grad)\n"
   ]
  },
  {
   "cell_type": "code",
   "execution_count": null,
   "id": "f4e06a95",
   "metadata": {},
   "outputs": [],
   "source": [
    "def save_model_checkpoint(model, optimizer, scheduler, epoch, train_loss, val_loss, val_acc, filepath):\n",
    "    checkpoint = {\n",
    "        'epoch': epoch,\n",
    "        'model_state_dict': model.state_dict(),\n",
    "        'optimizer_state_dict': optimizer.state_dict(),\n",
    "        'scheduler_state_dict': scheduler.state_dict(),\n",
    "        'train_loss': train_loss,\n",
    "        'val_loss': val_loss,\n",
    "        'val_acc': val_acc,\n",
    "        'model_architecture': type(model).__name__,\n",
    "        'num_classes': NUM_CLASSES,\n",
    "        'img_size': (IMG_HEIGHT, IMG_WIDTH)\n",
    "    }\n",
    "    torch.save(checkpoint, filepath)\n",
    "    print(f\"Checkpoint saved: {filepath}\")\n",
    "\n",
    "def load_model_checkpoint(filepath, model, optimizer=None, scheduler=None):\n",
    "    print(f\"Loading checkpoint: {filepath}\")\n",
    "    checkpoint = torch.load(filepath, map_location=device)\n",
    "    \n",
    "    model.load_state_dict(checkpoint['model_state_dict'])\n",
    "    \n",
    "    start_epoch = 0\n",
    "    train_loss = val_loss = val_acc = 0\n",
    "    \n",
    "    if optimizer is not None and 'optimizer_state_dict' in checkpoint:\n",
    "        optimizer.load_state_dict(checkpoint['optimizer_state_dict'])\n",
    "        print(\"Optimizer state loaded\")\n",
    "    \n",
    "    if scheduler is not None and 'scheduler_state_dict' in checkpoint:\n",
    "        scheduler.load_state_dict(checkpoint['scheduler_state_dict'])\n",
    "        print(\"Scheduler state loaded\")\n",
    "    \n",
    "    if 'epoch' in checkpoint:\n",
    "        start_epoch = checkpoint['epoch'] + 1\n",
    "        train_loss = checkpoint.get('train_loss', 0)\n",
    "        val_loss = checkpoint.get('val_loss', 0)\n",
    "        val_acc = checkpoint.get('val_acc', 0)\n",
    "        print(f\"Resuming from epoch {start_epoch}\")\n",
    "        print(f\"Previous metrics - Train Loss: {train_loss:.4f}, Val Loss: {val_loss:.4f}, Val Acc: {val_acc:.4f}\")\n",
    "    \n",
    "    return start_epoch, train_loss, val_loss, val_acc\n",
    "\n",
    "def train_model_with_label_smoothing(model, train_loader, val_loader, epochs=EPOCHS, \n",
    "                                   loss_type='adaptive_smooth', loss_params=None):\n",
    "    if loss_params is None:\n",
    "        loss_params = {\n",
    "            'smoothing': 0.1,\n",
    "            'focal_alpha': 1.0,\n",
    "            'focal_gamma': 2.0,\n",
    "            'ls_weight': 0.7,\n",
    "            'focal_weight': 0.3\n",
    "        }\n",
    "    \n",
    "    num_classes = model.num_classes if hasattr(model, 'num_classes') else NUM_CLASSES\n",
    "    criterion = create_loss_function(loss_type, num_classes, **loss_params)\n",
    "    \n",
    "    optimizer = optim.Adam(model.parameters(), lr=LEARNING_RATE, weight_decay=1e-4)\n",
    "    scheduler = ReduceLROnPlateau(optimizer, mode='min', factor=0.5, patience=3, min_lr=1e-6)\n",
    "    \n",
    "    history = {\n",
    "        'train_loss': [],\n",
    "        'train_acc': [],\n",
    "        'val_loss': [],\n",
    "        'val_acc': []\n",
    "    }\n",
    "    \n",
    "    if loss_type == 'combined':\n",
    "        history['train_ls_loss'] = []\n",
    "        history['train_focal_loss'] = []\n",
    "    \n",
    "    best_val_acc = 0.0\n",
    "    patience_counter = 0\n",
    "    patience = 10\n",
    "    \n",
    "    print(f\"Starting training with {loss_type} loss...\")\n",
    "    print(f\"Loss parameters: {loss_params}\")\n",
    "    print(f\"Training batches: {len(train_loader)}\")\n",
    "    print(f\"Validation batches: {len(val_loader)}\")\n",
    "    \n",
    "    for epoch in range(epochs):\n",
    "        print(f\"\\nEpoch {epoch+1}/{epochs}\")\n",
    "        print(\"-\" * 50)\n",
    "        \n",
    "        if loss_type == 'combined':\n",
    "            train_loss, train_acc, train_ls_loss, train_focal_loss = train_epoch_with_label_smoothing(\n",
    "                model, train_loader, criterion, optimizer, device\n",
    "            )\n",
    "            history['train_ls_loss'].append(train_ls_loss)\n",
    "            history['train_focal_loss'].append(train_focal_loss)\n",
    "        else:\n",
    "            train_loss, train_acc = train_epoch_with_label_smoothing(\n",
    "                model, train_loader, criterion, optimizer, device\n",
    "            )\n",
    "        \n",
    "        val_criterion = nn.CrossEntropyLoss()\n",
    "        val_loss, val_acc = validate_epoch(model, val_loader, val_criterion, device)\n",
    "        \n",
    "        old_lr = optimizer.param_groups[0]['lr']\n",
    "        scheduler.step(val_loss)\n",
    "        new_lr = optimizer.param_groups[0]['lr']\n",
    "        \n",
    "        if old_lr != new_lr:\n",
    "            print(f\"Learning rate reduced from {old_lr:.2e} to {new_lr:.2e}\")\n",
    "        \n",
    "        history['train_loss'].append(train_loss)\n",
    "        history['train_acc'].append(train_acc)\n",
    "        history['val_loss'].append(val_loss)\n",
    "        history['val_acc'].append(val_acc)\n",
    "        \n",
    "        if loss_type == 'combined':\n",
    "            print(f\"Train - Total: {train_loss:.4f}, LS: {train_ls_loss:.4f}, Focal: {train_focal_loss:.4f}, Acc: {train_acc:.4f}\")\n",
    "        else:\n",
    "            print(f\"Train Loss: {train_loss:.4f}, Train Acc: {train_acc:.4f}\")\n",
    "        print(f\"Val Loss: {val_loss:.4f}, Val Acc: {val_acc:.4f}\")\n",
    "        \n",
    "        if (epoch + 1) % 10 == 0:\n",
    "            checkpoint_path = f'checkpoint_epoch_{epoch+1}_{loss_type}.pth'\n",
    "            save_model_checkpoint(\n",
    "                model, optimizer, scheduler, epoch,\n",
    "                train_loss, val_loss, val_acc, checkpoint_path\n",
    "            )\n",
    "        \n",
    "        if val_acc > best_val_acc:\n",
    "            best_val_acc = val_acc\n",
    "            patience_counter = 0\n",
    "            torch.save(model.state_dict(), f'best_emotion_model_{loss_type}.pth')\n",
    "            print(f\"New best validation accuracy: {best_val_acc:.4f} - Model saved!\")\n",
    "        else:\n",
    "            patience_counter += 1\n",
    "            \n",
    "        if patience_counter >= patience:\n",
    "            print(f\"Early stopping triggered after {epoch+1} epochs\")\n",
    "            break\n",
    "    \n",
    "    model.load_state_dict(torch.load(f'best_emotion_model_{loss_type}.pth'))\n",
    "    print(f\"Best model loaded with validation accuracy: {best_val_acc:.4f}\")\n",
    "    \n",
    "    return history"
   ]
  },
  {
   "cell_type": "code",
   "execution_count": null,
   "id": "9f731815",
   "metadata": {},
   "outputs": [],
   "source": [
    "def compare_loss_functions(model_class, train_loader, val_loader, test_loader, epochs=20):\n",
    "    print(\"=\"*70)\n",
    "    print(\"COMPARING DIFFERENT LOSS FUNCTIONS\")\n",
    "    print(\"=\"*70)\n",
    "    \n",
    "    loss_configs = [\n",
    "        {\n",
    "            'name': 'Standard Cross-Entropy',\n",
    "            'type': 'cross_entropy',\n",
    "            'params': {}\n",
    "        },\n",
    "        {\n",
    "            'name': 'Label Smoothing (0.1)', \n",
    "            'type': 'label_smooth',\n",
    "            'params': {'smoothing': 0.1}\n",
    "        },\n",
    "        {\n",
    "            'name': 'Adaptive Label Smoothing',\n",
    "            'type': 'adaptive_smooth', \n",
    "            'params': {'smoothing': 0.1}\n",
    "        },\n",
    "        {\n",
    "            'name': 'Focal Loss',\n",
    "            'type': 'focal',\n",
    "            'params': {'alpha': 1, 'gamma': 2}\n",
    "        },\n",
    "        {\n",
    "            'name': 'Combined (Adaptive LS + Focal)',\n",
    "            'type': 'combined',\n",
    "            'params': {\n",
    "                'smoothing': 0.1,\n",
    "                'focal_alpha': 1.0,\n",
    "                'focal_gamma': 2.0,\n",
    "                'ls_weight': 0.7,\n",
    "                'focal_weight': 0.3,\n",
    "                'use_adaptive': True\n",
    "            }\n",
    "        }\n",
    "    ]\n",
    "    \n",
    "    results = {}\n",
    "    \n",
    "    for config in loss_configs:\n",
    "        print(f\"\\n{'='*50}\")\n",
    "        print(f\"TESTING: {config['name']}\")\n",
    "        print(f\"{'='*50}\")\n",
    "        \n",
    "        model = model_class().to(device)\n",
    "        \n",
    "        history = train_model_with_label_smoothing(\n",
    "            model, train_loader, val_loader,\n",
    "            epochs=epochs,\n",
    "            loss_type=config['type'], \n",
    "            loss_params=config['params']\n",
    "        )\n",
    "        \n",
    "        test_accuracy, _ = evaluate_model(model, test_loader)\n",
    "        \n",
    "        results[config['name']] = {\n",
    "            'best_val_acc': max(history['val_acc']),\n",
    "            'test_acc': test_accuracy,\n",
    "            'final_train_acc': history['train_acc'][-1],\n",
    "            'history': history\n",
    "        }\n",
    "        \n",
    "        print(f\"✅ {config['name']} completed:\")\n",
    "        print(f\"   - Best Validation Accuracy: {results[config['name']]['best_val_acc']:.4f}\")\n",
    "        print(f\"   - Test Accuracy: {test_accuracy:.4f}\")\n",
    "    \n",
    "    print(f\"\\n{'='*70}\")\n",
    "    print(\"COMPARISON SUMMARY\")\n",
    "    print(f\"{'='*70}\")\n",
    "    \n",
    "    print(f\"{'Loss Function':<30} {'Val Acc':<10} {'Test Acc':<10} {'Improvement'}\")\n",
    "    print(\"-\" * 65)\n",
    "    \n",
    "    baseline_test_acc = results['Standard Cross-Entropy']['test_acc']\n",
    "    \n",
    "    for name, result in results.items():\n",
    "        val_acc = result['best_val_acc']\n",
    "        test_acc = result['test_acc']\n",
    "        improvement = test_acc - baseline_test_acc\n",
    "        improvement_str = f\"+{improvement:.3f}\" if improvement > 0 else f\"{improvement:.3f}\"\n",
    "        \n",
    "        print(f\"{name:<30} {val_acc:<10.4f} {test_acc:<10.4f} {improvement_str}\")\n",
    "    \n",
    "    best_loss = max(results.items(), key=lambda x: x[1]['test_acc'])\n",
    "    print(f\"\\n🏆 Best performing loss: {best_loss[0]}\")\n",
    "    print(f\"   Test Accuracy: {best_loss[1]['test_acc']:.4f}\")\n",
    "    \n",
    "    return results\n"
   ]
  },
  {
   "cell_type": "code",
   "execution_count": null,
   "id": "30fbb6db",
   "metadata": {},
   "outputs": [],
   "source": [
    "def main():    \n",
    "    print(\"=\"*60)\n",
    "    print(\"EMOTION DETECTION CNN MODEL - PyTorch\")\n",
    "    print(\"=\"*60)\n",
    "    print(f\"Input Shape: ({IMG_CHANNELS}, {IMG_HEIGHT}, {IMG_WIDTH})\")\n",
    "    print(f\"Number of Classes: {NUM_CLASSES}\")\n",
    "    print(f\"Classes: {', '.join(EMOTION_LABELS)}\")\n",
    "    print(\"=\"*60)\n",
    "    train_dir = '../data/images/train'\n",
    "    val_dir = '../data/images/validation'\n",
    "    test_dir = '../data/images/test'\n",
    "\n",
    "    if not os.path.exists(train_dir):\n",
    "        print(f\"Warning: Training directory '{train_dir}' not found.\")\n",
    "        return\n",
    "    \n",
    "    print(\"\\n1. Creating data loaders with augmentation...\")\n",
    "    train_loader, val_loader, test_loader, class_names = create_data_loaders(\n",
    "        train_dir, val_dir, test_dir\n",
    "    )\n",
    "    \n",
    "    print(f\"Found {len(train_loader.dataset)} training images\")\n",
    "    print(f\"Found {len(val_loader.dataset)} validation images\")\n",
    "    if test_loader:\n",
    "        print(f\"Found {len(test_loader.dataset)} test images\")\n",
    "    print(f\"Classes: {class_names}\")\n",
    "    \n",
    "    print(\"\\n2. Building CNN model...\")\n",
    "    model = EmotionCNN(num_classes=NUM_CLASSES).to(device)\n",
    "    \n",
    "    print(\"\\n3. Model Information:\")\n",
    "    print(f\"Total trainable parameters: {count_parameters(model):,}\")\n",
    "    print(f\"Model device: {next(model.parameters()).device}\")\n",
    "    \n",
    "    print(\"\\n4. Model Architecture:\")\n",
    "    print(model)\n",
    "    \n",
    "    print(\"\\n5. Training model...\")\n",
    "    history = train_model(model, train_loader, val_loader, epochs=EPOCHS)\n",
    "    \n",
    "    print(\"\\n6. Plotting training history...\")\n",
    "    plot_training_history(history)\n",
    "    \n",
    "    if test_loader:\n",
    "        print(\"\\n7. Evaluating model on test set...\")\n",
    "        test_accuracy, report = evaluate_model(model, test_loader, class_names)\n",
    "    else:\n",
    "        print(\"\\n7. Evaluating model on validation set...\")\n",
    "        test_accuracy, report = evaluate_model(model, val_loader, class_names)\n",
    "    \n",
    "    model_save_path = 'emotion_detection_model.pth'\n",
    "    torch.save({\n",
    "        'model_state_dict': model.state_dict(),\n",
    "        'model_architecture': model,\n",
    "        'class_names': class_names,\n",
    "        'num_classes': NUM_CLASSES,\n",
    "    }, model_save_path)\n",
    "    print(f\"\\n8. Model saved as '{model_save_path}'\")\n",
    "    \n",
    "    print(\"\\n\" + \"=\"*60)\n",
    "    print(\"TRAINING COMPLETED SUCCESSFULLY!\")\n",
    "    print(\"=\"*60)"
   ]
  },
  {
   "cell_type": "code",
   "execution_count": null,
   "id": "7ea60d12",
   "metadata": {},
   "outputs": [],
   "source": [
    "train_dir = '../data/images/train'\n",
    "val_dir = '../data/images/validation'\n",
    "test_dir = '../data/images/test'\n",
    "\n",
    "train_loader, val_loader, test_loader, class_names = create_data_loaders(\n",
    "        train_dir, val_dir, test_dir\n",
    "    )\n",
    "\n",
    "model = EmotionCNN(num_classes=NUM_CLASSES).to(device)\n",
    "\n",
    "history = train_model_with_label_smoothing(\n",
    "    model, train_loader, val_loader,\n",
    "    loss_type='adaptive_smooth',\n",
    "    loss_params={'smoothing': 0.1}\n",
    ")\n",
    "\n",
    "results = compare_loss_functions(\n",
    "    lambda: create_model(IMG_HEIGHT, NUM_CLASSES),\n",
    "    train_loader, val_loader, test_loader\n",
    ")\n",
    "\n"
   ]
  },
  {
   "cell_type": "code",
   "execution_count": 7,
   "id": "2ca022bd",
   "metadata": {},
   "outputs": [
    {
     "name": "stdout",
     "output_type": "stream",
     "text": [
      "============================================================\n",
      "EMOTION DETECTION CNN MODEL - PyTorch\n",
      "============================================================\n",
      "Input Shape: (1, 96, 96)\n",
      "Number of Classes: 7\n",
      "Classes: angry, disgust, fear, happy, sad, surprise, neutral\n",
      "============================================================\n",
      "\n",
      "1. Creating data loaders with augmentation...\n",
      "Found 53646 training images\n",
      "Found 7066 validation images\n",
      "Classes: ['angry', 'disgust', 'fear', 'happy', 'neutral', 'sad', 'surprise']\n",
      "\n",
      "2. Building CNN model...\n",
      "\n",
      "3. Model Information:\n",
      "Total trainable parameters: 423,031\n",
      "Model device: cuda:0\n",
      "\n",
      "4. Model Architecture:\n",
      "EmotionCNN(\n",
      "  (conv1): Conv2d(1, 32, kernel_size=(3, 3), stride=(1, 1), padding=(1, 1))\n",
      "  (bn1): BatchNorm2d(32, eps=1e-05, momentum=0.1, affine=True, track_running_stats=True)\n",
      "  (conv2): Conv2d(32, 32, kernel_size=(3, 3), stride=(1, 1), padding=(1, 1))\n",
      "  (bn2): BatchNorm2d(32, eps=1e-05, momentum=0.1, affine=True, track_running_stats=True)\n",
      "  (pool1): MaxPool2d(kernel_size=2, stride=2, padding=0, dilation=1, ceil_mode=False)\n",
      "  (dropout1): Dropout2d(p=0.25, inplace=False)\n",
      "  (conv3): Conv2d(32, 64, kernel_size=(3, 3), stride=(1, 1), padding=(1, 1))\n",
      "  (bn3): BatchNorm2d(64, eps=1e-05, momentum=0.1, affine=True, track_running_stats=True)\n",
      "  (conv4): Conv2d(64, 64, kernel_size=(3, 3), stride=(1, 1), padding=(1, 1))\n",
      "  (bn4): BatchNorm2d(64, eps=1e-05, momentum=0.1, affine=True, track_running_stats=True)\n",
      "  (pool2): MaxPool2d(kernel_size=2, stride=2, padding=0, dilation=1, ceil_mode=False)\n",
      "  (dropout2): Dropout2d(p=0.25, inplace=False)\n",
      "  (conv5): Conv2d(64, 128, kernel_size=(3, 3), stride=(1, 1), padding=(1, 1))\n",
      "  (bn5): BatchNorm2d(128, eps=1e-05, momentum=0.1, affine=True, track_running_stats=True)\n",
      "  (conv6): Conv2d(128, 128, kernel_size=(3, 3), stride=(1, 1), padding=(1, 1))\n",
      "  (bn6): BatchNorm2d(128, eps=1e-05, momentum=0.1, affine=True, track_running_stats=True)\n",
      "  (pool3): MaxPool2d(kernel_size=2, stride=2, padding=0, dilation=1, ceil_mode=False)\n",
      "  (dropout3): Dropout2d(p=0.3, inplace=False)\n",
      "  (conv7): Conv2d(128, 64, kernel_size=(3, 3), stride=(1, 1), padding=(1, 1))\n",
      "  (bn7): BatchNorm2d(64, eps=1e-05, momentum=0.1, affine=True, track_running_stats=True)\n",
      "  (conv8): Conv2d(64, 64, kernel_size=(3, 3), stride=(1, 1), padding=(1, 1))\n",
      "  (bn8): BatchNorm2d(64, eps=1e-05, momentum=0.1, affine=True, track_running_stats=True)\n",
      "  (conv9): Conv2d(64, 32, kernel_size=(3, 3), stride=(1, 1), padding=(1, 1))\n",
      "  (bn9): BatchNorm2d(32, eps=1e-05, momentum=0.1, affine=True, track_running_stats=True)\n",
      "  (conv10): Conv2d(32, 16, kernel_size=(3, 3), stride=(1, 1), padding=(1, 1))\n",
      "  (bn10): BatchNorm2d(16, eps=1e-05, momentum=0.1, affine=True, track_running_stats=True)\n",
      "  (pool4): MaxPool2d(kernel_size=2, stride=2, padding=0, dilation=1, ceil_mode=False)\n",
      "  (dropout4): Dropout2d(p=0.3, inplace=False)\n",
      "  (global_avg_pool): AdaptiveAvgPool2d(output_size=(1, 1))\n",
      "  (fc1): Linear(in_features=16, out_features=64, bias=True)\n",
      "  (dropout5): Dropout(p=0.4, inplace=False)\n",
      "  (fc2): Linear(in_features=64, out_features=7, bias=True)\n",
      ")\n",
      "\n",
      "5. Training model...\n",
      "Starting training for 50 epochs...\n",
      "Training batches: 3353\n",
      "Validation batches: 442\n",
      "\n",
      "Epoch 1/50\n",
      "--------------------------------------------------\n"
     ]
    },
    {
     "name": "stderr",
     "output_type": "stream",
     "text": [
      "Training: 100%|██████████| 3353/3353 [01:52<00:00, 29.74it/s, Loss=1.5849, Acc=26.70%]\n",
      "Validation: 100%|██████████| 442/442 [00:21<00:00, 20.86it/s, Loss=2.2076, Acc=25.83%] \n"
     ]
    },
    {
     "name": "stdout",
     "output_type": "stream",
     "text": [
      "Train Loss: 1.7921, Train Acc: 0.2670\n",
      "Val Loss: 1.8151, Val Acc: 0.2583\n",
      "New best validation accuracy: 0.2583 - Model saved!\n",
      "\n",
      "Epoch 2/50\n",
      "--------------------------------------------------\n"
     ]
    },
    {
     "name": "stderr",
     "output_type": "stream",
     "text": [
      "Training: 100%|██████████| 3353/3353 [01:09<00:00, 48.21it/s, Loss=1.6022, Acc=27.22%]\n",
      "Validation: 100%|██████████| 442/442 [00:17<00:00, 24.78it/s, Loss=2.4182, Acc=29.13%] \n"
     ]
    },
    {
     "name": "stdout",
     "output_type": "stream",
     "text": [
      "Train Loss: 1.7361, Train Acc: 0.2722\n",
      "Val Loss: 1.7051, Val Acc: 0.2913\n",
      "New best validation accuracy: 0.2913 - Model saved!\n",
      "\n",
      "Epoch 3/50\n",
      "--------------------------------------------------\n"
     ]
    },
    {
     "name": "stderr",
     "output_type": "stream",
     "text": [
      "Training: 100%|██████████| 3353/3353 [01:08<00:00, 48.69it/s, Loss=1.2708, Acc=33.23%]\n",
      "Validation: 100%|██████████| 442/442 [00:18<00:00, 24.31it/s, Loss=2.3293, Acc=39.06%] \n"
     ]
    },
    {
     "name": "stdout",
     "output_type": "stream",
     "text": [
      "Train Loss: 1.6361, Train Acc: 0.3323\n",
      "Val Loss: 1.5559, Val Acc: 0.3906\n",
      "New best validation accuracy: 0.3906 - Model saved!\n",
      "\n",
      "Epoch 4/50\n",
      "--------------------------------------------------\n"
     ]
    },
    {
     "name": "stderr",
     "output_type": "stream",
     "text": [
      "Training: 100%|██████████| 3353/3353 [01:09<00:00, 48.21it/s, Loss=1.5378, Acc=40.23%]\n",
      "Validation: 100%|██████████| 442/442 [00:18<00:00, 24.14it/s, Loss=1.9021, Acc=44.06%] \n"
     ]
    },
    {
     "name": "stdout",
     "output_type": "stream",
     "text": [
      "Train Loss: 1.5233, Train Acc: 0.4023\n",
      "Val Loss: 1.4309, Val Acc: 0.4406\n",
      "New best validation accuracy: 0.4406 - Model saved!\n",
      "\n",
      "Epoch 5/50\n",
      "--------------------------------------------------\n"
     ]
    },
    {
     "name": "stderr",
     "output_type": "stream",
     "text": [
      "Training: 100%|██████████| 3353/3353 [01:09<00:00, 48.51it/s, Loss=1.3441, Acc=43.58%]\n",
      "Validation: 100%|██████████| 442/442 [00:18<00:00, 24.38it/s, Loss=1.1871, Acc=47.34%] \n"
     ]
    },
    {
     "name": "stdout",
     "output_type": "stream",
     "text": [
      "Train Loss: 1.4387, Train Acc: 0.4358\n",
      "Val Loss: 1.3540, Val Acc: 0.4734\n",
      "New best validation accuracy: 0.4734 - Model saved!\n",
      "\n",
      "Epoch 6/50\n",
      "--------------------------------------------------\n"
     ]
    },
    {
     "name": "stderr",
     "output_type": "stream",
     "text": [
      "Training: 100%|██████████| 3353/3353 [01:10<00:00, 47.64it/s, Loss=1.3472, Acc=45.64%]\n",
      "Validation: 100%|██████████| 442/442 [00:18<00:00, 23.90it/s, Loss=1.0910, Acc=47.57%] \n"
     ]
    },
    {
     "name": "stdout",
     "output_type": "stream",
     "text": [
      "Train Loss: 1.3917, Train Acc: 0.4564\n",
      "Val Loss: 1.3253, Val Acc: 0.4757\n",
      "New best validation accuracy: 0.4757 - Model saved!\n",
      "\n",
      "Epoch 7/50\n",
      "--------------------------------------------------\n"
     ]
    },
    {
     "name": "stderr",
     "output_type": "stream",
     "text": [
      "Training: 100%|██████████| 3353/3353 [01:10<00:00, 47.71it/s, Loss=1.2938, Acc=46.91%]\n",
      "Validation: 100%|██████████| 442/442 [00:18<00:00, 23.41it/s, Loss=0.8893, Acc=47.45%] \n"
     ]
    },
    {
     "name": "stdout",
     "output_type": "stream",
     "text": [
      "Train Loss: 1.3604, Train Acc: 0.4691\n",
      "Val Loss: 1.2885, Val Acc: 0.4745\n",
      "\n",
      "Epoch 8/50\n",
      "--------------------------------------------------\n"
     ]
    },
    {
     "name": "stderr",
     "output_type": "stream",
     "text": [
      "Training: 100%|██████████| 3353/3353 [01:09<00:00, 48.55it/s, Loss=1.1710, Acc=47.94%]\n",
      "Validation: 100%|██████████| 442/442 [00:18<00:00, 24.40it/s, Loss=1.1264, Acc=48.22%] \n"
     ]
    },
    {
     "name": "stdout",
     "output_type": "stream",
     "text": [
      "Train Loss: 1.3324, Train Acc: 0.4794\n",
      "Val Loss: 1.2988, Val Acc: 0.4822\n",
      "New best validation accuracy: 0.4822 - Model saved!\n",
      "\n",
      "Epoch 9/50\n",
      "--------------------------------------------------\n"
     ]
    },
    {
     "name": "stderr",
     "output_type": "stream",
     "text": [
      "Training: 100%|██████████| 3353/3353 [01:09<00:00, 48.25it/s, Loss=1.1293, Acc=48.74%]\n",
      "Validation: 100%|██████████| 442/442 [00:18<00:00, 24.29it/s, Loss=1.2748, Acc=48.00%] \n"
     ]
    },
    {
     "name": "stdout",
     "output_type": "stream",
     "text": [
      "Train Loss: 1.3125, Train Acc: 0.4874\n",
      "Val Loss: 1.2892, Val Acc: 0.4800\n",
      "\n",
      "Epoch 10/50\n",
      "--------------------------------------------------\n"
     ]
    },
    {
     "name": "stderr",
     "output_type": "stream",
     "text": [
      "Training: 100%|██████████| 3353/3353 [01:12<00:00, 46.35it/s, Loss=0.7770, Acc=49.58%]\n",
      "Validation: 100%|██████████| 442/442 [00:20<00:00, 21.27it/s, Loss=1.0857, Acc=48.90%] \n"
     ]
    },
    {
     "name": "stdout",
     "output_type": "stream",
     "text": [
      "Train Loss: 1.2938, Train Acc: 0.4958\n",
      "Val Loss: 1.2538, Val Acc: 0.4890\n",
      "New best validation accuracy: 0.4890 - Model saved!\n",
      "\n",
      "Epoch 11/50\n",
      "--------------------------------------------------\n"
     ]
    },
    {
     "name": "stderr",
     "output_type": "stream",
     "text": [
      "Training: 100%|██████████| 3353/3353 [01:14<00:00, 44.71it/s, Loss=1.0217, Acc=50.53%]\n",
      "Validation: 100%|██████████| 442/442 [00:21<00:00, 21.01it/s, Loss=0.9412, Acc=50.95%] \n"
     ]
    },
    {
     "name": "stdout",
     "output_type": "stream",
     "text": [
      "Train Loss: 1.2764, Train Acc: 0.5053\n",
      "Val Loss: 1.2353, Val Acc: 0.5095\n",
      "New best validation accuracy: 0.5095 - Model saved!\n",
      "\n",
      "Epoch 12/50\n",
      "--------------------------------------------------\n"
     ]
    },
    {
     "name": "stderr",
     "output_type": "stream",
     "text": [
      "Training: 100%|██████████| 3353/3353 [01:15<00:00, 44.66it/s, Loss=1.0988, Acc=51.87%]\n",
      "Validation: 100%|██████████| 442/442 [00:21<00:00, 21.01it/s, Loss=0.8388, Acc=52.32%] \n"
     ]
    },
    {
     "name": "stdout",
     "output_type": "stream",
     "text": [
      "Train Loss: 1.2573, Train Acc: 0.5187\n",
      "Val Loss: 1.2048, Val Acc: 0.5232\n",
      "New best validation accuracy: 0.5232 - Model saved!\n",
      "\n",
      "Epoch 13/50\n",
      "--------------------------------------------------\n"
     ]
    },
    {
     "name": "stderr",
     "output_type": "stream",
     "text": [
      "Training: 100%|██████████| 3353/3353 [01:14<00:00, 44.96it/s, Loss=1.2607, Acc=52.60%]\n",
      "Validation: 100%|██████████| 442/442 [00:20<00:00, 21.29it/s, Loss=0.7455, Acc=53.31%] \n"
     ]
    },
    {
     "name": "stdout",
     "output_type": "stream",
     "text": [
      "Train Loss: 1.2409, Train Acc: 0.5260\n",
      "Val Loss: 1.1955, Val Acc: 0.5331\n",
      "New best validation accuracy: 0.5331 - Model saved!\n",
      "\n",
      "Epoch 14/50\n",
      "--------------------------------------------------\n"
     ]
    },
    {
     "name": "stderr",
     "output_type": "stream",
     "text": [
      "Training: 100%|██████████| 3353/3353 [01:15<00:00, 44.41it/s, Loss=1.8673, Acc=53.23%]\n",
      "Validation: 100%|██████████| 442/442 [00:20<00:00, 21.17it/s, Loss=0.7202, Acc=53.88%] \n"
     ]
    },
    {
     "name": "stdout",
     "output_type": "stream",
     "text": [
      "Train Loss: 1.2269, Train Acc: 0.5323\n",
      "Val Loss: 1.1810, Val Acc: 0.5388\n",
      "New best validation accuracy: 0.5388 - Model saved!\n",
      "\n",
      "Epoch 15/50\n",
      "--------------------------------------------------\n"
     ]
    },
    {
     "name": "stderr",
     "output_type": "stream",
     "text": [
      "Training: 100%|██████████| 3353/3353 [01:15<00:00, 44.63it/s, Loss=1.0870, Acc=53.97%]\n",
      "Validation: 100%|██████████| 442/442 [00:21<00:00, 20.55it/s, Loss=0.6735, Acc=54.43%] \n"
     ]
    },
    {
     "name": "stdout",
     "output_type": "stream",
     "text": [
      "Train Loss: 1.2106, Train Acc: 0.5397\n",
      "Val Loss: 1.1727, Val Acc: 0.5443\n",
      "New best validation accuracy: 0.5443 - Model saved!\n",
      "\n",
      "Epoch 16/50\n",
      "--------------------------------------------------\n"
     ]
    },
    {
     "name": "stderr",
     "output_type": "stream",
     "text": [
      "Training: 100%|██████████| 3353/3353 [01:15<00:00, 44.69it/s, Loss=1.0331, Acc=54.38%]\n",
      "Validation: 100%|██████████| 442/442 [00:20<00:00, 21.34it/s, Loss=0.6408, Acc=55.46%] \n"
     ]
    },
    {
     "name": "stdout",
     "output_type": "stream",
     "text": [
      "Train Loss: 1.2043, Train Acc: 0.5438\n",
      "Val Loss: 1.1427, Val Acc: 0.5546\n",
      "New best validation accuracy: 0.5546 - Model saved!\n",
      "\n",
      "Epoch 17/50\n",
      "--------------------------------------------------\n"
     ]
    },
    {
     "name": "stderr",
     "output_type": "stream",
     "text": [
      "Training: 100%|██████████| 3353/3353 [01:14<00:00, 44.92it/s, Loss=1.0967, Acc=55.29%]\n",
      "Validation: 100%|██████████| 442/442 [00:20<00:00, 21.14it/s, Loss=0.6988, Acc=55.77%] \n"
     ]
    },
    {
     "name": "stdout",
     "output_type": "stream",
     "text": [
      "Train Loss: 1.1864, Train Acc: 0.5529\n",
      "Val Loss: 1.1263, Val Acc: 0.5577\n",
      "New best validation accuracy: 0.5577 - Model saved!\n",
      "\n",
      "Epoch 18/50\n",
      "--------------------------------------------------\n"
     ]
    },
    {
     "name": "stderr",
     "output_type": "stream",
     "text": [
      "Training: 100%|██████████| 3353/3353 [01:15<00:00, 44.58it/s, Loss=1.0690, Acc=55.77%]\n",
      "Validation: 100%|██████████| 442/442 [00:21<00:00, 21.01it/s, Loss=0.6892, Acc=55.58%] \n"
     ]
    },
    {
     "name": "stdout",
     "output_type": "stream",
     "text": [
      "Train Loss: 1.1709, Train Acc: 0.5577\n",
      "Val Loss: 1.1404, Val Acc: 0.5558\n",
      "\n",
      "Epoch 19/50\n",
      "--------------------------------------------------\n"
     ]
    },
    {
     "name": "stderr",
     "output_type": "stream",
     "text": [
      "Training: 100%|██████████| 3353/3353 [01:14<00:00, 44.82it/s, Loss=1.2917, Acc=56.05%]\n",
      "Validation: 100%|██████████| 442/442 [00:20<00:00, 21.25it/s, Loss=0.8455, Acc=56.51%] \n"
     ]
    },
    {
     "name": "stdout",
     "output_type": "stream",
     "text": [
      "Train Loss: 1.1661, Train Acc: 0.5605\n",
      "Val Loss: 1.1163, Val Acc: 0.5651\n",
      "New best validation accuracy: 0.5651 - Model saved!\n",
      "\n",
      "Epoch 20/50\n",
      "--------------------------------------------------\n"
     ]
    },
    {
     "name": "stderr",
     "output_type": "stream",
     "text": [
      "Training: 100%|██████████| 3353/3353 [01:15<00:00, 44.68it/s, Loss=0.8326, Acc=56.54%]\n",
      "Validation: 100%|██████████| 442/442 [00:20<00:00, 21.56it/s, Loss=1.0089, Acc=56.44%] \n"
     ]
    },
    {
     "name": "stdout",
     "output_type": "stream",
     "text": [
      "Train Loss: 1.1536, Train Acc: 0.5654\n",
      "Val Loss: 1.1158, Val Acc: 0.5644\n",
      "\n",
      "Epoch 21/50\n",
      "--------------------------------------------------\n"
     ]
    },
    {
     "name": "stderr",
     "output_type": "stream",
     "text": [
      "Training: 100%|██████████| 3353/3353 [01:14<00:00, 45.09it/s, Loss=0.9468, Acc=57.03%]\n",
      "Validation: 100%|██████████| 442/442 [00:20<00:00, 21.50it/s, Loss=0.7269, Acc=57.42%] \n"
     ]
    },
    {
     "name": "stdout",
     "output_type": "stream",
     "text": [
      "Train Loss: 1.1417, Train Acc: 0.5703\n",
      "Val Loss: 1.0955, Val Acc: 0.5742\n",
      "New best validation accuracy: 0.5742 - Model saved!\n",
      "\n",
      "Epoch 22/50\n",
      "--------------------------------------------------\n"
     ]
    },
    {
     "name": "stderr",
     "output_type": "stream",
     "text": [
      "Training: 100%|██████████| 3353/3353 [01:14<00:00, 45.07it/s, Loss=0.6857, Acc=57.37%]\n",
      "Validation: 100%|██████████| 442/442 [00:20<00:00, 21.55it/s, Loss=0.4468, Acc=57.40%] \n"
     ]
    },
    {
     "name": "stdout",
     "output_type": "stream",
     "text": [
      "Train Loss: 1.1331, Train Acc: 0.5737\n",
      "Val Loss: 1.0878, Val Acc: 0.5740\n",
      "\n",
      "Epoch 23/50\n",
      "--------------------------------------------------\n"
     ]
    },
    {
     "name": "stderr",
     "output_type": "stream",
     "text": [
      "Training: 100%|██████████| 3353/3353 [01:14<00:00, 45.29it/s, Loss=0.9790, Acc=57.47%]\n",
      "Validation: 100%|██████████| 442/442 [00:20<00:00, 21.65it/s, Loss=0.7277, Acc=57.71%] \n"
     ]
    },
    {
     "name": "stdout",
     "output_type": "stream",
     "text": [
      "Train Loss: 1.1287, Train Acc: 0.5747\n",
      "Val Loss: 1.0853, Val Acc: 0.5771\n",
      "New best validation accuracy: 0.5771 - Model saved!\n",
      "\n",
      "Epoch 24/50\n",
      "--------------------------------------------------\n"
     ]
    },
    {
     "name": "stderr",
     "output_type": "stream",
     "text": [
      "Training: 100%|██████████| 3353/3353 [01:14<00:00, 44.86it/s, Loss=0.8458, Acc=58.24%]\n",
      "Validation: 100%|██████████| 442/442 [00:20<00:00, 21.75it/s, Loss=0.7779, Acc=58.19%] \n"
     ]
    },
    {
     "name": "stdout",
     "output_type": "stream",
     "text": [
      "Train Loss: 1.1163, Train Acc: 0.5824\n",
      "Val Loss: 1.0718, Val Acc: 0.5819\n",
      "New best validation accuracy: 0.5819 - Model saved!\n",
      "\n",
      "Epoch 25/50\n",
      "--------------------------------------------------\n"
     ]
    },
    {
     "name": "stderr",
     "output_type": "stream",
     "text": [
      "Training: 100%|██████████| 3353/3353 [01:14<00:00, 45.04it/s, Loss=0.8028, Acc=58.25%]\n",
      "Validation: 100%|██████████| 442/442 [00:20<00:00, 21.68it/s, Loss=0.5987, Acc=58.58%] \n"
     ]
    },
    {
     "name": "stdout",
     "output_type": "stream",
     "text": [
      "Train Loss: 1.1116, Train Acc: 0.5825\n",
      "Val Loss: 1.0713, Val Acc: 0.5858\n",
      "New best validation accuracy: 0.5858 - Model saved!\n",
      "\n",
      "Epoch 26/50\n",
      "--------------------------------------------------\n"
     ]
    },
    {
     "name": "stderr",
     "output_type": "stream",
     "text": [
      "Training: 100%|██████████| 3353/3353 [01:14<00:00, 45.11it/s, Loss=1.4261, Acc=58.58%]\n",
      "Validation: 100%|██████████| 442/442 [00:20<00:00, 21.84it/s, Loss=0.6982, Acc=58.14%] \n"
     ]
    },
    {
     "name": "stdout",
     "output_type": "stream",
     "text": [
      "Train Loss: 1.1016, Train Acc: 0.5858\n",
      "Val Loss: 1.0858, Val Acc: 0.5814\n",
      "\n",
      "Epoch 27/50\n",
      "--------------------------------------------------\n"
     ]
    },
    {
     "name": "stderr",
     "output_type": "stream",
     "text": [
      "Training: 100%|██████████| 3353/3353 [01:13<00:00, 45.56it/s, Loss=0.9692, Acc=58.46%]\n",
      "Validation: 100%|██████████| 442/442 [00:18<00:00, 23.55it/s, Loss=0.5375, Acc=58.46%] \n"
     ]
    },
    {
     "name": "stdout",
     "output_type": "stream",
     "text": [
      "Train Loss: 1.1009, Train Acc: 0.5846\n",
      "Val Loss: 1.0626, Val Acc: 0.5846\n",
      "\n",
      "Epoch 28/50\n",
      "--------------------------------------------------\n"
     ]
    },
    {
     "name": "stderr",
     "output_type": "stream",
     "text": [
      "Training: 100%|██████████| 3353/3353 [01:51<00:00, 30.16it/s, Loss=1.1946, Acc=59.03%]\n",
      "Validation: 100%|██████████| 442/442 [00:27<00:00, 15.79it/s, Loss=0.6677, Acc=59.50%]\n"
     ]
    },
    {
     "name": "stdout",
     "output_type": "stream",
     "text": [
      "Train Loss: 1.0914, Train Acc: 0.5903\n",
      "Val Loss: 1.0542, Val Acc: 0.5950\n",
      "New best validation accuracy: 0.5950 - Model saved!\n",
      "\n",
      "Epoch 29/50\n",
      "--------------------------------------------------\n"
     ]
    },
    {
     "name": "stderr",
     "output_type": "stream",
     "text": [
      "Training: 100%|██████████| 3353/3353 [01:09<00:00, 48.27it/s, Loss=1.1876, Acc=59.14%]\n",
      "Validation: 100%|██████████| 442/442 [00:20<00:00, 21.59it/s, Loss=0.6272, Acc=58.90%] \n"
     ]
    },
    {
     "name": "stdout",
     "output_type": "stream",
     "text": [
      "Train Loss: 1.0859, Train Acc: 0.5914\n",
      "Val Loss: 1.0576, Val Acc: 0.5890\n",
      "\n",
      "Epoch 30/50\n",
      "--------------------------------------------------\n"
     ]
    },
    {
     "name": "stderr",
     "output_type": "stream",
     "text": [
      "Training: 100%|██████████| 3353/3353 [01:14<00:00, 45.07it/s, Loss=0.8648, Acc=59.57%]\n",
      "Validation: 100%|██████████| 442/442 [00:20<00:00, 21.42it/s, Loss=0.5484, Acc=59.13%] \n"
     ]
    },
    {
     "name": "stdout",
     "output_type": "stream",
     "text": [
      "Train Loss: 1.0804, Train Acc: 0.5957\n",
      "Val Loss: 1.0470, Val Acc: 0.5913\n",
      "\n",
      "Epoch 31/50\n",
      "--------------------------------------------------\n"
     ]
    },
    {
     "name": "stderr",
     "output_type": "stream",
     "text": [
      "Training: 100%|██████████| 3353/3353 [01:14<00:00, 44.87it/s, Loss=0.7114, Acc=59.64%]\n",
      "Validation: 100%|██████████| 442/442 [00:20<00:00, 21.60it/s, Loss=0.6645, Acc=59.65%] \n"
     ]
    },
    {
     "name": "stdout",
     "output_type": "stream",
     "text": [
      "Train Loss: 1.0705, Train Acc: 0.5964\n",
      "Val Loss: 1.0400, Val Acc: 0.5965\n",
      "New best validation accuracy: 0.5965 - Model saved!\n",
      "\n",
      "Epoch 32/50\n",
      "--------------------------------------------------\n"
     ]
    },
    {
     "name": "stderr",
     "output_type": "stream",
     "text": [
      "Training: 100%|██████████| 3353/3353 [01:14<00:00, 44.95it/s, Loss=0.9878, Acc=59.93%]\n",
      "Validation: 100%|██████████| 442/442 [00:20<00:00, 21.57it/s, Loss=0.7157, Acc=59.96%] \n"
     ]
    },
    {
     "name": "stdout",
     "output_type": "stream",
     "text": [
      "Train Loss: 1.0694, Train Acc: 0.5993\n",
      "Val Loss: 1.0261, Val Acc: 0.5996\n",
      "New best validation accuracy: 0.5996 - Model saved!\n",
      "\n",
      "Epoch 33/50\n",
      "--------------------------------------------------\n"
     ]
    },
    {
     "name": "stderr",
     "output_type": "stream",
     "text": [
      "Training: 100%|██████████| 3353/3353 [01:14<00:00, 45.12it/s, Loss=1.3018, Acc=59.91%]\n",
      "Validation: 100%|██████████| 442/442 [00:20<00:00, 21.62it/s, Loss=0.4393, Acc=60.09%] \n"
     ]
    },
    {
     "name": "stdout",
     "output_type": "stream",
     "text": [
      "Train Loss: 1.0632, Train Acc: 0.5991\n",
      "Val Loss: 1.0318, Val Acc: 0.6009\n",
      "New best validation accuracy: 0.6009 - Model saved!\n",
      "\n",
      "Epoch 34/50\n",
      "--------------------------------------------------\n"
     ]
    },
    {
     "name": "stderr",
     "output_type": "stream",
     "text": [
      "Training: 100%|██████████| 3353/3353 [01:14<00:00, 44.78it/s, Loss=0.9488, Acc=60.22%]\n",
      "Validation: 100%|██████████| 442/442 [00:20<00:00, 21.78it/s, Loss=0.4042, Acc=59.82%] \n"
     ]
    },
    {
     "name": "stdout",
     "output_type": "stream",
     "text": [
      "Train Loss: 1.0540, Train Acc: 0.6022\n",
      "Val Loss: 1.0246, Val Acc: 0.5982\n",
      "\n",
      "Epoch 35/50\n",
      "--------------------------------------------------\n"
     ]
    },
    {
     "name": "stderr",
     "output_type": "stream",
     "text": [
      "Training: 100%|██████████| 3353/3353 [01:13<00:00, 45.38it/s, Loss=0.7923, Acc=60.65%]\n",
      "Validation: 100%|██████████| 442/442 [00:20<00:00, 21.19it/s, Loss=0.5601, Acc=60.23%] \n"
     ]
    },
    {
     "name": "stdout",
     "output_type": "stream",
     "text": [
      "Train Loss: 1.0457, Train Acc: 0.6065\n",
      "Val Loss: 1.0229, Val Acc: 0.6023\n",
      "New best validation accuracy: 0.6023 - Model saved!\n",
      "\n",
      "Epoch 36/50\n",
      "--------------------------------------------------\n"
     ]
    },
    {
     "name": "stderr",
     "output_type": "stream",
     "text": [
      "Training: 100%|██████████| 3353/3353 [01:15<00:00, 44.70it/s, Loss=1.0816, Acc=60.59%]\n",
      "Validation: 100%|██████████| 442/442 [00:20<00:00, 21.27it/s, Loss=0.7990, Acc=59.72%] \n"
     ]
    },
    {
     "name": "stdout",
     "output_type": "stream",
     "text": [
      "Train Loss: 1.0425, Train Acc: 0.6059\n",
      "Val Loss: 1.0270, Val Acc: 0.5972\n",
      "\n",
      "Epoch 37/50\n",
      "--------------------------------------------------\n"
     ]
    },
    {
     "name": "stderr",
     "output_type": "stream",
     "text": [
      "Training: 100%|██████████| 3353/3353 [01:14<00:00, 45.17it/s, Loss=0.8792, Acc=60.87%]\n",
      "Validation: 100%|██████████| 442/442 [00:20<00:00, 21.31it/s, Loss=0.5986, Acc=61.08%] \n"
     ]
    },
    {
     "name": "stdout",
     "output_type": "stream",
     "text": [
      "Train Loss: 1.0383, Train Acc: 0.6087\n",
      "Val Loss: 0.9974, Val Acc: 0.6108\n",
      "New best validation accuracy: 0.6108 - Model saved!\n",
      "\n",
      "Epoch 38/50\n",
      "--------------------------------------------------\n"
     ]
    },
    {
     "name": "stderr",
     "output_type": "stream",
     "text": [
      "Training: 100%|██████████| 3353/3353 [01:14<00:00, 44.95it/s, Loss=0.6392, Acc=61.09%]\n",
      "Validation: 100%|██████████| 442/442 [00:20<00:00, 21.47it/s, Loss=0.4918, Acc=60.19%] \n"
     ]
    },
    {
     "name": "stdout",
     "output_type": "stream",
     "text": [
      "Train Loss: 1.0354, Train Acc: 0.6109\n",
      "Val Loss: 1.0262, Val Acc: 0.6019\n",
      "\n",
      "Epoch 39/50\n",
      "--------------------------------------------------\n"
     ]
    },
    {
     "name": "stderr",
     "output_type": "stream",
     "text": [
      "Training: 100%|██████████| 3353/3353 [01:14<00:00, 45.22it/s, Loss=1.1715, Acc=61.04%]\n",
      "Validation: 100%|██████████| 442/442 [00:20<00:00, 21.59it/s, Loss=0.7293, Acc=61.08%] \n"
     ]
    },
    {
     "name": "stdout",
     "output_type": "stream",
     "text": [
      "Train Loss: 1.0279, Train Acc: 0.6104\n",
      "Val Loss: 0.9945, Val Acc: 0.6108\n",
      "\n",
      "Epoch 40/50\n",
      "--------------------------------------------------\n"
     ]
    },
    {
     "name": "stderr",
     "output_type": "stream",
     "text": [
      "Training: 100%|██████████| 3353/3353 [01:14<00:00, 45.18it/s, Loss=0.6031, Acc=61.83%]\n",
      "Validation: 100%|██████████| 442/442 [00:20<00:00, 21.55it/s, Loss=0.8488, Acc=60.73%] \n"
     ]
    },
    {
     "name": "stdout",
     "output_type": "stream",
     "text": [
      "Train Loss: 1.0222, Train Acc: 0.6183\n",
      "Val Loss: 1.0261, Val Acc: 0.6073\n",
      "\n",
      "Epoch 41/50\n",
      "--------------------------------------------------\n"
     ]
    },
    {
     "name": "stderr",
     "output_type": "stream",
     "text": [
      "Training: 100%|██████████| 3353/3353 [01:14<00:00, 45.08it/s, Loss=1.3986, Acc=61.67%]\n",
      "Validation: 100%|██████████| 442/442 [00:20<00:00, 21.43it/s, Loss=0.6361, Acc=60.88%] \n"
     ]
    },
    {
     "name": "stdout",
     "output_type": "stream",
     "text": [
      "Train Loss: 1.0218, Train Acc: 0.6167\n",
      "Val Loss: 1.0117, Val Acc: 0.6088\n",
      "\n",
      "Epoch 42/50\n",
      "--------------------------------------------------\n"
     ]
    },
    {
     "name": "stderr",
     "output_type": "stream",
     "text": [
      "Training: 100%|██████████| 3353/3353 [01:14<00:00, 45.20it/s, Loss=0.8718, Acc=61.83%]\n",
      "Validation: 100%|██████████| 442/442 [00:20<00:00, 21.66it/s, Loss=0.7180, Acc=61.69%] \n"
     ]
    },
    {
     "name": "stdout",
     "output_type": "stream",
     "text": [
      "Train Loss: 1.0195, Train Acc: 0.6183\n",
      "Val Loss: 0.9916, Val Acc: 0.6169\n",
      "New best validation accuracy: 0.6169 - Model saved!\n",
      "\n",
      "Epoch 43/50\n",
      "--------------------------------------------------\n"
     ]
    },
    {
     "name": "stderr",
     "output_type": "stream",
     "text": [
      "Training: 100%|██████████| 3353/3353 [01:13<00:00, 45.45it/s, Loss=1.2767, Acc=61.76%]\n",
      "Validation: 100%|██████████| 442/442 [00:20<00:00, 21.20it/s, Loss=0.5954, Acc=62.03%] \n"
     ]
    },
    {
     "name": "stdout",
     "output_type": "stream",
     "text": [
      "Train Loss: 1.0134, Train Acc: 0.6176\n",
      "Val Loss: 0.9850, Val Acc: 0.6203\n",
      "New best validation accuracy: 0.6203 - Model saved!\n",
      "\n",
      "Epoch 44/50\n",
      "--------------------------------------------------\n"
     ]
    },
    {
     "name": "stderr",
     "output_type": "stream",
     "text": [
      "Training: 100%|██████████| 3353/3353 [01:14<00:00, 45.14it/s, Loss=0.9821, Acc=62.44%]\n",
      "Validation: 100%|██████████| 442/442 [00:20<00:00, 21.59it/s, Loss=0.5580, Acc=61.42%] \n"
     ]
    },
    {
     "name": "stdout",
     "output_type": "stream",
     "text": [
      "Train Loss: 1.0068, Train Acc: 0.6244\n",
      "Val Loss: 1.0022, Val Acc: 0.6142\n",
      "\n",
      "Epoch 45/50\n",
      "--------------------------------------------------\n"
     ]
    },
    {
     "name": "stderr",
     "output_type": "stream",
     "text": [
      "Training: 100%|██████████| 3353/3353 [01:14<00:00, 44.96it/s, Loss=0.7626, Acc=62.54%]\n",
      "Validation: 100%|██████████| 442/442 [00:20<00:00, 21.47it/s, Loss=0.6222, Acc=62.03%] \n"
     ]
    },
    {
     "name": "stdout",
     "output_type": "stream",
     "text": [
      "Train Loss: 1.0041, Train Acc: 0.6254\n",
      "Val Loss: 0.9937, Val Acc: 0.6203\n",
      "\n",
      "Epoch 46/50\n",
      "--------------------------------------------------\n"
     ]
    },
    {
     "name": "stderr",
     "output_type": "stream",
     "text": [
      "Training: 100%|██████████| 3353/3353 [01:14<00:00, 45.08it/s, Loss=0.6899, Acc=62.63%]\n",
      "Validation: 100%|██████████| 442/442 [00:20<00:00, 21.47it/s, Loss=0.6929, Acc=62.98%] \n"
     ]
    },
    {
     "name": "stdout",
     "output_type": "stream",
     "text": [
      "Train Loss: 0.9973, Train Acc: 0.6263\n",
      "Val Loss: 0.9782, Val Acc: 0.6298\n",
      "New best validation accuracy: 0.6298 - Model saved!\n",
      "\n",
      "Epoch 47/50\n",
      "--------------------------------------------------\n"
     ]
    },
    {
     "name": "stderr",
     "output_type": "stream",
     "text": [
      "Training: 100%|██████████| 3353/3353 [01:14<00:00, 45.13it/s, Loss=0.8061, Acc=62.91%]\n",
      "Validation: 100%|██████████| 442/442 [00:20<00:00, 21.65it/s, Loss=0.7775, Acc=62.82%] \n"
     ]
    },
    {
     "name": "stdout",
     "output_type": "stream",
     "text": [
      "Train Loss: 0.9933, Train Acc: 0.6291\n",
      "Val Loss: 0.9753, Val Acc: 0.6282\n",
      "\n",
      "Epoch 48/50\n",
      "--------------------------------------------------\n"
     ]
    },
    {
     "name": "stderr",
     "output_type": "stream",
     "text": [
      "Training: 100%|██████████| 3353/3353 [01:13<00:00, 45.41it/s, Loss=0.6244, Acc=62.73%]\n",
      "Validation: 100%|██████████| 442/442 [00:20<00:00, 21.67it/s, Loss=0.7079, Acc=63.03%] \n"
     ]
    },
    {
     "name": "stdout",
     "output_type": "stream",
     "text": [
      "Train Loss: 0.9944, Train Acc: 0.6273\n",
      "Val Loss: 0.9675, Val Acc: 0.6303\n",
      "New best validation accuracy: 0.6303 - Model saved!\n",
      "\n",
      "Epoch 49/50\n",
      "--------------------------------------------------\n"
     ]
    },
    {
     "name": "stderr",
     "output_type": "stream",
     "text": [
      "Training: 100%|██████████| 3353/3353 [01:14<00:00, 45.23it/s, Loss=0.7447, Acc=63.31%]\n",
      "Validation: 100%|██████████| 442/442 [00:20<00:00, 21.36it/s, Loss=0.4652, Acc=62.06%] \n"
     ]
    },
    {
     "name": "stdout",
     "output_type": "stream",
     "text": [
      "Train Loss: 0.9853, Train Acc: 0.6331\n",
      "Val Loss: 0.9896, Val Acc: 0.6206\n",
      "\n",
      "Epoch 50/50\n",
      "--------------------------------------------------\n"
     ]
    },
    {
     "name": "stderr",
     "output_type": "stream",
     "text": [
      "Training: 100%|██████████| 3353/3353 [01:13<00:00, 45.32it/s, Loss=0.6922, Acc=63.24%]\n",
      "Validation: 100%|██████████| 442/442 [00:20<00:00, 21.27it/s, Loss=0.6873, Acc=63.23%] \n"
     ]
    },
    {
     "name": "stdout",
     "output_type": "stream",
     "text": [
      "Train Loss: 0.9839, Train Acc: 0.6324\n",
      "Val Loss: 0.9649, Val Acc: 0.6323\n",
      "New best validation accuracy: 0.6323 - Model saved!\n",
      "Best model loaded with validation accuracy: 0.6323\n",
      "\n",
      "6. Plotting training history...\n"
     ]
    },
    {
     "data": {
      "image/png": "[encoded data removed]",
      "text/plain": [
       "<Figure size 1200x400 with 2 Axes>"
      ]
     },
     "metadata": {},
     "output_type": "display_data"
    },
    {
     "name": "stdout",
     "output_type": "stream",
     "text": [
      "\n",
      "7. Evaluating model on validation set...\n",
      "\n",
      "==================================================\n",
      "MODEL EVALUATION\n",
      "==================================================\n"
     ]
    },
    {
     "name": "stderr",
     "output_type": "stream",
     "text": [
      "Testing: 100%|██████████| 442/442 [00:19<00:00, 22.48it/s] "
     ]
    },
    {
     "name": "stdout",
     "output_type": "stream",
     "text": [
      "\n",
      "Test Accuracy: 0.6323 (63.23%)\n",
      "\n",
      "Detailed Classification Report:\n",
      "--------------------------------------------------\n",
      "              precision    recall  f1-score   support\n",
      "\n",
      "       angry     0.5911    0.1521    0.2419       960\n",
      "     disgust     0.7500    0.0270    0.0522       111\n",
      "        fear     0.4156    0.3242    0.3642      1018\n",
      "       happy     0.8457    0.9216    0.8820      1825\n",
      "     neutral     0.6007    0.7212    0.6555      1216\n",
      "         sad     0.4551    0.6760    0.5440      1139\n",
      "    surprise     0.7500    0.8281    0.7871       797\n",
      "\n",
      "    accuracy                         0.6323      7066\n",
      "   macro avg     0.6297    0.5215    0.5038      7066\n",
      "weighted avg     0.6317    0.6323    0.6032      7066\n",
      "\n",
      "\n",
      "Confusion Matrix:\n",
      "------------------------------\n",
      "[[ 146    0  231   80  137  337   29]\n",
      " [  33    3   60    1    0   13    1]\n",
      " [  51    0  330   52  115  325  145]\n",
      " [   5    0    6 1682   69   30   33]\n",
      " [   0    0   32   94  877  205    8]\n",
      " [  11    1   85   32  236  770    4]\n",
      " [   1    0   50   48   26   12  660]]\n",
      "\n",
      "8. Model saved as 'emotion_detection_model.pth'\n",
      "\n",
      "============================================================\n",
      "TRAINING COMPLETED SUCCESSFULLY!\n",
      "============================================================\n"
     ]
    },
    {
     "name": "stderr",
     "output_type": "stream",
     "text": [
      "\n"
     ]
    }
   ],
   "source": [
    "main()"
   ]
  },
  {
   "cell_type": "code",
   "execution_count": null,
   "id": "e754a492",
   "metadata": {},
   "outputs": [],
   "source": []
  }
 ],
 "metadata": {
  "kernelspec": {
   "display_name": "emotion_torch",
   "language": "python",
   "name": "python3"
  },
  "language_info": {
   "codemirror_mode": {
    "name": "ipython",
    "version": 3
   },
   "file_extension": ".py",
   "mimetype": "text/x-python",
   "name": "python",
   "nbconvert_exporter": "python",
   "pygments_lexer": "ipython3",
   "version": "3.11.13"
  }
 },
 "nbformat": 4,
 "nbformat_minor": 5
}
