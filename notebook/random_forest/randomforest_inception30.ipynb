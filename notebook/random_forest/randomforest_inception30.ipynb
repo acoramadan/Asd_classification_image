{
 "cells": [
  {
   "cell_type": "code",
   "execution_count": 1,
   "id": "f86935ab",
   "metadata": {},
   "outputs": [],
   "source": [
    "import os\n",
    "import numpy as np\n",
    "import pandas as pd\n",
    "import matplotlib.pyplot as plt\n",
    "import seaborn as sns\n",
    "from collections import Counter\n",
    "import warnings\n",
    "from tqdm import tqdm\n",
    "import random\n",
    "warnings.filterwarnings('ignore')\n",
    "\n",
    "import torch\n",
    "import torch.nn as nn\n",
    "import torch.nn.functional as F\n",
    "from torch.utils.data import Dataset, DataLoader\n",
    "import torchvision.transforms as transforms\n",
    "from torchvision.models import inception_v3\n",
    "from PIL import Image\n",
    "\n",
    "from sklearn.ensemble import RandomForestClassifier\n",
    "from sklearn.model_selection import train_test_split\n",
    "from sklearn.metrics import (classification_report, confusion_matrix, \n",
    "                           accuracy_score, f1_score, roc_auc_score)\n",
    "from sklearn.preprocessing import LabelEncoder\n",
    "from sklearn.multiclass import OneVsRestClassifier\n"
   ]
  },
  {
   "cell_type": "code",
   "execution_count": 2,
   "id": "3eeb7557",
   "metadata": {},
   "outputs": [
    {
     "name": "stdout",
     "output_type": "stream",
     "text": [
      "Using device: cuda\n",
      "GPU: NVIDIA GeForce RTX 3090 Ti\n"
     ]
    }
   ],
   "source": [
    "random.seed(42)\n",
    "np.random.seed(42)\n",
    "torch.manual_seed(42)\n",
    "if torch.cuda.is_available():\n",
    "    torch.cuda.manual_seed(42)\n",
    "    torch.cuda.manual_seed_all(42)\n",
    "\n",
    "device = torch.device('cuda' if torch.cuda.is_available() else 'cpu')\n",
    "print(f\"Using device: {device}\")\n",
    "\n",
    "if torch.cuda.is_available():\n",
    "    print(f\"GPU: {torch.cuda.get_device_name()}\")\n"
   ]
  },
  {
   "cell_type": "code",
   "execution_count": 3,
   "id": "b5416b5d",
   "metadata": {},
   "outputs": [],
   "source": [
    "emotion_classes = ['angry', 'disgust', 'fear', 'happy', 'neutral', 'sad', 'surprise']\n",
    "\n",
    "DATA_ROOT = \"../../data/images/images/\" \n",
    "TRAIN_DIR = os.path.join(DATA_ROOT, \"train\")\n",
    "TEST_DIR = os.path.join(DATA_ROOT, \"validation\") \n",
    "\n",
    "IMG_SIZE = (227, 227)\n",
    "BATCH_SIZE = 64"
   ]
  },
  {
   "cell_type": "code",
   "execution_count": 4,
   "id": "44f7e0cc",
   "metadata": {},
   "outputs": [],
   "source": [
    "class EmotionDataset(Dataset):\n",
    "    def __init__(self, data_dir, emotion_classes, transform=None):\n",
    "        self.data_dir = data_dir\n",
    "        self.emotion_classes = emotion_classes\n",
    "        self.transform = transform\n",
    "        self.image_paths = []\n",
    "        self.labels = []\n",
    "        self.class_counts = {}\n",
    "        \n",
    "        self._load_data()\n",
    "    \n",
    "    def _load_data(self):\n",
    "        print(f\"Loading data from: {self.data_dir}\")\n",
    "        \n",
    "        for emotion in self.emotion_classes:\n",
    "            class_path = os.path.join(self.data_dir, emotion)\n",
    "            if not os.path.exists(class_path):\n",
    "                print(f\"Warning: Directory {class_path} not found!\")\n",
    "                continue\n",
    "                \n",
    "            image_files = [f for f in os.listdir(class_path) \n",
    "                          if f.lower().endswith(('.png', '.jpg', '.jpeg'))]\n",
    "            \n",
    "            self.class_counts[emotion] = len(image_files)\n",
    "            print(f\"Found {len(image_files)} images in {emotion} class\")\n",
    "            \n",
    "            for img_file in image_files:\n",
    "                img_path = os.path.join(class_path, img_file)\n",
    "                self.image_paths.append(img_path)\n",
    "                self.labels.append(emotion)\n",
    "    \n",
    "    def __len__(self):\n",
    "        return len(self.image_paths)\n",
    "    \n",
    "    def __getitem__(self, idx):\n",
    "        img_path = self.image_paths[idx]\n",
    "        label = self.labels[idx]\n",
    "        \n",
    "        try:\n",
    "            image = Image.open(img_path).convert('RGB')\n",
    "            \n",
    "            if self.transform:\n",
    "                image = self.transform(image)\n",
    "            \n",
    "            return image, label, img_path\n",
    "        except Exception as e:\n",
    "            print(f\"Error loading {img_path}: {e}\")\n",
    "            dummy_image = Image.new('RGB', IMG_SIZE, (128, 128, 128))\n",
    "            if self.transform:\n",
    "                dummy_image = self.transform(dummy_image)\n",
    "            return dummy_image, label, img_path"
   ]
  },
  {
   "cell_type": "code",
   "execution_count": 5,
   "id": "a91aecc2",
   "metadata": {},
   "outputs": [],
   "source": [
    "basic_transform = transforms.Compose([\n",
    "    transforms.Resize(IMG_SIZE),\n",
    "    transforms.ToTensor(),\n",
    "])"
   ]
  },
  {
   "cell_type": "code",
   "execution_count": 6,
   "id": "9bedf89a",
   "metadata": {},
   "outputs": [
    {
     "name": "stdout",
     "output_type": "stream",
     "text": [
      "==================================================\n",
      "LOADING TRAINING DATA\n",
      "==================================================\n",
      "Loading data from: ../../data/images/images/train\n",
      "Found 7988 images in angry class\n",
      "Found 983 images in disgust class\n",
      "Found 9224 images in fear class\n",
      "Found 16153 images in happy class\n",
      "Found 11180 images in neutral class\n",
      "Found 11015 images in sad class\n",
      "Found 7207 images in surprise class\n",
      "\n",
      "==================================================\n",
      "LOADING TESTING DATA\n",
      "==================================================\n",
      "Loading data from: ../../data/images/images/validation\n",
      "Found 960 images in angry class\n",
      "Found 111 images in disgust class\n",
      "Found 1018 images in fear class\n",
      "Found 1825 images in happy class\n",
      "Found 1216 images in neutral class\n",
      "Found 1139 images in sad class\n",
      "Found 797 images in surprise class\n"
     ]
    }
   ],
   "source": [
    "print(\"=\" * 50)\n",
    "print(\"LOADING TRAINING DATA\")\n",
    "print(\"=\" * 50)\n",
    "train_dataset = EmotionDataset(TRAIN_DIR, emotion_classes, transform=basic_transform)\n",
    "\n",
    "print(\"\\n\" + \"=\" * 50)\n",
    "print(\"LOADING TESTING DATA\")\n",
    "print(\"=\" * 50)\n",
    "test_dataset = EmotionDataset(TEST_DIR, emotion_classes, transform=basic_transform)"
   ]
  },
  {
   "cell_type": "code",
   "execution_count": 7,
   "id": "4239f8a1",
   "metadata": {},
   "outputs": [],
   "source": [
    "def analyze_class_distribution(class_counts, dataset_name=\"Dataset\"):\n",
    "    print(f\"\\n{dataset_name} Class Distribution:\")\n",
    "    print(\"-\" * 40)\n",
    "    \n",
    "    total_samples = sum(class_counts.values())\n",
    "    sorted_counts = dict(sorted(class_counts.items(), key=lambda x: x[1], reverse=True))\n",
    "    \n",
    "    for emotion, count in sorted_counts.items():\n",
    "        percentage = (count / total_samples) * 100\n",
    "        print(f\"{emotion:>8}: {count:>6} samples ({percentage:>5.1f}%)\")\n",
    "    \n",
    "    max_samples = max(class_counts.values())\n",
    "    min_samples = min(class_counts.values())\n",
    "    imbalance_ratio = max_samples / min_samples\n",
    "    \n",
    "    print(f\"\\nImbalance Ratio: {imbalance_ratio:.2f}\")\n",
    "    print(f\"Majority class: {max(class_counts.items(), key=lambda x: x[1])}\")\n",
    "    print(f\"Minority class: {min(class_counts.items(), key=lambda x: x[1])}\")\n",
    "    \n",
    "    return sorted_counts, imbalance_ratio"
   ]
  },
  {
   "cell_type": "code",
   "execution_count": 8,
   "id": "3089498a",
   "metadata": {},
   "outputs": [
    {
     "name": "stdout",
     "output_type": "stream",
     "text": [
      "\n",
      "Training Data Class Distribution:\n",
      "----------------------------------------\n",
      "   happy:  16153 samples ( 25.3%)\n",
      " neutral:  11180 samples ( 17.5%)\n",
      "     sad:  11015 samples ( 17.3%)\n",
      "    fear:   9224 samples ( 14.5%)\n",
      "   angry:   7988 samples ( 12.5%)\n",
      "surprise:   7207 samples ( 11.3%)\n",
      " disgust:    983 samples (  1.5%)\n",
      "\n",
      "Imbalance Ratio: 16.43\n",
      "Majority class: ('happy', 16153)\n",
      "Minority class: ('disgust', 983)\n",
      "\n",
      "Testing Data Class Distribution:\n",
      "----------------------------------------\n",
      "   happy:   1825 samples ( 25.8%)\n",
      " neutral:   1216 samples ( 17.2%)\n",
      "     sad:   1139 samples ( 16.1%)\n",
      "    fear:   1018 samples ( 14.4%)\n",
      "   angry:    960 samples ( 13.6%)\n",
      "surprise:    797 samples ( 11.3%)\n",
      " disgust:    111 samples (  1.6%)\n",
      "\n",
      "Imbalance Ratio: 16.44\n",
      "Majority class: ('happy', 1825)\n",
      "Minority class: ('disgust', 111)\n"
     ]
    },
    {
     "data": {
      "image/png": "[encoded data removed]",
      "text/plain": [
       "<Figure size 1200x500 with 2 Axes>"
      ]
     },
     "metadata": {},
     "output_type": "display_data"
    }
   ],
   "source": [
    "train_distribution, train_imbalance_ratio = analyze_class_distribution(\n",
    "    train_dataset.class_counts, \"Training Data\"\n",
    ")\n",
    "\n",
    "test_distribution, test_imbalance_ratio = analyze_class_distribution(\n",
    "    test_dataset.class_counts, \"Testing Data\"\n",
    ")\n",
    "\n",
    "plt.figure(figsize=(12, 5))\n",
    "\n",
    "plt.subplot(1, 2, 1)\n",
    "emotions = list(train_dataset.class_counts.keys())\n",
    "counts = list(train_dataset.class_counts.values())\n",
    "plt.bar(emotions, counts, color='skyblue', alpha=0.7)\n",
    "plt.title('Training Data Class Distribution (Before Balancing)')\n",
    "plt.xlabel('Emotion Classes')\n",
    "plt.ylabel('Number of Samples')\n",
    "plt.xticks(rotation=45)\n",
    "\n",
    "plt.subplot(1, 2, 2)\n",
    "emotions = list(test_dataset.class_counts.keys())\n",
    "counts = list(test_dataset.class_counts.values())\n",
    "plt.bar(emotions, counts, color='lightcoral', alpha=0.7)\n",
    "plt.title('Testing Data Class Distribution')\n",
    "plt.xlabel('Emotion Classes')\n",
    "plt.ylabel('Number of Samples')\n",
    "plt.xticks(rotation=45)\n",
    "\n",
    "plt.tight_layout()\n",
    "plt.show()"
   ]
  },
  {
   "cell_type": "code",
   "execution_count": 9,
   "id": "e5de09c1",
   "metadata": {},
   "outputs": [],
   "source": [
    "class RandomAdjustSharpness:\n",
    " \n",
    "    def __init__(self, factor=2.0):\n",
    "        self.factor = factor\n",
    "    \n",
    "    def __call__(self, img):\n",
    "        from PIL import ImageEnhance\n",
    "        enhancer = ImageEnhance.Sharpness(img)\n",
    "        return enhancer.enhance(self.factor)"
   ]
  },
  {
   "cell_type": "code",
   "execution_count": 10,
   "id": "fe84fd15",
   "metadata": {},
   "outputs": [],
   "source": [
    "augmentation_transform = transforms.Compose([\n",
    "    transforms.Resize(IMG_SIZE),\n",
    "    transforms.RandomRotation(degrees=90),  \n",
    "    RandomAdjustSharpness(factor=2.0),      \n",
    "    transforms.RandomHorizontalFlip(p=0.5), \n",
    "    transforms.ColorJitter(brightness=0.2, contrast=0.2, saturation=0.2),  \n",
    "    transforms.ToTensor(),\n",
    "])\n",
    "\n",
    "inception_transform = transforms.Compose([\n",
    "    transforms.Resize(IMG_SIZE),\n",
    "    transforms.ToTensor(),\n",
    "    transforms.Normalize(mean=[0.485, 0.456, 0.406], \n",
    "                        std=[0.229, 0.224, 0.225])  \n",
    "])"
   ]
  },
  {
   "cell_type": "code",
   "execution_count": 11,
   "id": "b994872f",
   "metadata": {},
   "outputs": [],
   "source": [
    "class BalancedEmotionDataset(Dataset):\n",
    "    def __init__(self, original_dataset, target_samples_per_class=None):\n",
    "        self.original_dataset = original_dataset\n",
    "        self.emotion_classes = original_dataset.emotion_classes\n",
    "        self.original_distribution = Counter(original_dataset.labels)\n",
    "        if target_samples_per_class is None:\n",
    "            self.target_samples_per_class = max(self.original_distribution.values())\n",
    "        else:\n",
    "            self.target_samples_per_class = target_samples_per_class\n",
    "            \n",
    "        self._create_balanced_indices()\n",
    "        \n",
    "    def _create_balanced_indices(self):\n",
    "        print(f\"\\nBalancing dataset to {self.target_samples_per_class} samples per class...\")\n",
    "        \n",
    "        class_indices = {emotion: [] for emotion in self.emotion_classes}\n",
    "        \n",
    "        for idx, label in enumerate(self.original_dataset.labels):\n",
    "            class_indices[label].append(idx)\n",
    "        \n",
    "        self.balanced_indices = []\n",
    "        self.balanced_labels = []\n",
    "        self.augmentation_flags = [] \n",
    "        \n",
    "        for emotion in self.emotion_classes:\n",
    "            original_indices = class_indices[emotion]\n",
    "            current_count = len(original_indices)\n",
    "            print(f\"  {emotion}: {current_count} -> {self.target_samples_per_class}\")\n",
    "            self.balanced_indices.extend(original_indices)\n",
    "            self.balanced_labels.extend([emotion] * current_count)\n",
    "            self.augmentation_flags.extend([False] * current_count)  \n",
    "            \n",
    "            if current_count < self.target_samples_per_class:\n",
    "                needed = self.target_samples_per_class - current_count\n",
    "                \n",
    "                additional_indices = np.random.choice(original_indices, needed, replace=True)\n",
    "                \n",
    "                self.balanced_indices.extend(additional_indices.tolist())\n",
    "                self.balanced_labels.extend([emotion] * needed)\n",
    "                self.augmentation_flags.extend([True] * needed)  \n",
    "        \n",
    "        print(f\"Balanced dataset size: {len(self.balanced_indices)}\")\n",
    "        \n",
    "        combined = list(zip(self.balanced_indices, self.balanced_labels, self.augmentation_flags))\n",
    "        np.random.shuffle(combined)\n",
    "        self.balanced_indices, self.balanced_labels, self.augmentation_flags = zip(*combined)\n",
    "    \n",
    "    def __len__(self):\n",
    "        return len(self.balanced_indices)\n",
    "    \n",
    "    def __getitem__(self, idx):\n",
    "        original_idx = self.balanced_indices[idx]\n",
    "        label = self.balanced_labels[idx]\n",
    "        need_augmentation = self.augmentation_flags[idx]\n",
    "        img_path = self.original_dataset.image_paths[original_idx]\n",
    "        try:\n",
    "            image = Image.open(img_path).convert('RGB')\n",
    "            \n",
    "            if need_augmentation:\n",
    "                image = augmentation_transform(image)\n",
    "            else:\n",
    "                image = inception_transform(image)\n",
    "                \n",
    "        except Exception as e:\n",
    "            print(f\"Error loading {img_path}: {e}\")\n",
    "            dummy_image = Image.new('RGB', IMG_SIZE, (128, 128, 128))\n",
    "            image = inception_transform(dummy_image)\n",
    "        \n",
    "        return image, label"
   ]
  },
  {
   "cell_type": "code",
   "execution_count": 12,
   "id": "4de05150",
   "metadata": {},
   "outputs": [
    {
     "name": "stdout",
     "output_type": "stream",
     "text": [
      "\n",
      "Balancing dataset to 16153 samples per class...\n",
      "  angry: 7988 -> 16153\n",
      "  disgust: 983 -> 16153\n",
      "  fear: 9224 -> 16153\n",
      "  happy: 16153 -> 16153\n",
      "  neutral: 11180 -> 16153\n",
      "  sad: 11015 -> 16153\n",
      "  surprise: 7207 -> 16153\n",
      "Balanced dataset size: 113071\n",
      "\n",
      "Final balanced distribution:\n",
      "  neutral: 16153 samples\n",
      "  disgust: 16153 samples\n",
      "  happy: 16153 samples\n",
      "  angry: 16153 samples\n",
      "  surprise: 16153 samples\n",
      "  sad: 16153 samples\n",
      "  fear: 16153 samples\n",
      "Train loader batches: 1767\n",
      "Test loader batches: 111\n"
     ]
    }
   ],
   "source": [
    "balanced_train_dataset = BalancedEmotionDataset(train_dataset)\n",
    "final_distribution = Counter(balanced_train_dataset.balanced_labels)\n",
    "print(\"\\nFinal balanced distribution:\")\n",
    "\n",
    "for emotion, count in final_distribution.items():\n",
    "    print(f\"  {emotion}: {count} samples\")\n",
    "train_loader = DataLoader(\n",
    "    balanced_train_dataset, \n",
    "    batch_size=BATCH_SIZE, \n",
    "    shuffle=True, \n",
    "    num_workers=0,\n",
    "    pin_memory=True if device.type == 'cuda' else False\n",
    ")\n",
    "\n",
    "test_transform = inception_transform\n",
    "\n",
    "class TestEmotionDataset(Dataset):\n",
    "    def __init__(self, original_dataset, transform):\n",
    "        self.original_dataset = original_dataset\n",
    "        self.transform = transform\n",
    "    \n",
    "    def __len__(self):\n",
    "        return len(self.original_dataset)\n",
    "    \n",
    "    def __getitem__(self, idx):\n",
    "        img_path = self.original_dataset.image_paths[idx]\n",
    "        label = self.original_dataset.labels[idx]\n",
    "        \n",
    "        try:\n",
    "            image = Image.open(img_path).convert('RGB')\n",
    "            image = self.transform(image)\n",
    "        except Exception as e:\n",
    "            print(f\"Error loading {img_path}: {e}\")\n",
    "            dummy_image = Image.new('RGB', IMG_SIZE, (128, 128, 128))\n",
    "            image = self.transform(dummy_image)\n",
    "        \n",
    "        return image, label\n",
    "\n",
    "test_processed_dataset = TestEmotionDataset(test_dataset, test_transform)\n",
    "test_loader = DataLoader(\n",
    "    test_processed_dataset, \n",
    "    batch_size=BATCH_SIZE, \n",
    "    shuffle=False, \n",
    "    num_workers=0,\n",
    "    pin_memory=True if device.type == 'cuda' else False\n",
    ")\n",
    "\n",
    "print(f\"Train loader batches: {len(train_loader)}\")\n",
    "print(f\"Test loader batches: {len(test_loader)}\")\n"
   ]
  },
  {
   "cell_type": "code",
   "execution_count": 13,
   "id": "daa6fa5b",
   "metadata": {},
   "outputs": [],
   "source": [
    "class InceptionV3FeatureExtractor(nn.Module):\n",
    "    def __init__(self):\n",
    "        super(InceptionV3FeatureExtractor, self).__init__()\n",
    "        self.inception = inception_v3(pretrained=True, aux_logits=True)  \n",
    "        self.inception.fc = nn.Identity()\n",
    "        \n",
    "        for param in self.parameters():\n",
    "            param.requires_grad = False\n",
    "        \n",
    "        self.eval()\n",
    "\n",
    "    def forward(self, x):\n",
    "        output = self.inception(x)\n",
    "        if isinstance(output, tuple):\n",
    "            return output[0]\n",
    "        return output"
   ]
  },
  {
   "cell_type": "code",
   "execution_count": 14,
   "id": "bd9905ad",
   "metadata": {},
   "outputs": [
    {
     "name": "stdout",
     "output_type": "stream",
     "text": [
      "\n",
      "==================================================\n",
      "CREATING INCEPTIONV3 FEATURE EXTRACTOR\n",
      "==================================================\n",
      "InceptionV3 feature extractor created and moved to cuda\n",
      "Feature shape: torch.Size([2, 2048])\n",
      "Feature dimension: 2048\n"
     ]
    }
   ],
   "source": [
    "print(\"\\n\" + \"=\" * 50)\n",
    "print(\"CREATING INCEPTIONV3 FEATURE EXTRACTOR\")\n",
    "print(\"=\" * 50)\n",
    "\n",
    "feature_extractor = InceptionV3FeatureExtractor().to(device)\n",
    "print(f\"InceptionV3 feature extractor created and moved to {device}\")\n",
    "\n",
    "with torch.no_grad():\n",
    "    test_batch = torch.randn(2, 3, IMG_SIZE[0], IMG_SIZE[1]).to(device)\n",
    "    test_features = feature_extractor(test_batch)\n",
    "    print(f\"Feature shape: {test_features.shape}\")\n",
    "    feature_dim = test_features.shape[1]\n",
    "\n",
    "print(f\"Feature dimension: {feature_dim}\")"
   ]
  },
  {
   "cell_type": "code",
   "execution_count": 15,
   "id": "e266847c",
   "metadata": {},
   "outputs": [],
   "source": [
    "def extract_features_from_loader(model, dataloader, device):\n",
    "    model.eval()\n",
    "    all_features = []\n",
    "    all_labels = []\n",
    "    \n",
    "    print(f\"Processing {len(dataloader)} batches...\")\n",
    "    \n",
    "    with torch.no_grad():\n",
    "        try:\n",
    "            dataloader_iter = iter(dataloader)\n",
    "            for batch_idx in tqdm(range(len(dataloader)), desc= \"extracting\"):\n",
    "                batch = next(dataloader_iter)\n",
    "\n",
    "                if len(batch) ==2:\n",
    "                    images, labels = batch\n",
    "                else:\n",
    "                    images, labels = batch[0], batch[1]\n",
    "                \n",
    "                images = images.to(device)\n",
    "                features = model(images)\n",
    "\n",
    "                all_features.append(features.cpu().numpy())\n",
    "                all_labels.extend(labels)\n",
    "\n",
    "                if (batch_idx + 1) % 50 == 0:\n",
    "                    print(f\"processed {batch_idx + 1} batches successfully\")\n",
    "        \n",
    "        except Exception as e:\n",
    "            print(f\"error at batch {batch_idx}: {e}\")\n",
    "            if len(all_features) > 0:\n",
    "                print(\"returning partial results\")\n",
    "            else:\n",
    "                raise e\n",
    "    \n",
    "    return np.vstack(all_features), np.array(all_labels)\n",
    " "
   ]
  },
  {
   "cell_type": "code",
   "execution_count": 16,
   "id": "c72c1011",
   "metadata": {},
   "outputs": [
    {
     "name": "stdout",
     "output_type": "stream",
     "text": [
      "\n",
      "==================================================\n",
      "EXTRACTING FEATURES - TRAINING DATA\n",
      "==================================================\n",
      "Train loader length: 1767\n",
      "Feature extractor device: cuda:0\n",
      "Target device: cuda\n",
      "Processing 1767 batches...\n"
     ]
    },
    {
     "name": "stderr",
     "output_type": "stream",
     "text": [
      "extracting:   3%|▎         | 51/1767 [00:09<05:51,  4.88it/s]"
     ]
    },
    {
     "name": "stdout",
     "output_type": "stream",
     "text": [
      "processed 50 batches successfully\n"
     ]
    },
    {
     "name": "stderr",
     "output_type": "stream",
     "text": [
      "extracting:   6%|▌         | 101/1767 [00:19<06:08,  4.52it/s]"
     ]
    },
    {
     "name": "stdout",
     "output_type": "stream",
     "text": [
      "processed 100 batches successfully\n"
     ]
    },
    {
     "name": "stderr",
     "output_type": "stream",
     "text": [
      "extracting:   8%|▊         | 150/1767 [00:30<05:46,  4.67it/s]"
     ]
    },
    {
     "name": "stdout",
     "output_type": "stream",
     "text": [
      "processed 150 batches successfully\n"
     ]
    },
    {
     "name": "stderr",
     "output_type": "stream",
     "text": [
      "extracting:  11%|█▏        | 201/1767 [00:41<05:15,  4.96it/s]"
     ]
    },
    {
     "name": "stdout",
     "output_type": "stream",
     "text": [
      "processed 200 batches successfully\n"
     ]
    },
    {
     "name": "stderr",
     "output_type": "stream",
     "text": [
      "extracting:  14%|█▍        | 251/1767 [00:51<05:29,  4.60it/s]"
     ]
    },
    {
     "name": "stdout",
     "output_type": "stream",
     "text": [
      "processed 250 batches successfully\n"
     ]
    },
    {
     "name": "stderr",
     "output_type": "stream",
     "text": [
      "extracting:  17%|█▋        | 300/1767 [01:02<05:27,  4.47it/s]"
     ]
    },
    {
     "name": "stdout",
     "output_type": "stream",
     "text": [
      "processed 300 batches successfully\n"
     ]
    },
    {
     "name": "stderr",
     "output_type": "stream",
     "text": [
      "extracting:  20%|█▉        | 351/1767 [01:13<04:59,  4.74it/s]"
     ]
    },
    {
     "name": "stdout",
     "output_type": "stream",
     "text": [
      "processed 350 batches successfully\n"
     ]
    },
    {
     "name": "stderr",
     "output_type": "stream",
     "text": [
      "extracting:  23%|██▎       | 400/1767 [01:24<04:53,  4.66it/s]"
     ]
    },
    {
     "name": "stdout",
     "output_type": "stream",
     "text": [
      "processed 400 batches successfully\n"
     ]
    },
    {
     "name": "stderr",
     "output_type": "stream",
     "text": [
      "extracting:  25%|██▌       | 450/1767 [01:35<04:53,  4.49it/s]"
     ]
    },
    {
     "name": "stdout",
     "output_type": "stream",
     "text": [
      "processed 450 batches successfully\n"
     ]
    },
    {
     "name": "stderr",
     "output_type": "stream",
     "text": [
      "extracting:  28%|██▊       | 500/1767 [01:46<04:33,  4.63it/s]"
     ]
    },
    {
     "name": "stdout",
     "output_type": "stream",
     "text": [
      "processed 500 batches successfully\n"
     ]
    },
    {
     "name": "stderr",
     "output_type": "stream",
     "text": [
      "extracting:  31%|███       | 551/1767 [01:57<04:20,  4.66it/s]"
     ]
    },
    {
     "name": "stdout",
     "output_type": "stream",
     "text": [
      "processed 550 batches successfully\n"
     ]
    },
    {
     "name": "stderr",
     "output_type": "stream",
     "text": [
      "extracting:  34%|███▍      | 600/1767 [02:08<04:04,  4.78it/s]"
     ]
    },
    {
     "name": "stdout",
     "output_type": "stream",
     "text": [
      "processed 600 batches successfully\n"
     ]
    },
    {
     "name": "stderr",
     "output_type": "stream",
     "text": [
      "extracting:  37%|███▋      | 650/1767 [02:19<04:05,  4.54it/s]"
     ]
    },
    {
     "name": "stdout",
     "output_type": "stream",
     "text": [
      "processed 650 batches successfully\n"
     ]
    },
    {
     "name": "stderr",
     "output_type": "stream",
     "text": [
      "extracting:  40%|███▉      | 700/1767 [02:29<03:51,  4.61it/s]"
     ]
    },
    {
     "name": "stdout",
     "output_type": "stream",
     "text": [
      "processed 700 batches successfully\n"
     ]
    },
    {
     "name": "stderr",
     "output_type": "stream",
     "text": [
      "extracting:  42%|████▏     | 750/1767 [02:40<03:38,  4.65it/s]"
     ]
    },
    {
     "name": "stdout",
     "output_type": "stream",
     "text": [
      "processed 750 batches successfully\n"
     ]
    },
    {
     "name": "stderr",
     "output_type": "stream",
     "text": [
      "extracting:  45%|████▌     | 800/1767 [02:51<03:26,  4.68it/s]"
     ]
    },
    {
     "name": "stdout",
     "output_type": "stream",
     "text": [
      "processed 800 batches successfully\n"
     ]
    },
    {
     "name": "stderr",
     "output_type": "stream",
     "text": [
      "extracting:  48%|████▊     | 851/1767 [03:02<03:12,  4.75it/s]"
     ]
    },
    {
     "name": "stdout",
     "output_type": "stream",
     "text": [
      "processed 850 batches successfully\n"
     ]
    },
    {
     "name": "stderr",
     "output_type": "stream",
     "text": [
      "extracting:  51%|█████     | 900/1767 [03:13<03:06,  4.65it/s]"
     ]
    },
    {
     "name": "stdout",
     "output_type": "stream",
     "text": [
      "processed 900 batches successfully\n"
     ]
    },
    {
     "name": "stderr",
     "output_type": "stream",
     "text": [
      "extracting:  54%|█████▍    | 950/1767 [03:24<03:00,  4.51it/s]"
     ]
    },
    {
     "name": "stdout",
     "output_type": "stream",
     "text": [
      "processed 950 batches successfully\n"
     ]
    },
    {
     "name": "stderr",
     "output_type": "stream",
     "text": [
      "extracting:  57%|█████▋    | 1000/1767 [03:35<02:48,  4.55it/s]"
     ]
    },
    {
     "name": "stdout",
     "output_type": "stream",
     "text": [
      "processed 1000 batches successfully\n"
     ]
    },
    {
     "name": "stderr",
     "output_type": "stream",
     "text": [
      "extracting:  59%|█████▉    | 1050/1767 [03:46<02:31,  4.72it/s]"
     ]
    },
    {
     "name": "stdout",
     "output_type": "stream",
     "text": [
      "processed 1050 batches successfully\n"
     ]
    },
    {
     "name": "stderr",
     "output_type": "stream",
     "text": [
      "extracting:  62%|██████▏   | 1100/1767 [03:57<02:23,  4.64it/s]"
     ]
    },
    {
     "name": "stdout",
     "output_type": "stream",
     "text": [
      "processed 1100 batches successfully\n"
     ]
    },
    {
     "name": "stderr",
     "output_type": "stream",
     "text": [
      "extracting:  65%|██████▌   | 1151/1767 [04:08<02:12,  4.64it/s]"
     ]
    },
    {
     "name": "stdout",
     "output_type": "stream",
     "text": [
      "processed 1150 batches successfully\n"
     ]
    },
    {
     "name": "stderr",
     "output_type": "stream",
     "text": [
      "extracting:  68%|██████▊   | 1200/1767 [04:18<02:01,  4.66it/s]"
     ]
    },
    {
     "name": "stdout",
     "output_type": "stream",
     "text": [
      "processed 1200 batches successfully\n"
     ]
    },
    {
     "name": "stderr",
     "output_type": "stream",
     "text": [
      "extracting:  71%|███████   | 1250/1767 [04:29<02:01,  4.24it/s]"
     ]
    },
    {
     "name": "stdout",
     "output_type": "stream",
     "text": [
      "processed 1250 batches successfully\n"
     ]
    },
    {
     "name": "stderr",
     "output_type": "stream",
     "text": [
      "extracting:  74%|███████▎  | 1300/1767 [04:40<01:40,  4.64it/s]"
     ]
    },
    {
     "name": "stdout",
     "output_type": "stream",
     "text": [
      "processed 1300 batches successfully\n"
     ]
    },
    {
     "name": "stderr",
     "output_type": "stream",
     "text": [
      "extracting:  76%|███████▋  | 1350/1767 [04:51<01:33,  4.47it/s]"
     ]
    },
    {
     "name": "stdout",
     "output_type": "stream",
     "text": [
      "processed 1350 batches successfully\n"
     ]
    },
    {
     "name": "stderr",
     "output_type": "stream",
     "text": [
      "extracting:  79%|███████▉  | 1401/1767 [05:03<01:18,  4.66it/s]"
     ]
    },
    {
     "name": "stdout",
     "output_type": "stream",
     "text": [
      "processed 1400 batches successfully\n"
     ]
    },
    {
     "name": "stderr",
     "output_type": "stream",
     "text": [
      "extracting:  82%|████████▏ | 1450/1767 [05:14<01:12,  4.34it/s]"
     ]
    },
    {
     "name": "stdout",
     "output_type": "stream",
     "text": [
      "processed 1450 batches successfully\n"
     ]
    },
    {
     "name": "stderr",
     "output_type": "stream",
     "text": [
      "extracting:  85%|████████▍ | 1500/1767 [05:25<00:55,  4.85it/s]"
     ]
    },
    {
     "name": "stdout",
     "output_type": "stream",
     "text": [
      "processed 1500 batches successfully\n"
     ]
    },
    {
     "name": "stderr",
     "output_type": "stream",
     "text": [
      "extracting:  88%|████████▊ | 1551/1767 [05:36<00:46,  4.64it/s]"
     ]
    },
    {
     "name": "stdout",
     "output_type": "stream",
     "text": [
      "processed 1550 batches successfully\n"
     ]
    },
    {
     "name": "stderr",
     "output_type": "stream",
     "text": [
      "extracting:  91%|█████████ | 1600/1767 [05:46<00:35,  4.65it/s]"
     ]
    },
    {
     "name": "stdout",
     "output_type": "stream",
     "text": [
      "processed 1600 batches successfully\n"
     ]
    },
    {
     "name": "stderr",
     "output_type": "stream",
     "text": [
      "extracting:  93%|█████████▎| 1650/1767 [05:57<00:24,  4.69it/s]"
     ]
    },
    {
     "name": "stdout",
     "output_type": "stream",
     "text": [
      "processed 1650 batches successfully\n"
     ]
    },
    {
     "name": "stderr",
     "output_type": "stream",
     "text": [
      "extracting:  96%|█████████▌| 1700/1767 [06:08<00:14,  4.62it/s]"
     ]
    },
    {
     "name": "stdout",
     "output_type": "stream",
     "text": [
      "processed 1700 batches successfully\n"
     ]
    },
    {
     "name": "stderr",
     "output_type": "stream",
     "text": [
      "extracting:  99%|█████████▉| 1750/1767 [06:19<00:03,  4.53it/s]"
     ]
    },
    {
     "name": "stdout",
     "output_type": "stream",
     "text": [
      "processed 1750 batches successfully\n"
     ]
    },
    {
     "name": "stderr",
     "output_type": "stream",
     "text": [
      "extracting: 100%|██████████| 1767/1767 [06:22<00:00,  4.61it/s]\n"
     ]
    },
    {
     "name": "stdout",
     "output_type": "stream",
     "text": [
      "\n",
      "==================================================\n",
      "EXTRACTING FEATURES - TESTING DATA\n",
      "==================================================\n",
      "Test loader length: 111\n",
      "Processing 111 batches...\n"
     ]
    },
    {
     "name": "stderr",
     "output_type": "stream",
     "text": [
      "extracting:  46%|████▌     | 51/111 [00:06<00:07,  8.15it/s]"
     ]
    },
    {
     "name": "stdout",
     "output_type": "stream",
     "text": [
      "processed 50 batches successfully\n"
     ]
    },
    {
     "name": "stderr",
     "output_type": "stream",
     "text": [
      "extracting:  91%|█████████ | 101/111 [00:12<00:01,  9.33it/s]"
     ]
    },
    {
     "name": "stdout",
     "output_type": "stream",
     "text": [
      "processed 100 batches successfully\n"
     ]
    },
    {
     "name": "stderr",
     "output_type": "stream",
     "text": [
      "extracting: 100%|██████████| 111/111 [00:13<00:00,  8.44it/s]"
     ]
    },
    {
     "name": "stdout",
     "output_type": "stream",
     "text": [
      "\n",
      "Feature extraction completed!\n",
      "Training features shape: (113071, 2048)\n",
      "Testing features shape: (7066, 2048)\n",
      "Training labels shape: (113071,)\n",
      "Testing labels shape: (7066,)\n"
     ]
    },
    {
     "name": "stderr",
     "output_type": "stream",
     "text": [
      "\n"
     ]
    }
   ],
   "source": [
    "print(\"\\n\" + \"=\" * 50)\n",
    "print(\"EXTRACTING FEATURES - TRAINING DATA\")\n",
    "print(\"=\" * 50)\n",
    "\n",
    "print(f\"Train loader length: {len(train_loader)}\")\n",
    "print(f\"Feature extractor device: {next(feature_extractor.parameters()).device}\")\n",
    "print(f\"Target device: {device}\")\n",
    "\n",
    "X_train_features, y_train_labels = extract_features_from_loader(\n",
    "    feature_extractor, train_loader, device\n",
    ")\n",
    "\n",
    "print(\"\\n\" + \"=\" * 50)\n",
    "print(\"EXTRACTING FEATURES - TESTING DATA\")\n",
    "print(\"=\" * 50)\n",
    "\n",
    "print(f\"Test loader length: {len(test_loader)}\")\n",
    "X_test_features, y_test_labels = extract_features_from_loader(\n",
    "    feature_extractor, test_loader, device\n",
    ")\n",
    "\n",
    "print(f\"\\nFeature extraction completed!\")\n",
    "print(f\"Training features shape: {X_train_features.shape}\")\n",
    "print(f\"Testing features shape: {X_test_features.shape}\")\n",
    "print(f\"Training labels shape: {y_train_labels.shape}\")\n",
    "print(f\"Testing labels shape: {y_test_labels.shape}\")"
   ]
  },
  {
   "cell_type": "code",
   "execution_count": 17,
   "id": "cff60a50",
   "metadata": {},
   "outputs": [
    {
     "name": "stdout",
     "output_type": "stream",
     "text": [
      "\n",
      "Label encoding:\n",
      "Classes: ['angry' 'disgust' 'fear' 'happy' 'neutral' 'sad' 'surprise']\n",
      "Encoded training labels shape: (113071,)\n",
      "Encoded testing labels shape: (7066,)\n"
     ]
    }
   ],
   "source": [
    "label_encoder = LabelEncoder()\n",
    "y_train_encoded = label_encoder.fit_transform(y_train_labels)\n",
    "y_test_encoded = label_encoder.transform(y_test_labels)\n",
    "\n",
    "print(f\"\\nLabel encoding:\")\n",
    "print(f\"Classes: {label_encoder.classes_}\")\n",
    "print(f\"Encoded training labels shape: {y_train_encoded.shape}\")\n",
    "print(f\"Encoded testing labels shape: {y_test_encoded.shape}\")"
   ]
  },
  {
   "cell_type": "code",
   "execution_count": 18,
   "id": "e44e04e3",
   "metadata": {},
   "outputs": [
    {
     "name": "stdout",
     "output_type": "stream",
     "text": [
      "\n",
      "==================================================\n",
      "TRAINING RANDOM FOREST CLASSIFIER\n",
      "==================================================\n",
      "Training Random Forest...\n",
      "Training on 113071 samples with 2048 features\n"
     ]
    },
    {
     "name": "stderr",
     "output_type": "stream",
     "text": [
      "[Parallel(n_jobs=-1)]: Using backend ThreadingBackend with 8 concurrent workers.\n",
      "[Parallel(n_jobs=-1)]: Done  34 tasks      | elapsed:   41.9s\n",
      "[Parallel(n_jobs=-1)]: Done 184 tasks      | elapsed:  3.3min\n"
     ]
    },
    {
     "name": "stdout",
     "output_type": "stream",
     "text": [
      "Training completed!\n"
     ]
    },
    {
     "name": "stderr",
     "output_type": "stream",
     "text": [
      "[Parallel(n_jobs=-1)]: Done 200 out of 200 | elapsed:  3.6min finished\n"
     ]
    }
   ],
   "source": [
    "print(\"\\n\" + \"=\" * 50)\n",
    "print(\"TRAINING RANDOM FOREST CLASSIFIER\")\n",
    "print(\"=\" * 50)\n",
    "\n",
    "rf_classifier = RandomForestClassifier(\n",
    "    n_estimators=200,          \n",
    "    max_depth=25,              \n",
    "    min_samples_split=5,       \n",
    "    min_samples_leaf=2,        \n",
    "    max_features='sqrt',       \n",
    "    bootstrap=True,            \n",
    "    random_state=42,           \n",
    "    n_jobs=-1,                 \n",
    "    verbose=1                  \n",
    ")\n",
    "\n",
    "print(\"Training Random Forest...\")\n",
    "print(f\"Training on {X_train_features.shape[0]} samples with {X_train_features.shape[1]} features\")\n",
    "rf_classifier.fit(X_train_features, y_train_encoded)\n",
    "print(\"Training completed!\")\n"
   ]
  },
  {
   "cell_type": "code",
   "execution_count": 25,
   "id": "bdb0d13e",
   "metadata": {},
   "outputs": [
    {
     "name": "stdout",
     "output_type": "stream",
     "text": [
      "\n",
      "============================================================\n",
      "MODEL EVALUATION\n",
      "============================================================\n",
      "Making predictions on test set...\n"
     ]
    },
    {
     "name": "stderr",
     "output_type": "stream",
     "text": [
      "[Parallel(n_jobs=8)]: Using backend ThreadingBackend with 8 concurrent workers.\n",
      "[Parallel(n_jobs=8)]: Done  34 tasks      | elapsed:    0.0s\n",
      "[Parallel(n_jobs=8)]: Done 184 tasks      | elapsed:    0.0s\n",
      "[Parallel(n_jobs=8)]: Done 200 out of 200 | elapsed:    0.1s finished\n",
      "[Parallel(n_jobs=8)]: Using backend ThreadingBackend with 8 concurrent workers.\n"
     ]
    },
    {
     "name": "stdout",
     "output_type": "stream",
     "text": [
      "\n",
      "Accuracy Score: 0.9768 (97.68%)\n",
      "F1-Score (Weighted): 0.9762\n",
      "F1-Score (Macro): 0.9759\n",
      "\n",
      "==================================================\n",
      "CLASSIFICATION REPORT\n",
      "==================================================\n",
      "              precision    recall  f1-score   support\n",
      "\n",
      "       angry     0.9964    0.8552    0.9204       960\n",
      "     disgust     0.9908    0.9730    0.9818       111\n",
      "        fear     0.9835    0.9951    0.9893      1018\n",
      "       happy     0.9656    1.0000    0.9825      1825\n",
      "     neutral     0.9750    0.9951    0.9849      1216\n",
      "         sad     0.9659    0.9956    0.9805      1139\n",
      "    surprise     0.9912    0.9925    0.9918       797\n",
      "\n",
      "    accuracy                         0.9768      7066\n",
      "   macro avg     0.9812    0.9723    0.9759      7066\n",
      "weighted avg     0.9773    0.9768    0.9762      7066\n",
      "\n"
     ]
    },
    {
     "name": "stderr",
     "output_type": "stream",
     "text": [
      "[Parallel(n_jobs=8)]: Done  34 tasks      | elapsed:    0.0s\n",
      "[Parallel(n_jobs=8)]: Done 184 tasks      | elapsed:    0.1s\n",
      "[Parallel(n_jobs=8)]: Done 200 out of 200 | elapsed:    0.1s finished\n"
     ]
    }
   ],
   "source": [
    "print(\"\\n\" + \"=\" * 60)\n",
    "print(\"MODEL EVALUATION\")\n",
    "print(\"=\" * 60)\n",
    "\n",
    "print(\"Making predictions on test set...\")\n",
    "y_pred = rf_classifier.predict(X_test_features)\n",
    "y_pred_proba = rf_classifier.predict_proba(X_test_features)\n",
    "\n",
    "accuracy = accuracy_score(y_test_encoded, y_pred)\n",
    "print(f\"\\nAccuracy Score: {accuracy:.4f} ({accuracy*100:.2f}%)\")\n",
    "\n",
    "f1_weighted = f1_score(y_test_encoded, y_pred, average='weighted')\n",
    "f1_macro = f1_score(y_test_encoded, y_pred, average='macro')\n",
    "print(f\"F1-Score (Weighted): {f1_weighted:.4f}\")\n",
    "print(f\"F1-Score (Macro): {f1_macro:.4f}\")\n",
    "\n",
    "print(\"\\n\" + \"=\" * 50)\n",
    "print(\"CLASSIFICATION REPORT\")\n",
    "print(\"=\" * 50)\n",
    "class_report = classification_report(\n",
    "    y_test_encoded, y_pred, \n",
    "    target_names=emotion_classes,\n",
    "    digits=4\n",
    ")\n",
    "print(class_report)"
   ]
  },
  {
   "cell_type": "code",
   "execution_count": 26,
   "id": "6eadca73",
   "metadata": {},
   "outputs": [
    {
     "name": "stdout",
     "output_type": "stream",
     "text": [
      "\n",
      "==================================================\n",
      "CONFUSION MATRIX\n",
      "==================================================\n",
      "Confusion Matrix (Raw Counts):\n",
      "[[ 821    1   13   51   29   39    6]\n",
      " [   0  108    0    3    0    0    0]\n",
      " [   0    0 1013    1    2    1    1]\n",
      " [   0    0    0 1825    0    0    0]\n",
      " [   0    0    0    6 1210    0    0]\n",
      " [   3    0    1    1    0 1134    0]\n",
      " [   0    0    3    3    0    0  791]]\n"
     ]
    },
    {
     "data": {
      "image/png": "[encoded data removed]",
      "text/plain": [
       "<Figure size 1200x500 with 4 Axes>"
      ]
     },
     "metadata": {},
     "output_type": "display_data"
    }
   ],
   "source": [
    "print(\"\\n\" + \"=\" * 50)\n",
    "print(\"CONFUSION MATRIX\")\n",
    "print(\"=\" * 50)\n",
    "\n",
    "cm = confusion_matrix(y_test_encoded, y_pred)\n",
    "print(\"Confusion Matrix (Raw Counts):\")\n",
    "print(cm)\n",
    "\n",
    "plt.figure(figsize=(12, 5))\n",
    "\n",
    "plt.subplot(1, 2, 1)\n",
    "sns.heatmap(cm, annot=True, fmt='d', cmap='Blues',\n",
    "            xticklabels=emotion_classes,\n",
    "            yticklabels=emotion_classes,\n",
    "            cbar_kws={'label': 'Count'})\n",
    "plt.title('Confusion Matrix - Raw Counts')\n",
    "plt.xlabel('Predicted Labels')\n",
    "plt.ylabel('True Labels')\n",
    "\n",
    "cm_normalized = confusion_matrix(y_test_encoded, y_pred, normalize='true')\n",
    "plt.subplot(1, 2, 2)\n",
    "sns.heatmap(cm_normalized, annot=True, fmt='.3f', cmap='Oranges',\n",
    "            xticklabels=emotion_classes,\n",
    "            yticklabels=emotion_classes,\n",
    "            cbar_kws={'label': 'Percentage'})\n",
    "plt.title('Confusion Matrix - Normalized')\n",
    "plt.xlabel('Predicted Labels')\n",
    "plt.ylabel('True Labels')\n",
    "\n",
    "plt.tight_layout()\n",
    "plt.show()"
   ]
  },
  {
   "cell_type": "code",
   "execution_count": 27,
   "id": "c736f02d",
   "metadata": {},
   "outputs": [
    {
     "name": "stdout",
     "output_type": "stream",
     "text": [
      "\n",
      "==================================================\n",
      "ROC AUC ANALYSIS\n",
      "==================================================\n",
      "ROC AUC Score (One-vs-Rest): 0.9988\n",
      "ROC AUC Score (One-vs-One): 0.9988\n",
      "\n",
      "ROC AUC per class (One-vs-Rest):\n",
      "     angry: 0.9941\n",
      "   disgust: 0.9999\n",
      "      fear: 0.9994\n",
      "     happy: 0.9996\n",
      "   neutral: 0.9999\n",
      "       sad: 0.9992\n",
      "  surprise: 0.9999\n"
     ]
    }
   ],
   "source": [
    "print(\"\\n\" + \"=\" * 50)\n",
    "print(\"ROC AUC ANALYSIS\")\n",
    "print(\"=\" * 50)\n",
    "\n",
    "try:\n",
    "    roc_auc_ovr = roc_auc_score(y_test_encoded, y_pred_proba, \n",
    "                               multi_class='ovr', average='weighted')\n",
    "    roc_auc_ovo = roc_auc_score(y_test_encoded, y_pred_proba, \n",
    "                               multi_class='ovo', average='weighted')\n",
    "    \n",
    "    print(f\"ROC AUC Score (One-vs-Rest): {roc_auc_ovr:.4f}\")\n",
    "    print(f\"ROC AUC Score (One-vs-One): {roc_auc_ovo:.4f}\")\n",
    "    \n",
    "    print(\"\\nROC AUC per class (One-vs-Rest):\")\n",
    "    roc_auc_per_class = roc_auc_score(y_test_encoded, y_pred_proba, \n",
    "                                     multi_class='ovr', average=None)\n",
    "    for i, emotion in enumerate(emotion_classes):\n",
    "        print(f\"  {emotion:>8}: {roc_auc_per_class[i]:.4f}\")\n",
    "\n",
    "except Exception as e:\n",
    "    print(f\"Error calculating ROC AUC: {e}\")"
   ]
  },
  {
   "cell_type": "code",
   "execution_count": 28,
   "id": "88f18a40",
   "metadata": {},
   "outputs": [
    {
     "name": "stdout",
     "output_type": "stream",
     "text": [
      "\n",
      "==================================================\n",
      "FEATURE IMPORTANCE ANALYSIS\n",
      "==================================================\n",
      "Feature importance statistics:\n",
      "  Mean: 0.000488\n",
      "  Std:  0.000196\n",
      "  Max:  0.002797\n",
      "  Min:  0.000165\n",
      "\n",
      "Top 10 most important features (indices):\n",
      "  Feature  129: 0.002797\n",
      "  Feature  753: 0.002375\n",
      "  Feature  275: 0.002308\n",
      "  Feature  118: 0.002135\n",
      "  Feature  293: 0.002001\n",
      "  Feature 1056: 0.001958\n",
      "  Feature 1058: 0.001937\n",
      "  Feature  232: 0.001908\n",
      "  Feature 1551: 0.001799\n",
      "  Feature  942: 0.001677\n"
     ]
    },
    {
     "data": {
      "image/png": "[encoded data removed]",
      "text/plain": [
       "<Figure size 1500x600 with 2 Axes>"
      ]
     },
     "metadata": {},
     "output_type": "display_data"
    }
   ],
   "source": [
    "print(\"\\n\" + \"=\" * 50)\n",
    "print(\"FEATURE IMPORTANCE ANALYSIS\")\n",
    "print(\"=\" * 50)\n",
    "\n",
    "feature_importance = rf_classifier.feature_importances_\n",
    "print(f\"Feature importance statistics:\")\n",
    "print(f\"  Mean: {np.mean(feature_importance):.6f}\")\n",
    "print(f\"  Std:  {np.std(feature_importance):.6f}\")\n",
    "print(f\"  Max:  {np.max(feature_importance):.6f}\")\n",
    "print(f\"  Min:  {np.min(feature_importance):.6f}\")\n",
    "\n",
    "print(f\"\\nTop 10 most important features (indices):\")\n",
    "top_features_idx = np.argsort(feature_importance)[-10:][::-1]\n",
    "\n",
    "for i, idx in enumerate(top_features_idx):\n",
    "    print(f\"  Feature {idx:>4}: {feature_importance[idx]:.6f}\")\n",
    "\n",
    "plt.figure(figsize=(15, 6))\n",
    "\n",
    "plt.subplot(1, 2, 1)\n",
    "plt.plot(feature_importance)\n",
    "plt.title('Feature Importance Distribution (InceptionV3 Features)')\n",
    "plt.xlabel('Feature Index')\n",
    "plt.ylabel('Importance Score')\n",
    "plt.grid(True, alpha=0.3)\n",
    "\n",
    "plt.subplot(1, 2, 2)\n",
    "plt.hist(feature_importance, bins=50, alpha=0.7, color='skyblue')\n",
    "plt.title('Feature Importance Histogram')\n",
    "plt.xlabel('Importance Score')\n",
    "plt.ylabel('Frequency')\n",
    "plt.grid(True, alpha=0.3)\n",
    "\n",
    "plt.tight_layout()\n",
    "plt.show()"
   ]
  },
  {
   "cell_type": "code",
   "execution_count": 29,
   "id": "09289255",
   "metadata": {},
   "outputs": [
    {
     "name": "stdout",
     "output_type": "stream",
     "text": [
      "\n",
      "==================================================\n",
      "CLASSIFICATION ERROR ANALYSIS\n",
      "==================================================\n",
      "Most common classification errors:\n",
      "True → Predicted : Count (Error Rate)\n",
      "----------------------------------------\n",
      "   angry → happy    :  51 (  5.3%)\n",
      "   angry → sad      :  39 (  4.1%)\n",
      "   angry → neutral  :  29 (  3.0%)\n",
      "   angry → fear     :  13 (  1.4%)\n",
      "   angry → surprise :   6 (  0.6%)\n",
      " neutral → happy    :   6 (  0.5%)\n",
      " disgust → happy    :   3 (  2.7%)\n",
      "     sad → angry    :   3 (  0.3%)\n",
      "surprise → fear     :   3 (  0.4%)\n",
      "surprise → happy    :   3 (  0.4%)\n"
     ]
    }
   ],
   "source": [
    "def analyze_classification_errors(y_true, y_pred, class_names):\n",
    "    \"\"\"\n",
    "    Analisis kesalahan klasifikasi yang paling umum\n",
    "    \"\"\"\n",
    "    print(\"\\n\" + \"=\" * 50)\n",
    "    print(\"CLASSIFICATION ERROR ANALYSIS\")\n",
    "    print(\"=\" * 50)\n",
    "    \n",
    "    cm = confusion_matrix(y_true, y_pred)\n",
    "    \n",
    "    errors = []\n",
    "    for i in range(len(class_names)):\n",
    "        for j in range(len(class_names)):\n",
    "            if i != j and cm[i][j] > 0: \n",
    "                error_rate = cm[i][j] / cm[i].sum()  \n",
    "                errors.append((class_names[i], class_names[j], cm[i][j], error_rate))\n",
    "    \n",
    "    errors.sort(key=lambda x: x[2], reverse=True)\n",
    "    \n",
    "    print(\"Most common classification errors:\")\n",
    "    print(\"True → Predicted : Count (Error Rate)\")\n",
    "    print(\"-\" * 40)\n",
    "    for true_class, pred_class, count, error_rate in errors[:10]:\n",
    "        print(f\"{true_class:>8} → {pred_class:<8} : {count:>3} ({error_rate:>6.1%})\")\n",
    "    \n",
    "    return errors\n",
    "\n",
    "classification_errors = analyze_classification_errors(\n",
    "    y_test_encoded, y_pred, emotion_classes\n",
    ")"
   ]
  },
  {
   "cell_type": "code",
   "execution_count": 24,
   "id": "c9fc74b7",
   "metadata": {},
   "outputs": [
    {
     "name": "stdout",
     "output_type": "stream",
     "text": [
      "\n",
      "==================================================\n",
      "PER-CLASS PERFORMANCE ANALYSIS\n",
      "==================================================\n",
      "Per-class metrics:\n",
      "Class     | Precision | Recall | F1-Score | Support\n",
      "--------------------------------------------------\n",
      "   angry |    0.996 |  0.855 |   0.920 |    960\n",
      " disgust |    0.991 |  0.973 |   0.982 |    111\n",
      "    fear |    0.983 |  0.995 |   0.989 |   1018\n",
      "   happy |    0.966 |  1.000 |   0.983 |   1825\n",
      " neutral |    0.975 |  0.995 |   0.985 |   1216\n",
      "     sad |    0.966 |  0.996 |   0.981 |   1139\n",
      "surprise |    0.991 |  0.992 |   0.992 |    797\n"
     ]
    }
   ],
   "source": [
    "print(\"\\n\" + \"=\" * 50)\n",
    "print(\"PER-CLASS PERFORMANCE ANALYSIS\")\n",
    "print(\"=\" * 50)\n",
    "\n",
    "from sklearn.metrics import precision_score, recall_score, f1_score\n",
    "\n",
    "precision_per_class = precision_score(y_test_encoded, y_pred, average=None)\n",
    "recall_per_class = recall_score(y_test_encoded, y_pred, average=None)\n",
    "f1_per_class = f1_score(y_test_encoded, y_pred, average=None)\n",
    "\n",
    "print(\"Per-class metrics:\")\n",
    "print(\"Class     | Precision | Recall | F1-Score | Support\")\n",
    "print(\"-\" * 50)\n",
    "\n",
    "for i, emotion in enumerate(emotion_classes):\n",
    "    support = np.sum(y_test_encoded == i)\n",
    "    print(f\"{emotion:>8} | {precision_per_class[i]:>8.3f} | {recall_per_class[i]:>6.3f} | \"\n",
    "          f\"{f1_per_class[i]:>7.3f} | {support:>6}\")"
   ]
  }
 ],
 "metadata": {
  "kernelspec": {
   "display_name": "asd",
   "language": "python",
   "name": "python3"
  },
  "language_info": {
   "codemirror_mode": {
    "name": "ipython",
    "version": 3
   },
   "file_extension": ".py",
   "mimetype": "text/x-python",
   "name": "python",
   "nbconvert_exporter": "python",
   "pygments_lexer": "ipython3",
   "version": "3.11.13"
  }
 },
 "nbformat": 4,
 "nbformat_minor": 5
}
